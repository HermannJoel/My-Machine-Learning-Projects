{
 "cells": [
  {
   "cell_type": "markdown",
   "metadata": {},
   "source": [
    "# TOPIC 4:Fraud Detection_1\n",
    "# KNN CLASSIFIER\n",
    "In this project, we will use data set sourced by ULB machine learning group and provided by Kaggle to build and implement a KNN classifier that will classify with high accuracy credit card transactions as non-fraud or fraudulent transactions.<br>\n",
    "The data set can be found here https://www.kaggle.com/mlg-ulb/creditcardfraud<br>"
   ]
  },
  {
   "cell_type": "code",
   "execution_count": 2,
   "metadata": {},
   "outputs": [],
   "source": [
    "import pandas as pd\n",
    "import numpy as np\n",
    "import matplotlib.pyplot as plt\n",
    "import seaborn as sns\n",
    "sns.set()\n",
    "sns.set(rc={'figure.figsize':(10,5)})"
   ]
  },
  {
   "cell_type": "code",
   "execution_count": 3,
   "metadata": {},
   "outputs": [],
   "source": [
    "#To display all columns name\n",
    "pd.options.display.max_columns = None\n",
    "#pd.options.display.max_columns = 10"
   ]
  },
  {
   "cell_type": "code",
   "execution_count": 4,
   "metadata": {},
   "outputs": [
    {
     "name": "stdout",
     "output_type": "stream",
     "text": [
      "There are 284807 rows and 31 columns in the dataset\n"
     ]
    },
    {
     "data": {
      "text/html": [
       "<div>\n",
       "<style scoped>\n",
       "    .dataframe tbody tr th:only-of-type {\n",
       "        vertical-align: middle;\n",
       "    }\n",
       "\n",
       "    .dataframe tbody tr th {\n",
       "        vertical-align: top;\n",
       "    }\n",
       "\n",
       "    .dataframe thead th {\n",
       "        text-align: right;\n",
       "    }\n",
       "</style>\n",
       "<table border=\"1\" class=\"dataframe\">\n",
       "  <thead>\n",
       "    <tr style=\"text-align: right;\">\n",
       "      <th></th>\n",
       "      <th>Time</th>\n",
       "      <th>V1</th>\n",
       "      <th>V2</th>\n",
       "      <th>V3</th>\n",
       "      <th>V4</th>\n",
       "      <th>V5</th>\n",
       "      <th>V6</th>\n",
       "      <th>V7</th>\n",
       "      <th>V8</th>\n",
       "      <th>V9</th>\n",
       "      <th>V10</th>\n",
       "      <th>V11</th>\n",
       "      <th>V12</th>\n",
       "      <th>V13</th>\n",
       "      <th>V14</th>\n",
       "      <th>V15</th>\n",
       "      <th>V16</th>\n",
       "      <th>V17</th>\n",
       "      <th>V18</th>\n",
       "      <th>V19</th>\n",
       "      <th>V20</th>\n",
       "      <th>V21</th>\n",
       "      <th>V22</th>\n",
       "      <th>V23</th>\n",
       "      <th>V24</th>\n",
       "      <th>V25</th>\n",
       "      <th>V26</th>\n",
       "      <th>V27</th>\n",
       "      <th>V28</th>\n",
       "      <th>Amount</th>\n",
       "      <th>Class</th>\n",
       "    </tr>\n",
       "  </thead>\n",
       "  <tbody>\n",
       "    <tr>\n",
       "      <th>0</th>\n",
       "      <td>0.0</td>\n",
       "      <td>-1.359807</td>\n",
       "      <td>-0.072781</td>\n",
       "      <td>2.536347</td>\n",
       "      <td>1.378155</td>\n",
       "      <td>-0.338321</td>\n",
       "      <td>0.462388</td>\n",
       "      <td>0.239599</td>\n",
       "      <td>0.098698</td>\n",
       "      <td>0.363787</td>\n",
       "      <td>0.090794</td>\n",
       "      <td>-0.551600</td>\n",
       "      <td>-0.617801</td>\n",
       "      <td>-0.991390</td>\n",
       "      <td>-0.311169</td>\n",
       "      <td>1.468177</td>\n",
       "      <td>-0.470401</td>\n",
       "      <td>0.207971</td>\n",
       "      <td>0.025791</td>\n",
       "      <td>0.403993</td>\n",
       "      <td>0.251412</td>\n",
       "      <td>-0.018307</td>\n",
       "      <td>0.277838</td>\n",
       "      <td>-0.110474</td>\n",
       "      <td>0.066928</td>\n",
       "      <td>0.128539</td>\n",
       "      <td>-0.189115</td>\n",
       "      <td>0.133558</td>\n",
       "      <td>-0.021053</td>\n",
       "      <td>149.62</td>\n",
       "      <td>0</td>\n",
       "    </tr>\n",
       "    <tr>\n",
       "      <th>1</th>\n",
       "      <td>0.0</td>\n",
       "      <td>1.191857</td>\n",
       "      <td>0.266151</td>\n",
       "      <td>0.166480</td>\n",
       "      <td>0.448154</td>\n",
       "      <td>0.060018</td>\n",
       "      <td>-0.082361</td>\n",
       "      <td>-0.078803</td>\n",
       "      <td>0.085102</td>\n",
       "      <td>-0.255425</td>\n",
       "      <td>-0.166974</td>\n",
       "      <td>1.612727</td>\n",
       "      <td>1.065235</td>\n",
       "      <td>0.489095</td>\n",
       "      <td>-0.143772</td>\n",
       "      <td>0.635558</td>\n",
       "      <td>0.463917</td>\n",
       "      <td>-0.114805</td>\n",
       "      <td>-0.183361</td>\n",
       "      <td>-0.145783</td>\n",
       "      <td>-0.069083</td>\n",
       "      <td>-0.225775</td>\n",
       "      <td>-0.638672</td>\n",
       "      <td>0.101288</td>\n",
       "      <td>-0.339846</td>\n",
       "      <td>0.167170</td>\n",
       "      <td>0.125895</td>\n",
       "      <td>-0.008983</td>\n",
       "      <td>0.014724</td>\n",
       "      <td>2.69</td>\n",
       "      <td>0</td>\n",
       "    </tr>\n",
       "    <tr>\n",
       "      <th>2</th>\n",
       "      <td>1.0</td>\n",
       "      <td>-1.358354</td>\n",
       "      <td>-1.340163</td>\n",
       "      <td>1.773209</td>\n",
       "      <td>0.379780</td>\n",
       "      <td>-0.503198</td>\n",
       "      <td>1.800499</td>\n",
       "      <td>0.791461</td>\n",
       "      <td>0.247676</td>\n",
       "      <td>-1.514654</td>\n",
       "      <td>0.207643</td>\n",
       "      <td>0.624501</td>\n",
       "      <td>0.066084</td>\n",
       "      <td>0.717293</td>\n",
       "      <td>-0.165946</td>\n",
       "      <td>2.345865</td>\n",
       "      <td>-2.890083</td>\n",
       "      <td>1.109969</td>\n",
       "      <td>-0.121359</td>\n",
       "      <td>-2.261857</td>\n",
       "      <td>0.524980</td>\n",
       "      <td>0.247998</td>\n",
       "      <td>0.771679</td>\n",
       "      <td>0.909412</td>\n",
       "      <td>-0.689281</td>\n",
       "      <td>-0.327642</td>\n",
       "      <td>-0.139097</td>\n",
       "      <td>-0.055353</td>\n",
       "      <td>-0.059752</td>\n",
       "      <td>378.66</td>\n",
       "      <td>0</td>\n",
       "    </tr>\n",
       "    <tr>\n",
       "      <th>3</th>\n",
       "      <td>1.0</td>\n",
       "      <td>-0.966272</td>\n",
       "      <td>-0.185226</td>\n",
       "      <td>1.792993</td>\n",
       "      <td>-0.863291</td>\n",
       "      <td>-0.010309</td>\n",
       "      <td>1.247203</td>\n",
       "      <td>0.237609</td>\n",
       "      <td>0.377436</td>\n",
       "      <td>-1.387024</td>\n",
       "      <td>-0.054952</td>\n",
       "      <td>-0.226487</td>\n",
       "      <td>0.178228</td>\n",
       "      <td>0.507757</td>\n",
       "      <td>-0.287924</td>\n",
       "      <td>-0.631418</td>\n",
       "      <td>-1.059647</td>\n",
       "      <td>-0.684093</td>\n",
       "      <td>1.965775</td>\n",
       "      <td>-1.232622</td>\n",
       "      <td>-0.208038</td>\n",
       "      <td>-0.108300</td>\n",
       "      <td>0.005274</td>\n",
       "      <td>-0.190321</td>\n",
       "      <td>-1.175575</td>\n",
       "      <td>0.647376</td>\n",
       "      <td>-0.221929</td>\n",
       "      <td>0.062723</td>\n",
       "      <td>0.061458</td>\n",
       "      <td>123.50</td>\n",
       "      <td>0</td>\n",
       "    </tr>\n",
       "    <tr>\n",
       "      <th>4</th>\n",
       "      <td>2.0</td>\n",
       "      <td>-1.158233</td>\n",
       "      <td>0.877737</td>\n",
       "      <td>1.548718</td>\n",
       "      <td>0.403034</td>\n",
       "      <td>-0.407193</td>\n",
       "      <td>0.095921</td>\n",
       "      <td>0.592941</td>\n",
       "      <td>-0.270533</td>\n",
       "      <td>0.817739</td>\n",
       "      <td>0.753074</td>\n",
       "      <td>-0.822843</td>\n",
       "      <td>0.538196</td>\n",
       "      <td>1.345852</td>\n",
       "      <td>-1.119670</td>\n",
       "      <td>0.175121</td>\n",
       "      <td>-0.451449</td>\n",
       "      <td>-0.237033</td>\n",
       "      <td>-0.038195</td>\n",
       "      <td>0.803487</td>\n",
       "      <td>0.408542</td>\n",
       "      <td>-0.009431</td>\n",
       "      <td>0.798278</td>\n",
       "      <td>-0.137458</td>\n",
       "      <td>0.141267</td>\n",
       "      <td>-0.206010</td>\n",
       "      <td>0.502292</td>\n",
       "      <td>0.219422</td>\n",
       "      <td>0.215153</td>\n",
       "      <td>69.99</td>\n",
       "      <td>0</td>\n",
       "    </tr>\n",
       "  </tbody>\n",
       "</table>\n",
       "</div>"
      ],
      "text/plain": [
       "   Time        V1        V2        V3        V4        V5        V6        V7  \\\n",
       "0   0.0 -1.359807 -0.072781  2.536347  1.378155 -0.338321  0.462388  0.239599   \n",
       "1   0.0  1.191857  0.266151  0.166480  0.448154  0.060018 -0.082361 -0.078803   \n",
       "2   1.0 -1.358354 -1.340163  1.773209  0.379780 -0.503198  1.800499  0.791461   \n",
       "3   1.0 -0.966272 -0.185226  1.792993 -0.863291 -0.010309  1.247203  0.237609   \n",
       "4   2.0 -1.158233  0.877737  1.548718  0.403034 -0.407193  0.095921  0.592941   \n",
       "\n",
       "         V8        V9       V10       V11       V12       V13       V14  \\\n",
       "0  0.098698  0.363787  0.090794 -0.551600 -0.617801 -0.991390 -0.311169   \n",
       "1  0.085102 -0.255425 -0.166974  1.612727  1.065235  0.489095 -0.143772   \n",
       "2  0.247676 -1.514654  0.207643  0.624501  0.066084  0.717293 -0.165946   \n",
       "3  0.377436 -1.387024 -0.054952 -0.226487  0.178228  0.507757 -0.287924   \n",
       "4 -0.270533  0.817739  0.753074 -0.822843  0.538196  1.345852 -1.119670   \n",
       "\n",
       "        V15       V16       V17       V18       V19       V20       V21  \\\n",
       "0  1.468177 -0.470401  0.207971  0.025791  0.403993  0.251412 -0.018307   \n",
       "1  0.635558  0.463917 -0.114805 -0.183361 -0.145783 -0.069083 -0.225775   \n",
       "2  2.345865 -2.890083  1.109969 -0.121359 -2.261857  0.524980  0.247998   \n",
       "3 -0.631418 -1.059647 -0.684093  1.965775 -1.232622 -0.208038 -0.108300   \n",
       "4  0.175121 -0.451449 -0.237033 -0.038195  0.803487  0.408542 -0.009431   \n",
       "\n",
       "        V22       V23       V24       V25       V26       V27       V28  \\\n",
       "0  0.277838 -0.110474  0.066928  0.128539 -0.189115  0.133558 -0.021053   \n",
       "1 -0.638672  0.101288 -0.339846  0.167170  0.125895 -0.008983  0.014724   \n",
       "2  0.771679  0.909412 -0.689281 -0.327642 -0.139097 -0.055353 -0.059752   \n",
       "3  0.005274 -0.190321 -1.175575  0.647376 -0.221929  0.062723  0.061458   \n",
       "4  0.798278 -0.137458  0.141267 -0.206010  0.502292  0.219422  0.215153   \n",
       "\n",
       "   Amount  Class  \n",
       "0  149.62      0  \n",
       "1    2.69      0  \n",
       "2  378.66      0  \n",
       "3  123.50      0  \n",
       "4   69.99      0  "
      ]
     },
     "execution_count": 4,
     "metadata": {},
     "output_type": "execute_result"
    }
   ],
   "source": [
    "credit_card_back_up = pd.read_csv(r\"D:\\DataBases\\DataSets\\creditcard.csv\")\n",
    "df_shape = (credit_card_back_up.shape)\n",
    "credit_card = credit_card_back_up.copy()\n",
    "print(f\"There are {df_shape[0]} rows and {df_shape[1]} columns in the dataset\")\n",
    "credit_card.head()"
   ]
  },
  {
   "cell_type": "code",
   "execution_count": 90,
   "metadata": {},
   "outputs": [
    {
     "data": {
      "text/html": [
       "<div>\n",
       "<style scoped>\n",
       "    .dataframe tbody tr th:only-of-type {\n",
       "        vertical-align: middle;\n",
       "    }\n",
       "\n",
       "    .dataframe tbody tr th {\n",
       "        vertical-align: top;\n",
       "    }\n",
       "\n",
       "    .dataframe thead th {\n",
       "        text-align: right;\n",
       "    }\n",
       "</style>\n",
       "<table border=\"1\" class=\"dataframe\">\n",
       "  <thead>\n",
       "    <tr style=\"text-align: right;\">\n",
       "      <th></th>\n",
       "      <th>Time</th>\n",
       "      <th>V1</th>\n",
       "      <th>V2</th>\n",
       "      <th>V3</th>\n",
       "      <th>V4</th>\n",
       "      <th>V5</th>\n",
       "      <th>V6</th>\n",
       "      <th>V7</th>\n",
       "      <th>V8</th>\n",
       "      <th>V9</th>\n",
       "      <th>V10</th>\n",
       "      <th>V11</th>\n",
       "      <th>V12</th>\n",
       "      <th>V13</th>\n",
       "      <th>V14</th>\n",
       "      <th>V15</th>\n",
       "      <th>V16</th>\n",
       "      <th>V17</th>\n",
       "      <th>V18</th>\n",
       "      <th>V19</th>\n",
       "      <th>V20</th>\n",
       "      <th>V21</th>\n",
       "      <th>V22</th>\n",
       "      <th>V23</th>\n",
       "      <th>V24</th>\n",
       "      <th>V25</th>\n",
       "      <th>V26</th>\n",
       "      <th>V27</th>\n",
       "      <th>V28</th>\n",
       "      <th>Amount</th>\n",
       "      <th>Class</th>\n",
       "    </tr>\n",
       "  </thead>\n",
       "  <tbody>\n",
       "    <tr>\n",
       "      <th>count</th>\n",
       "      <td>284807.000000</td>\n",
       "      <td>2.848070e+05</td>\n",
       "      <td>2.848070e+05</td>\n",
       "      <td>2.848070e+05</td>\n",
       "      <td>2.848070e+05</td>\n",
       "      <td>2.848070e+05</td>\n",
       "      <td>2.848070e+05</td>\n",
       "      <td>2.848070e+05</td>\n",
       "      <td>2.848070e+05</td>\n",
       "      <td>2.848070e+05</td>\n",
       "      <td>2.848070e+05</td>\n",
       "      <td>2.848070e+05</td>\n",
       "      <td>2.848070e+05</td>\n",
       "      <td>2.848070e+05</td>\n",
       "      <td>2.848070e+05</td>\n",
       "      <td>2.848070e+05</td>\n",
       "      <td>2.848070e+05</td>\n",
       "      <td>2.848070e+05</td>\n",
       "      <td>2.848070e+05</td>\n",
       "      <td>2.848070e+05</td>\n",
       "      <td>2.848070e+05</td>\n",
       "      <td>2.848070e+05</td>\n",
       "      <td>2.848070e+05</td>\n",
       "      <td>2.848070e+05</td>\n",
       "      <td>2.848070e+05</td>\n",
       "      <td>2.848070e+05</td>\n",
       "      <td>2.848070e+05</td>\n",
       "      <td>2.848070e+05</td>\n",
       "      <td>2.848070e+05</td>\n",
       "      <td>284807.000000</td>\n",
       "      <td>284807.000000</td>\n",
       "    </tr>\n",
       "    <tr>\n",
       "      <th>mean</th>\n",
       "      <td>94813.859575</td>\n",
       "      <td>3.919560e-15</td>\n",
       "      <td>5.688174e-16</td>\n",
       "      <td>-8.769071e-15</td>\n",
       "      <td>2.782312e-15</td>\n",
       "      <td>-1.552563e-15</td>\n",
       "      <td>2.010663e-15</td>\n",
       "      <td>-1.694249e-15</td>\n",
       "      <td>-1.927028e-16</td>\n",
       "      <td>-3.137024e-15</td>\n",
       "      <td>1.768627e-15</td>\n",
       "      <td>9.170318e-16</td>\n",
       "      <td>-1.810658e-15</td>\n",
       "      <td>1.693438e-15</td>\n",
       "      <td>1.479045e-15</td>\n",
       "      <td>3.482336e-15</td>\n",
       "      <td>1.392007e-15</td>\n",
       "      <td>-7.528491e-16</td>\n",
       "      <td>4.328772e-16</td>\n",
       "      <td>9.049732e-16</td>\n",
       "      <td>5.085503e-16</td>\n",
       "      <td>1.537294e-16</td>\n",
       "      <td>7.959909e-16</td>\n",
       "      <td>5.367590e-16</td>\n",
       "      <td>4.458112e-15</td>\n",
       "      <td>1.453003e-15</td>\n",
       "      <td>1.699104e-15</td>\n",
       "      <td>-3.660161e-16</td>\n",
       "      <td>-1.206049e-16</td>\n",
       "      <td>88.349619</td>\n",
       "      <td>0.001727</td>\n",
       "    </tr>\n",
       "    <tr>\n",
       "      <th>std</th>\n",
       "      <td>47488.145955</td>\n",
       "      <td>1.958696e+00</td>\n",
       "      <td>1.651309e+00</td>\n",
       "      <td>1.516255e+00</td>\n",
       "      <td>1.415869e+00</td>\n",
       "      <td>1.380247e+00</td>\n",
       "      <td>1.332271e+00</td>\n",
       "      <td>1.237094e+00</td>\n",
       "      <td>1.194353e+00</td>\n",
       "      <td>1.098632e+00</td>\n",
       "      <td>1.088850e+00</td>\n",
       "      <td>1.020713e+00</td>\n",
       "      <td>9.992014e-01</td>\n",
       "      <td>9.952742e-01</td>\n",
       "      <td>9.585956e-01</td>\n",
       "      <td>9.153160e-01</td>\n",
       "      <td>8.762529e-01</td>\n",
       "      <td>8.493371e-01</td>\n",
       "      <td>8.381762e-01</td>\n",
       "      <td>8.140405e-01</td>\n",
       "      <td>7.709250e-01</td>\n",
       "      <td>7.345240e-01</td>\n",
       "      <td>7.257016e-01</td>\n",
       "      <td>6.244603e-01</td>\n",
       "      <td>6.056471e-01</td>\n",
       "      <td>5.212781e-01</td>\n",
       "      <td>4.822270e-01</td>\n",
       "      <td>4.036325e-01</td>\n",
       "      <td>3.300833e-01</td>\n",
       "      <td>250.120109</td>\n",
       "      <td>0.041527</td>\n",
       "    </tr>\n",
       "    <tr>\n",
       "      <th>min</th>\n",
       "      <td>0.000000</td>\n",
       "      <td>-5.640751e+01</td>\n",
       "      <td>-7.271573e+01</td>\n",
       "      <td>-4.832559e+01</td>\n",
       "      <td>-5.683171e+00</td>\n",
       "      <td>-1.137433e+02</td>\n",
       "      <td>-2.616051e+01</td>\n",
       "      <td>-4.355724e+01</td>\n",
       "      <td>-7.321672e+01</td>\n",
       "      <td>-1.343407e+01</td>\n",
       "      <td>-2.458826e+01</td>\n",
       "      <td>-4.797473e+00</td>\n",
       "      <td>-1.868371e+01</td>\n",
       "      <td>-5.791881e+00</td>\n",
       "      <td>-1.921433e+01</td>\n",
       "      <td>-4.498945e+00</td>\n",
       "      <td>-1.412985e+01</td>\n",
       "      <td>-2.516280e+01</td>\n",
       "      <td>-9.498746e+00</td>\n",
       "      <td>-7.213527e+00</td>\n",
       "      <td>-5.449772e+01</td>\n",
       "      <td>-3.483038e+01</td>\n",
       "      <td>-1.093314e+01</td>\n",
       "      <td>-4.480774e+01</td>\n",
       "      <td>-2.836627e+00</td>\n",
       "      <td>-1.029540e+01</td>\n",
       "      <td>-2.604551e+00</td>\n",
       "      <td>-2.256568e+01</td>\n",
       "      <td>-1.543008e+01</td>\n",
       "      <td>0.000000</td>\n",
       "      <td>0.000000</td>\n",
       "    </tr>\n",
       "    <tr>\n",
       "      <th>25%</th>\n",
       "      <td>54201.500000</td>\n",
       "      <td>-9.203734e-01</td>\n",
       "      <td>-5.985499e-01</td>\n",
       "      <td>-8.903648e-01</td>\n",
       "      <td>-8.486401e-01</td>\n",
       "      <td>-6.915971e-01</td>\n",
       "      <td>-7.682956e-01</td>\n",
       "      <td>-5.540759e-01</td>\n",
       "      <td>-2.086297e-01</td>\n",
       "      <td>-6.430976e-01</td>\n",
       "      <td>-5.354257e-01</td>\n",
       "      <td>-7.624942e-01</td>\n",
       "      <td>-4.055715e-01</td>\n",
       "      <td>-6.485393e-01</td>\n",
       "      <td>-4.255740e-01</td>\n",
       "      <td>-5.828843e-01</td>\n",
       "      <td>-4.680368e-01</td>\n",
       "      <td>-4.837483e-01</td>\n",
       "      <td>-4.988498e-01</td>\n",
       "      <td>-4.562989e-01</td>\n",
       "      <td>-2.117214e-01</td>\n",
       "      <td>-2.283949e-01</td>\n",
       "      <td>-5.423504e-01</td>\n",
       "      <td>-1.618463e-01</td>\n",
       "      <td>-3.545861e-01</td>\n",
       "      <td>-3.171451e-01</td>\n",
       "      <td>-3.269839e-01</td>\n",
       "      <td>-7.083953e-02</td>\n",
       "      <td>-5.295979e-02</td>\n",
       "      <td>5.600000</td>\n",
       "      <td>0.000000</td>\n",
       "    </tr>\n",
       "    <tr>\n",
       "      <th>50%</th>\n",
       "      <td>84692.000000</td>\n",
       "      <td>1.810880e-02</td>\n",
       "      <td>6.548556e-02</td>\n",
       "      <td>1.798463e-01</td>\n",
       "      <td>-1.984653e-02</td>\n",
       "      <td>-5.433583e-02</td>\n",
       "      <td>-2.741871e-01</td>\n",
       "      <td>4.010308e-02</td>\n",
       "      <td>2.235804e-02</td>\n",
       "      <td>-5.142873e-02</td>\n",
       "      <td>-9.291738e-02</td>\n",
       "      <td>-3.275735e-02</td>\n",
       "      <td>1.400326e-01</td>\n",
       "      <td>-1.356806e-02</td>\n",
       "      <td>5.060132e-02</td>\n",
       "      <td>4.807155e-02</td>\n",
       "      <td>6.641332e-02</td>\n",
       "      <td>-6.567575e-02</td>\n",
       "      <td>-3.636312e-03</td>\n",
       "      <td>3.734823e-03</td>\n",
       "      <td>-6.248109e-02</td>\n",
       "      <td>-2.945017e-02</td>\n",
       "      <td>6.781943e-03</td>\n",
       "      <td>-1.119293e-02</td>\n",
       "      <td>4.097606e-02</td>\n",
       "      <td>1.659350e-02</td>\n",
       "      <td>-5.213911e-02</td>\n",
       "      <td>1.342146e-03</td>\n",
       "      <td>1.124383e-02</td>\n",
       "      <td>22.000000</td>\n",
       "      <td>0.000000</td>\n",
       "    </tr>\n",
       "    <tr>\n",
       "      <th>75%</th>\n",
       "      <td>139320.500000</td>\n",
       "      <td>1.315642e+00</td>\n",
       "      <td>8.037239e-01</td>\n",
       "      <td>1.027196e+00</td>\n",
       "      <td>7.433413e-01</td>\n",
       "      <td>6.119264e-01</td>\n",
       "      <td>3.985649e-01</td>\n",
       "      <td>5.704361e-01</td>\n",
       "      <td>3.273459e-01</td>\n",
       "      <td>5.971390e-01</td>\n",
       "      <td>4.539234e-01</td>\n",
       "      <td>7.395934e-01</td>\n",
       "      <td>6.182380e-01</td>\n",
       "      <td>6.625050e-01</td>\n",
       "      <td>4.931498e-01</td>\n",
       "      <td>6.488208e-01</td>\n",
       "      <td>5.232963e-01</td>\n",
       "      <td>3.996750e-01</td>\n",
       "      <td>5.008067e-01</td>\n",
       "      <td>4.589494e-01</td>\n",
       "      <td>1.330408e-01</td>\n",
       "      <td>1.863772e-01</td>\n",
       "      <td>5.285536e-01</td>\n",
       "      <td>1.476421e-01</td>\n",
       "      <td>4.395266e-01</td>\n",
       "      <td>3.507156e-01</td>\n",
       "      <td>2.409522e-01</td>\n",
       "      <td>9.104512e-02</td>\n",
       "      <td>7.827995e-02</td>\n",
       "      <td>77.165000</td>\n",
       "      <td>0.000000</td>\n",
       "    </tr>\n",
       "    <tr>\n",
       "      <th>max</th>\n",
       "      <td>172792.000000</td>\n",
       "      <td>2.454930e+00</td>\n",
       "      <td>2.205773e+01</td>\n",
       "      <td>9.382558e+00</td>\n",
       "      <td>1.687534e+01</td>\n",
       "      <td>3.480167e+01</td>\n",
       "      <td>7.330163e+01</td>\n",
       "      <td>1.205895e+02</td>\n",
       "      <td>2.000721e+01</td>\n",
       "      <td>1.559499e+01</td>\n",
       "      <td>2.374514e+01</td>\n",
       "      <td>1.201891e+01</td>\n",
       "      <td>7.848392e+00</td>\n",
       "      <td>7.126883e+00</td>\n",
       "      <td>1.052677e+01</td>\n",
       "      <td>8.877742e+00</td>\n",
       "      <td>1.731511e+01</td>\n",
       "      <td>9.253526e+00</td>\n",
       "      <td>5.041069e+00</td>\n",
       "      <td>5.591971e+00</td>\n",
       "      <td>3.942090e+01</td>\n",
       "      <td>2.720284e+01</td>\n",
       "      <td>1.050309e+01</td>\n",
       "      <td>2.252841e+01</td>\n",
       "      <td>4.584549e+00</td>\n",
       "      <td>7.519589e+00</td>\n",
       "      <td>3.517346e+00</td>\n",
       "      <td>3.161220e+01</td>\n",
       "      <td>3.384781e+01</td>\n",
       "      <td>25691.160000</td>\n",
       "      <td>1.000000</td>\n",
       "    </tr>\n",
       "  </tbody>\n",
       "</table>\n",
       "</div>"
      ],
      "text/plain": [
       "                Time            V1            V2            V3            V4  \\\n",
       "count  284807.000000  2.848070e+05  2.848070e+05  2.848070e+05  2.848070e+05   \n",
       "mean    94813.859575  3.919560e-15  5.688174e-16 -8.769071e-15  2.782312e-15   \n",
       "std     47488.145955  1.958696e+00  1.651309e+00  1.516255e+00  1.415869e+00   \n",
       "min         0.000000 -5.640751e+01 -7.271573e+01 -4.832559e+01 -5.683171e+00   \n",
       "25%     54201.500000 -9.203734e-01 -5.985499e-01 -8.903648e-01 -8.486401e-01   \n",
       "50%     84692.000000  1.810880e-02  6.548556e-02  1.798463e-01 -1.984653e-02   \n",
       "75%    139320.500000  1.315642e+00  8.037239e-01  1.027196e+00  7.433413e-01   \n",
       "max    172792.000000  2.454930e+00  2.205773e+01  9.382558e+00  1.687534e+01   \n",
       "\n",
       "                 V5            V6            V7            V8            V9  \\\n",
       "count  2.848070e+05  2.848070e+05  2.848070e+05  2.848070e+05  2.848070e+05   \n",
       "mean  -1.552563e-15  2.010663e-15 -1.694249e-15 -1.927028e-16 -3.137024e-15   \n",
       "std    1.380247e+00  1.332271e+00  1.237094e+00  1.194353e+00  1.098632e+00   \n",
       "min   -1.137433e+02 -2.616051e+01 -4.355724e+01 -7.321672e+01 -1.343407e+01   \n",
       "25%   -6.915971e-01 -7.682956e-01 -5.540759e-01 -2.086297e-01 -6.430976e-01   \n",
       "50%   -5.433583e-02 -2.741871e-01  4.010308e-02  2.235804e-02 -5.142873e-02   \n",
       "75%    6.119264e-01  3.985649e-01  5.704361e-01  3.273459e-01  5.971390e-01   \n",
       "max    3.480167e+01  7.330163e+01  1.205895e+02  2.000721e+01  1.559499e+01   \n",
       "\n",
       "                V10           V11           V12           V13           V14  \\\n",
       "count  2.848070e+05  2.848070e+05  2.848070e+05  2.848070e+05  2.848070e+05   \n",
       "mean   1.768627e-15  9.170318e-16 -1.810658e-15  1.693438e-15  1.479045e-15   \n",
       "std    1.088850e+00  1.020713e+00  9.992014e-01  9.952742e-01  9.585956e-01   \n",
       "min   -2.458826e+01 -4.797473e+00 -1.868371e+01 -5.791881e+00 -1.921433e+01   \n",
       "25%   -5.354257e-01 -7.624942e-01 -4.055715e-01 -6.485393e-01 -4.255740e-01   \n",
       "50%   -9.291738e-02 -3.275735e-02  1.400326e-01 -1.356806e-02  5.060132e-02   \n",
       "75%    4.539234e-01  7.395934e-01  6.182380e-01  6.625050e-01  4.931498e-01   \n",
       "max    2.374514e+01  1.201891e+01  7.848392e+00  7.126883e+00  1.052677e+01   \n",
       "\n",
       "                V15           V16           V17           V18           V19  \\\n",
       "count  2.848070e+05  2.848070e+05  2.848070e+05  2.848070e+05  2.848070e+05   \n",
       "mean   3.482336e-15  1.392007e-15 -7.528491e-16  4.328772e-16  9.049732e-16   \n",
       "std    9.153160e-01  8.762529e-01  8.493371e-01  8.381762e-01  8.140405e-01   \n",
       "min   -4.498945e+00 -1.412985e+01 -2.516280e+01 -9.498746e+00 -7.213527e+00   \n",
       "25%   -5.828843e-01 -4.680368e-01 -4.837483e-01 -4.988498e-01 -4.562989e-01   \n",
       "50%    4.807155e-02  6.641332e-02 -6.567575e-02 -3.636312e-03  3.734823e-03   \n",
       "75%    6.488208e-01  5.232963e-01  3.996750e-01  5.008067e-01  4.589494e-01   \n",
       "max    8.877742e+00  1.731511e+01  9.253526e+00  5.041069e+00  5.591971e+00   \n",
       "\n",
       "                V20           V21           V22           V23           V24  \\\n",
       "count  2.848070e+05  2.848070e+05  2.848070e+05  2.848070e+05  2.848070e+05   \n",
       "mean   5.085503e-16  1.537294e-16  7.959909e-16  5.367590e-16  4.458112e-15   \n",
       "std    7.709250e-01  7.345240e-01  7.257016e-01  6.244603e-01  6.056471e-01   \n",
       "min   -5.449772e+01 -3.483038e+01 -1.093314e+01 -4.480774e+01 -2.836627e+00   \n",
       "25%   -2.117214e-01 -2.283949e-01 -5.423504e-01 -1.618463e-01 -3.545861e-01   \n",
       "50%   -6.248109e-02 -2.945017e-02  6.781943e-03 -1.119293e-02  4.097606e-02   \n",
       "75%    1.330408e-01  1.863772e-01  5.285536e-01  1.476421e-01  4.395266e-01   \n",
       "max    3.942090e+01  2.720284e+01  1.050309e+01  2.252841e+01  4.584549e+00   \n",
       "\n",
       "                V25           V26           V27           V28         Amount  \\\n",
       "count  2.848070e+05  2.848070e+05  2.848070e+05  2.848070e+05  284807.000000   \n",
       "mean   1.453003e-15  1.699104e-15 -3.660161e-16 -1.206049e-16      88.349619   \n",
       "std    5.212781e-01  4.822270e-01  4.036325e-01  3.300833e-01     250.120109   \n",
       "min   -1.029540e+01 -2.604551e+00 -2.256568e+01 -1.543008e+01       0.000000   \n",
       "25%   -3.171451e-01 -3.269839e-01 -7.083953e-02 -5.295979e-02       5.600000   \n",
       "50%    1.659350e-02 -5.213911e-02  1.342146e-03  1.124383e-02      22.000000   \n",
       "75%    3.507156e-01  2.409522e-01  9.104512e-02  7.827995e-02      77.165000   \n",
       "max    7.519589e+00  3.517346e+00  3.161220e+01  3.384781e+01   25691.160000   \n",
       "\n",
       "               Class  \n",
       "count  284807.000000  \n",
       "mean        0.001727  \n",
       "std         0.041527  \n",
       "min         0.000000  \n",
       "25%         0.000000  \n",
       "50%         0.000000  \n",
       "75%         0.000000  \n",
       "max         1.000000  "
      ]
     },
     "execution_count": 90,
     "metadata": {},
     "output_type": "execute_result"
    }
   ],
   "source": [
    "credit_card.describe()"
   ]
  },
  {
   "cell_type": "code",
   "execution_count": 130,
   "metadata": {
    "scrolled": true
   },
   "outputs": [
    {
     "name": "stdout",
     "output_type": "stream",
     "text": [
      "<class 'pandas.core.frame.DataFrame'>\n",
      "RangeIndex: 284807 entries, 0 to 284806\n",
      "Data columns (total 31 columns):\n",
      " #   Column  Non-Null Count   Dtype  \n",
      "---  ------  --------------   -----  \n",
      " 0   Time    284807 non-null  float64\n",
      " 1   V1      284807 non-null  float64\n",
      " 2   V2      284807 non-null  float64\n",
      " 3   V3      284807 non-null  float64\n",
      " 4   V4      284807 non-null  float64\n",
      " 5   V5      284807 non-null  float64\n",
      " 6   V6      284807 non-null  float64\n",
      " 7   V7      284807 non-null  float64\n",
      " 8   V8      284807 non-null  float64\n",
      " 9   V9      284807 non-null  float64\n",
      " 10  V10     284807 non-null  float64\n",
      " 11  V11     284807 non-null  float64\n",
      " 12  V12     284807 non-null  float64\n",
      " 13  V13     284807 non-null  float64\n",
      " 14  V14     284807 non-null  float64\n",
      " 15  V15     284807 non-null  float64\n",
      " 16  V16     284807 non-null  float64\n",
      " 17  V17     284807 non-null  float64\n",
      " 18  V18     284807 non-null  float64\n",
      " 19  V19     284807 non-null  float64\n",
      " 20  V20     284807 non-null  float64\n",
      " 21  V21     284807 non-null  float64\n",
      " 22  V22     284807 non-null  float64\n",
      " 23  V23     284807 non-null  float64\n",
      " 24  V24     284807 non-null  float64\n",
      " 25  V25     284807 non-null  float64\n",
      " 26  V26     284807 non-null  float64\n",
      " 27  V27     284807 non-null  float64\n",
      " 28  V28     284807 non-null  float64\n",
      " 29  Amount  284807 non-null  float64\n",
      " 30  Class   284807 non-null  int64  \n",
      "dtypes: float64(30), int64(1)\n",
      "memory usage: 67.4 MB\n"
     ]
    }
   ],
   "source": [
    "credit_card.info()"
   ]
  },
  {
   "cell_type": "code",
   "execution_count": 8,
   "metadata": {},
   "outputs": [],
   "source": [
    "corr_df = corr = credit_card.corr(method='pearson')"
   ]
  },
  {
   "cell_type": "code",
   "execution_count": 13,
   "metadata": {},
   "outputs": [
    {
     "data": {
      "image/png": "[encoded data removed]",
      "text/plain": [
       "<Figure size 720x360 with 2 Axes>"
      ]
     },
     "metadata": {},
     "output_type": "display_data"
    }
   ],
   "source": [
    "sns.heatmap(corr_df,\n",
    "           annot=False,\n",
    "           cbar=True,\n",
    "           cmap=\"RdYlGn\",\n",
    "           linewidths=0.10,\n",
    "           fmt=\"\");"
   ]
  },
  {
   "cell_type": "code",
   "execution_count": 16,
   "metadata": {},
   "outputs": [
    {
     "name": "stdout",
     "output_type": "stream",
     "text": [
      "0    284315\n",
      "1       492\n",
      "Name: Class, dtype: int64\n"
     ]
    }
   ],
   "source": [
    "print(credit_card[\"Class\"].value_counts())"
   ]
  },
  {
   "cell_type": "code",
   "execution_count": 91,
   "metadata": {},
   "outputs": [
    {
     "data": {
      "image/png": "[encoded data removed]",
      "text/plain": [
       "<Figure size 720x360 with 1 Axes>"
      ]
     },
     "metadata": {},
     "output_type": "display_data"
    }
   ],
   "source": [
    "credit_card[\"Time\"].plot(bins=50, kind='hist')\n",
    "plt.title(\"Distribution of Time\");"
   ]
  },
  {
   "cell_type": "code",
   "execution_count": 92,
   "metadata": {},
   "outputs": [
    {
     "data": {
      "image/png": "[encoded data removed]",
      "text/plain": [
       "<Figure size 720x360 with 1 Axes>"
      ]
     },
     "metadata": {},
     "output_type": "display_data"
    }
   ],
   "source": [
    "credit_card[\"Amount\"].plot(bins=100, kind='hist')\n",
    "plt.title(\"Distribution of Transaction Amount\");"
   ]
  },
  {
   "cell_type": "code",
   "execution_count": 93,
   "metadata": {},
   "outputs": [
    {
     "name": "stdout",
     "output_type": "stream",
     "text": [
      "Distribution of the classes in the target\n",
      "0    0.998273\n",
      "1    0.001727\n",
      "Name: Class, dtype: float64\n"
     ]
    }
   ],
   "source": [
    "print(\"Distribution of the classes in the target\")\n",
    "print(credit_card[\"Class\"].value_counts()/len(credit_card))"
   ]
  },
  {
   "cell_type": "code",
   "execution_count": 21,
   "metadata": {},
   "outputs": [],
   "source": [
    "#We have to scale the features Time and Amount\n",
    "from sklearn.preprocessing import StandardScaler, RobustScaler"
   ]
  },
  {
   "cell_type": "code",
   "execution_count": 95,
   "metadata": {},
   "outputs": [],
   "source": [
    "std_scaler = StandardScaler()\n",
    "\n",
    "std_scaler.fit(credit_card.drop(\"Class\", axis=1))\n",
    "scaled_features = std_scaler.transform(credit_card.drop(\"Class\", axis=1))"
   ]
  },
  {
   "cell_type": "code",
   "execution_count": 96,
   "metadata": {},
   "outputs": [
    {
     "data": {
      "text/plain": [
       "(284807, 30)"
      ]
     },
     "execution_count": 96,
     "metadata": {},
     "output_type": "execute_result"
    }
   ],
   "source": [
    "scaled_features.shape"
   ]
  },
  {
   "cell_type": "code",
   "execution_count": 23,
   "metadata": {},
   "outputs": [],
   "source": [
    "df_scaled = pd.DataFrame(scaled_features, columns= credit_card.columns[:-1])"
   ]
  },
  {
   "cell_type": "markdown",
   "metadata": {},
   "source": [
    "# 1. WITH UNBALANCED DATA"
   ]
  },
  {
   "cell_type": "code",
   "execution_count": 17,
   "metadata": {},
   "outputs": [],
   "source": [
    "from sklearn.model_selection import train_test_split\n",
    "from sklearn.neighbors import KNeighborsClassifier"
   ]
  },
  {
   "cell_type": "code",
   "execution_count": 98,
   "metadata": {},
   "outputs": [],
   "source": [
    "#We divide our data set into 70% training set and 30% test set\n",
    "X= scaled_features\n",
    "y=credit_card[\"Class\"].values\n",
    "X_train, X_test, y_train, y_test = train_test_split(X, y, test_size=0.30)"
   ]
  },
  {
   "cell_type": "code",
   "execution_count": 100,
   "metadata": {},
   "outputs": [
    {
     "name": "stdout",
     "output_type": "stream",
     "text": [
      "\n",
      "Accuracy on test data: \n",
      "\n",
      "For K = 1, 85397.0 correct prediction out of 85443 test samples. Accuracy: 99.95\n",
      "\n",
      "For K = 3, 85407.0 correct prediction out of 85443 test samples. Accuracy: 99.96\n",
      "\n",
      "For K = 5, 85403.0 correct prediction out of 85443 test samples. Accuracy: 99.95\n",
      "\n"
     ]
    }
   ],
   "source": [
    "#K_param = [1,3,5,7,9,11,13]\n",
    "K_param = np.arange(1,7,2)\n",
    "\n",
    "# Define a list in which we write the accuracies\n",
    "acc_test_K = []\n",
    "\n",
    "print(\"\\nAccuracy on test data: \\n\")\n",
    "for K in K_param:    \n",
    "    knn = KNeighborsClassifier(n_neighbors=K,p=2)\n",
    "    knn.fit(X_train, y_train)\n",
    "    \n",
    "    y_pred = knn.predict(X_test)\n",
    "    \n",
    "    correct_pred = y_pred == y_test\n",
    "    \n",
    "    num_correct_pred = np.sum(1.0*correct_pred)\n",
    "    accuracy_test = 100*num_correct_pred /len(y_test)\n",
    "    \n",
    "    acc_test_K.append(accuracy_test)\n",
    "    #acc_train_K.append(accuracy_train)\n",
    "    print(\"For K = {}, {} correct prediction out of {} test samples. Accuracy: {:0.2f}\".format(K,num_correct_pred,len(y_test),accuracy_test))\n",
    "    print()   "
   ]
  },
  {
   "cell_type": "code",
   "execution_count": 102,
   "metadata": {},
   "outputs": [
    {
     "name": "stdout",
     "output_type": "stream",
     "text": [
      "WITH K=3\n",
      "\n",
      "\n",
      "[[85300     5]\n",
      " [   31   107]]\n",
      "\n",
      "\n",
      "              precision    recall  f1-score   support\n",
      "\n",
      "           0       1.00      1.00      1.00     85305\n",
      "           1       0.96      0.78      0.86       138\n",
      "\n",
      "    accuracy                           1.00     85443\n",
      "   macro avg       0.98      0.89      0.93     85443\n",
      "weighted avg       1.00      1.00      1.00     85443\n",
      "\n"
     ]
    }
   ],
   "source": [
    "from sklearn.metrics import classification_report,confusion_matrix\n",
    "# NOW WITH K=3\n",
    "#Instantiate the Model\n",
    "knn = KNeighborsClassifier(n_neighbors=3, p = 2)\n",
    "knn.fit(X_train,y_train)\n",
    "y_pred = knn.predict(X_test)\n",
    "\n",
    "print('WITH K=3')\n",
    "print('\\n')\n",
    "print(confusion_matrix(y_test,y_pred))\n",
    "print('\\n')\n",
    "print(classification_report(y_test,y_pred))"
   ]
  },
  {
   "cell_type": "code",
   "execution_count": 103,
   "metadata": {},
   "outputs": [
    {
     "name": "stdout",
     "output_type": "stream",
     "text": [
      "target predicted correctly 85407\n",
      "target predicted incorrectly 36\n",
      "fraction predicted incorectly is 0.04%\n",
      "the accuracy of the model is 99.96%\n",
      "recall score of the model is 77.54%\n",
      "precision score of the model is 95.54%\n",
      "F1 score of the model is 85.60%\n"
     ]
    }
   ],
   "source": [
    "correct_pred = (y_test == y_pred).sum()\n",
    "print(\"target predicted correctly\", correct_pred)\n",
    "wrong_pred = X_test.shape[0] - correct_pred \n",
    "print(\"target predicted incorrectly\", wrong_pred)\n",
    "\n",
    "#Accuracy\n",
    "correct_pred/len(X_test)\n",
    "\n",
    "#Fraction wrong\n",
    "frac_wrong = wrong_pred/len(X_test)\n",
    "print(\"fraction predicted incorectly is {:.2%}\".format(frac_wrong))\n",
    "print(\"the accuracy of the model is {:.2%}\".format(1-frac_wrong))\n",
    "\n",
    "np.unique(y_pred, return_counts=True)\n",
    "\n",
    "#True positive\n",
    "#observed= True(positive), predicted = true(positive)\n",
    "true_pos = (y_test==1) & (y_pred==1)\n",
    "true_pos.sum()\n",
    "true_pos\n",
    "\n",
    "#False positive: type error 1\n",
    "#observed= False(negative), predicted= True(positive)\n",
    "false_pos = (y_test==0) & (y_pred==1)\n",
    "false_pos.sum()\n",
    "\n",
    "#False Negative: Type error 2\n",
    "#observed= true(positive), predicted= false(negative)\n",
    "false_neg = (y_test==1) & (y_pred==0)\n",
    "false_neg.sum()\n",
    "\n",
    "#True Negative\n",
    "#observed= False, predicted False\n",
    "true_neg = (y_test==0)\n",
    "\n",
    "#Recall score the lower the false_neg the higher the recall_score if false_neg = o, recall = 1\n",
    "#how many target the model predicted right considereing the number of target present \n",
    "recall_score = true_pos.sum()/(true_pos.sum()+false_neg.sum())\n",
    "print(\"recall score of the model is {:.2%}\".format(recall_score))\n",
    "\n",
    "#Precison\n",
    "#inverse relation between precision and recall\n",
    "precision_score = true_pos.sum()/(true_pos.sum()+false_pos.sum())\n",
    "print(\"precision score of the model is {:.2%}\".format(precision_score))\n",
    "\n",
    "F1_score = 2*((precision_score*recall_score)/(precision_score+recall_score))\n",
    "print(\"F1 score of the model is {:.2%}\".format(F1_score))"
   ]
  },
  {
   "cell_type": "markdown",
   "metadata": {},
   "source": [
    "**To plot the confusion matrice**"
   ]
  },
  {
   "cell_type": "code",
   "execution_count": 104,
   "metadata": {},
   "outputs": [
    {
     "data": {
      "image/png": "[encoded data removed]",
      "text/plain": [
       "<Figure size 720x360 with 1 Axes>"
      ]
     },
     "metadata": {},
     "output_type": "display_data"
    }
   ],
   "source": [
    "#Visualize cm with seaborn\n",
    "sns.set(font_scale=1.2)\n",
    "cm = confusion_matrix(y_test, y_pred)\n",
    "sns.heatmap(cm,\n",
    "           annot=True,\n",
    "           cbar=False,\n",
    "           cmap=\"RdYlGn\",\n",
    "           linewidths=0.30,\n",
    "           fmt=\"\");\n",
    "plt.xlabel(\"True Label\")\n",
    "plt.ylabel(\"Predicted Label\");"
   ]
  },
  {
   "cell_type": "markdown",
   "metadata": {},
   "source": [
    "**To plot the Area Under the curve**"
   ]
  },
  {
   "cell_type": "code",
   "execution_count": 106,
   "metadata": {},
   "outputs": [
    {
     "name": "stdout",
     "output_type": "stream",
     "text": [
      "\n",
      " ROC_AUC_CURVE\n",
      "\n",
      "\n",
      " ROC AUC SCORE: 0.89\n",
      "\n",
      "\n"
     ]
    },
    {
     "data": {
      "image/png": "[encoded data removed]",
      "text/plain": [
       "<Figure size 360x360 with 1 Axes>"
      ]
     },
     "metadata": {},
     "output_type": "display_data"
    }
   ],
   "source": [
    "from sklearn.metrics import roc_curve\n",
    "from sklearn.metrics import roc_auc_score\n",
    "\n",
    "print('\\n ROC_AUC_CURVE\\n')\n",
    "knn_roc_auc = roc_auc_score(y_test, y_pred)\n",
    "print('\\n ROC AUC SCORE: %0.2f' % knn_roc_auc)\n",
    "print('\\n')\n",
    "y_prob = knn.predict_proba(X_test)\n",
    "#only positive(correct) predictions\n",
    "y_prob_positive = y_prob[:, 1]\n",
    "\n",
    "fpr, tpr, thresholds = roc_curve(y_test, y_prob_positive)\n",
    "plt.figure(figsize=(5,5))\n",
    "plt.plot(fpr, tpr, label='KNN Classifier(AUC = %0.2f)' % knn_roc_auc)\n",
    "plt.plot([0, 1], [0, 1],'r--', label=\"Baseline\")\n",
    "plt.xlim([0.0, 1.0])\n",
    "plt.ylim([0.0, 1.05])\n",
    "plt.xlabel('False Positive Rate')\n",
    "plt.ylabel('True Positive Rate')\n",
    "plt.title('Receiver operating characteristic')\n",
    "plt.legend(loc=\"lower right\")\n",
    "#plt.savefig('Log_ROC')\n",
    "plt.show()"
   ]
  },
  {
   "cell_type": "code",
   "execution_count": null,
   "metadata": {},
   "outputs": [],
   "source": [
    "print('\\n ROC_AUC_CURVE\\n')\n",
    "roc_auc = roc_auc_score(y_test, y_pred)\n",
    "print('\\n ROC AUC SCORE: %0.2f' % roc_auc)\n",
    "print('\\n')\n",
    "def plot_roc_curve(fpr, tpr):\n",
    "    plt.plot(fpr, tpr, color='orange', label='KNN Classifier (area = %0.2f)' % roc_auc)\n",
    "    plt.plot([0, 1], [0, 1], color='red', linestyle='--',label=\"Baseline\")\n",
    "    plt.xlabel(\"FPR\")\n",
    "    plt.ylabel(\"TPR\")\n",
    "    plt.title(\"Receiver Operating Characteristic Curve\")\n",
    "    plt.legend(loc=\"lower right\")\n",
    "    plt.show()\n",
    "\n",
    "plot_roc_curve(fpr, tpr)"
   ]
  },
  {
   "cell_type": "markdown",
   "metadata": {},
   "source": [
    "# 2.0 WITH BALANCED DATA "
   ]
  },
  {
   "cell_type": "code",
   "execution_count": 18,
   "metadata": {},
   "outputs": [
    {
     "name": "stdout",
     "output_type": "stream",
     "text": [
      "Distribution of the classes in the subsample dataset\n",
      "1    0.5\n",
      "0    0.5\n",
      "Name: Class, dtype: float64\n"
     ]
    }
   ],
   "source": [
    "unbalanced_df = credit_card\n",
    "unbalanced_df = unbalanced_df.sample(frac=1)\n",
    "\n",
    "fraud = unbalanced_df.loc[unbalanced_df[\"Class\"]==1]\n",
    "non_fraud = unbalanced_df.loc[unbalanced_df[\"Class\"]==0][:492]\n",
    "balanced_df = pd.concat([fraud, non_fraud])\n",
    "\n",
    "shuffled_df = balanced_df.sample(frac=1, random_state=88)\n",
    "\n",
    "print(\"Distribution of the classes in the subsample dataset\")\n",
    "print(shuffled_df[\"Class\"].value_counts()/len(shuffled_df))"
   ]
  },
  {
   "cell_type": "code",
   "execution_count": 22,
   "metadata": {},
   "outputs": [],
   "source": [
    "std_scaler = StandardScaler()\n",
    "\n",
    "std_scaler.fit(shuffled_df.drop(\"Class\", axis=1))\n",
    "bal_scaled_features = std_scaler.transform(shuffled_df.drop(\"Class\", axis=1))"
   ]
  },
  {
   "cell_type": "code",
   "execution_count": 24,
   "metadata": {},
   "outputs": [],
   "source": [
    "X= bal_scaled_features\n",
    "y= shuffled_df[\"Class\"].values\n",
    "X_train, X_test, y_train, y_test = train_test_split(X, y, test_size=0.30)"
   ]
  },
  {
   "cell_type": "code",
   "execution_count": 25,
   "metadata": {},
   "outputs": [
    {
     "name": "stdout",
     "output_type": "stream",
     "text": [
      "(688, 30)\n",
      "(688,)\n"
     ]
    }
   ],
   "source": [
    "print(X_train.shape)\n",
    "print(y_train.shape)"
   ]
  },
  {
   "cell_type": "code",
   "execution_count": 26,
   "metadata": {},
   "outputs": [],
   "source": [
    "from sklearn.model_selection import RandomizedSearchCV\n",
    "from sklearn.model_selection import GridSearchCV\n",
    "from sklearn.metrics import precision_score, accuracy_score, recall_score, f1_score\n",
    "from sklearn.metrics import classification_report,confusion_matrix"
   ]
  },
  {
   "cell_type": "code",
   "execution_count": 27,
   "metadata": {},
   "outputs": [],
   "source": [
    "#We define a function to calculate accuracy metrics\n",
    "def evaluate_preds(y_test, y_pred):\n",
    "    accuracy = accuracy_score(y_test, y_pred)\n",
    "    precision = precision_score(y_test, y_pred)\n",
    "    recall = recall_score(y_test, y_pred)\n",
    "    f1 = f1_score(y_test, y_pred)\n",
    "    metric_dict = {\"accuracy\":round(accuracy, 2),\n",
    "                  \"precision\": round(precision, 2),\n",
    "                  \"recall\": round(recall, 2),\n",
    "                  \"f1\": round(f1, 2)}\n",
    "    print(f\"Accuracy: {accuracy*100:.2f}%\")\n",
    "    print(f\"Precision: {precision:.2f}\")\n",
    "    print(f\"Recall: {recall:.2f}\")\n",
    "    print(f\"F-1: {f1:.2f}\")\n",
    "    \n",
    "    return metric_dict"
   ]
  },
  {
   "cell_type": "markdown",
   "metadata": {},
   "source": [
    "**We used RandomizedSearchCV to search for optimal parameters**"
   ]
  },
  {
   "cell_type": "code",
   "execution_count": 36,
   "metadata": {},
   "outputs": [
    {
     "name": "stdout",
     "output_type": "stream",
     "text": [
      "Fitting 5 folds for each of 20 candidates, totalling 100 fits\n",
      "[CV] weights=distance, p=1, n_neighbors=5, metric=manhattan ..........\n",
      "[CV]  weights=distance, p=1, n_neighbors=5, metric=manhattan, total=   0.0s\n",
      "[CV] weights=distance, p=1, n_neighbors=5, metric=manhattan ..........\n",
      "[CV]  weights=distance, p=1, n_neighbors=5, metric=manhattan, total=   0.0s\n",
      "[CV] weights=distance, p=1, n_neighbors=5, metric=manhattan ..........\n",
      "[CV]  weights=distance, p=1, n_neighbors=5, metric=manhattan, total=   0.0s\n",
      "[CV] weights=distance, p=1, n_neighbors=5, metric=manhattan ..........\n",
      "[CV]  weights=distance, p=1, n_neighbors=5, metric=manhattan, total=   0.0s\n",
      "[CV] weights=distance, p=1, n_neighbors=5, metric=manhattan ..........\n",
      "[CV]  weights=distance, p=1, n_neighbors=5, metric=manhattan, total=   0.0s\n",
      "[CV] weights=distance, p=2, n_neighbors=9, metric=manhattan ..........\n",
      "[CV]  weights=distance, p=2, n_neighbors=9, metric=manhattan, total=   0.0s\n",
      "[CV] weights=distance, p=2, n_neighbors=9, metric=manhattan ..........\n",
      "[CV]  weights=distance, p=2, n_neighbors=9, metric=manhattan, total=   0.0s\n",
      "[CV] weights=distance, p=2, n_neighbors=9, metric=manhattan ..........\n",
      "[CV]  weights=distance, p=2, n_neighbors=9, metric=manhattan, total=   0.0s\n",
      "[CV] weights=distance, p=2, n_neighbors=9, metric=manhattan ..........\n",
      "[CV]  weights=distance, p=2, n_neighbors=9, metric=manhattan, total=   0.0s\n",
      "[CV] weights=distance, p=2, n_neighbors=9, metric=manhattan ..........\n",
      "[CV]  weights=distance, p=2, n_neighbors=9, metric=manhattan, total=   0.0s\n",
      "[CV] weights=distance, p=2, n_neighbors=7, metric=euclidean ..........\n",
      "[CV]  weights=distance, p=2, n_neighbors=7, metric=euclidean, total=   0.0s\n",
      "[CV] weights=distance, p=2, n_neighbors=7, metric=euclidean ..........\n",
      "[CV]  weights=distance, p=2, n_neighbors=7, metric=euclidean, total=   0.0s\n",
      "[CV] weights=distance, p=2, n_neighbors=7, metric=euclidean ..........\n",
      "[CV]  weights=distance, p=2, n_neighbors=7, metric=euclidean, total=   0.0s\n",
      "[CV] weights=distance, p=2, n_neighbors=7, metric=euclidean ..........\n",
      "[CV]  weights=distance, p=2, n_neighbors=7, metric=euclidean, total=   0.0s\n",
      "[CV] weights=distance, p=2, n_neighbors=7, metric=euclidean ..........\n",
      "[CV]  weights=distance, p=2, n_neighbors=7, metric=euclidean, total=   0.0s\n",
      "[CV] weights=uniform, p=1, n_neighbors=5, metric=minkowski ...........\n",
      "[CV]  weights=uniform, p=1, n_neighbors=5, metric=minkowski, total=   0.0s\n",
      "[CV] weights=uniform, p=1, n_neighbors=5, metric=minkowski ...........\n",
      "[CV]  weights=uniform, p=1, n_neighbors=5, metric=minkowski, total=   0.0s\n",
      "[CV] weights=uniform, p=1, n_neighbors=5, metric=minkowski ...........\n",
      "[CV]  weights=uniform, p=1, n_neighbors=5, metric=minkowski, total=   0.0s\n",
      "[CV] weights=uniform, p=1, n_neighbors=5, metric=minkowski ...........\n"
     ]
    },
    {
     "name": "stderr",
     "output_type": "stream",
     "text": [
      "[Parallel(n_jobs=1)]: Using backend SequentialBackend with 1 concurrent workers.\n",
      "[Parallel(n_jobs=1)]: Done   1 out of   1 | elapsed:    0.0s remaining:    0.0s\n"
     ]
    },
    {
     "name": "stdout",
     "output_type": "stream",
     "text": [
      "[CV]  weights=uniform, p=1, n_neighbors=5, metric=minkowski, total=   0.0s\n",
      "[CV] weights=uniform, p=1, n_neighbors=5, metric=minkowski ...........\n",
      "[CV]  weights=uniform, p=1, n_neighbors=5, metric=minkowski, total=   0.0s\n",
      "[CV] weights=uniform, p=1, n_neighbors=3, metric=euclidean ...........\n",
      "[CV]  weights=uniform, p=1, n_neighbors=3, metric=euclidean, total=   0.0s\n",
      "[CV] weights=uniform, p=1, n_neighbors=3, metric=euclidean ...........\n",
      "[CV]  weights=uniform, p=1, n_neighbors=3, metric=euclidean, total=   0.0s\n",
      "[CV] weights=uniform, p=1, n_neighbors=3, metric=euclidean ...........\n",
      "[CV]  weights=uniform, p=1, n_neighbors=3, metric=euclidean, total=   0.0s\n",
      "[CV] weights=uniform, p=1, n_neighbors=3, metric=euclidean ...........\n",
      "[CV]  weights=uniform, p=1, n_neighbors=3, metric=euclidean, total=   0.0s\n",
      "[CV] weights=uniform, p=1, n_neighbors=3, metric=euclidean ...........\n",
      "[CV]  weights=uniform, p=1, n_neighbors=3, metric=euclidean, total=   0.0s\n",
      "[CV] weights=distance, p=1, n_neighbors=13, metric=minkowski .........\n",
      "[CV]  weights=distance, p=1, n_neighbors=13, metric=minkowski, total=   0.0s\n",
      "[CV] weights=distance, p=1, n_neighbors=13, metric=minkowski .........\n",
      "[CV]  weights=distance, p=1, n_neighbors=13, metric=minkowski, total=   0.0s\n",
      "[CV] weights=distance, p=1, n_neighbors=13, metric=minkowski .........\n",
      "[CV]  weights=distance, p=1, n_neighbors=13, metric=minkowski, total=   0.0s\n",
      "[CV] weights=distance, p=1, n_neighbors=13, metric=minkowski .........\n",
      "[CV]  weights=distance, p=1, n_neighbors=13, metric=minkowski, total=   0.0s\n",
      "[CV] weights=distance, p=1, n_neighbors=13, metric=minkowski .........\n",
      "[CV]  weights=distance, p=1, n_neighbors=13, metric=minkowski, total=   0.0s\n",
      "[CV] weights=distance, p=2, n_neighbors=3, metric=chebyshev ..........\n",
      "[CV]  weights=distance, p=2, n_neighbors=3, metric=chebyshev, total=   0.0s\n",
      "[CV] weights=distance, p=2, n_neighbors=3, metric=chebyshev ..........\n",
      "[CV]  weights=distance, p=2, n_neighbors=3, metric=chebyshev, total=   0.0s\n",
      "[CV] weights=distance, p=2, n_neighbors=3, metric=chebyshev ..........\n",
      "[CV]  weights=distance, p=2, n_neighbors=3, metric=chebyshev, total=   0.0s\n",
      "[CV] weights=distance, p=2, n_neighbors=3, metric=chebyshev ..........\n",
      "[CV]  weights=distance, p=2, n_neighbors=3, metric=chebyshev, total=   0.0s\n",
      "[CV] weights=distance, p=2, n_neighbors=3, metric=chebyshev ..........\n",
      "[CV]  weights=distance, p=2, n_neighbors=3, metric=chebyshev, total=   0.0s\n",
      "[CV] weights=distance, p=2, n_neighbors=7, metric=manhattan ..........\n",
      "[CV]  weights=distance, p=2, n_neighbors=7, metric=manhattan, total=   0.0s\n",
      "[CV] weights=distance, p=2, n_neighbors=7, metric=manhattan ..........\n",
      "[CV]  weights=distance, p=2, n_neighbors=7, metric=manhattan, total=   0.0s\n",
      "[CV] weights=distance, p=2, n_neighbors=7, metric=manhattan ..........\n",
      "[CV]  weights=distance, p=2, n_neighbors=7, metric=manhattan, total=   0.0s\n",
      "[CV] weights=distance, p=2, n_neighbors=7, metric=manhattan ..........\n",
      "[CV]  weights=distance, p=2, n_neighbors=7, metric=manhattan, total=   0.0s\n",
      "[CV] weights=distance, p=2, n_neighbors=7, metric=manhattan ..........\n",
      "[CV]  weights=distance, p=2, n_neighbors=7, metric=manhattan, total=   0.0s\n",
      "[CV] weights=uniform, p=2, n_neighbors=5, metric=euclidean ...........\n",
      "[CV]  weights=uniform, p=2, n_neighbors=5, metric=euclidean, total=   0.0s\n",
      "[CV] weights=uniform, p=2, n_neighbors=5, metric=euclidean ...........\n",
      "[CV]  weights=uniform, p=2, n_neighbors=5, metric=euclidean, total=   0.0s\n",
      "[CV] weights=uniform, p=2, n_neighbors=5, metric=euclidean ...........\n",
      "[CV]  weights=uniform, p=2, n_neighbors=5, metric=euclidean, total=   0.0s\n",
      "[CV] weights=uniform, p=2, n_neighbors=5, metric=euclidean ...........\n",
      "[CV]  weights=uniform, p=2, n_neighbors=5, metric=euclidean, total=   0.0s\n",
      "[CV] weights=uniform, p=2, n_neighbors=5, metric=euclidean ...........\n",
      "[CV]  weights=uniform, p=2, n_neighbors=5, metric=euclidean, total=   0.0s\n",
      "[CV] weights=distance, p=1, n_neighbors=5, metric=minkowski ..........\n",
      "[CV]  weights=distance, p=1, n_neighbors=5, metric=minkowski, total=   0.0s\n",
      "[CV] weights=distance, p=1, n_neighbors=5, metric=minkowski ..........\n",
      "[CV]  weights=distance, p=1, n_neighbors=5, metric=minkowski, total=   0.0s\n",
      "[CV] weights=distance, p=1, n_neighbors=5, metric=minkowski ..........\n",
      "[CV]  weights=distance, p=1, n_neighbors=5, metric=minkowski, total=   0.0s\n",
      "[CV] weights=distance, p=1, n_neighbors=5, metric=minkowski ..........\n",
      "[CV]  weights=distance, p=1, n_neighbors=5, metric=minkowski, total=   0.0s\n",
      "[CV] weights=distance, p=1, n_neighbors=5, metric=minkowski ..........\n",
      "[CV]  weights=distance, p=1, n_neighbors=5, metric=minkowski, total=   0.0s\n",
      "[CV] weights=distance, p=2, n_neighbors=9, metric=euclidean ..........\n",
      "[CV]  weights=distance, p=2, n_neighbors=9, metric=euclidean, total=   0.0s\n",
      "[CV] weights=distance, p=2, n_neighbors=9, metric=euclidean ..........\n",
      "[CV]  weights=distance, p=2, n_neighbors=9, metric=euclidean, total=   0.0s\n",
      "[CV] weights=distance, p=2, n_neighbors=9, metric=euclidean ..........\n",
      "[CV]  weights=distance, p=2, n_neighbors=9, metric=euclidean, total=   0.0s\n",
      "[CV] weights=distance, p=2, n_neighbors=9, metric=euclidean ..........\n",
      "[CV]  weights=distance, p=2, n_neighbors=9, metric=euclidean, total=   0.0s\n",
      "[CV] weights=distance, p=2, n_neighbors=9, metric=euclidean ..........\n",
      "[CV]  weights=distance, p=2, n_neighbors=9, metric=euclidean, total=   0.0s\n",
      "[CV] weights=distance, p=2, n_neighbors=11, metric=euclidean .........\n",
      "[CV]  weights=distance, p=2, n_neighbors=11, metric=euclidean, total=   0.0s\n",
      "[CV] weights=distance, p=2, n_neighbors=11, metric=euclidean .........\n",
      "[CV]  weights=distance, p=2, n_neighbors=11, metric=euclidean, total=   0.0s\n",
      "[CV] weights=distance, p=2, n_neighbors=11, metric=euclidean .........\n",
      "[CV]  weights=distance, p=2, n_neighbors=11, metric=euclidean, total=   0.0s\n",
      "[CV] weights=distance, p=2, n_neighbors=11, metric=euclidean .........\n",
      "[CV]  weights=distance, p=2, n_neighbors=11, metric=euclidean, total=   0.0s\n",
      "[CV] weights=distance, p=2, n_neighbors=11, metric=euclidean .........\n",
      "[CV]  weights=distance, p=2, n_neighbors=11, metric=euclidean, total=   0.0s\n",
      "[CV] weights=uniform, p=2, n_neighbors=13, metric=euclidean ..........\n",
      "[CV]  weights=uniform, p=2, n_neighbors=13, metric=euclidean, total=   0.0s\n",
      "[CV] weights=uniform, p=2, n_neighbors=13, metric=euclidean ..........\n",
      "[CV]  weights=uniform, p=2, n_neighbors=13, metric=euclidean, total=   0.0s\n",
      "[CV] weights=uniform, p=2, n_neighbors=13, metric=euclidean ..........\n",
      "[CV]  weights=uniform, p=2, n_neighbors=13, metric=euclidean, total=   0.0s\n",
      "[CV] weights=uniform, p=2, n_neighbors=13, metric=euclidean ..........\n",
      "[CV]  weights=uniform, p=2, n_neighbors=13, metric=euclidean, total=   0.0s\n",
      "[CV] weights=uniform, p=2, n_neighbors=13, metric=euclidean ..........\n",
      "[CV]  weights=uniform, p=2, n_neighbors=13, metric=euclidean, total=   0.0s\n",
      "[CV] weights=uniform, p=1, n_neighbors=7, metric=euclidean ...........\n",
      "[CV]  weights=uniform, p=1, n_neighbors=7, metric=euclidean, total=   0.0s\n",
      "[CV] weights=uniform, p=1, n_neighbors=7, metric=euclidean ...........\n",
      "[CV]  weights=uniform, p=1, n_neighbors=7, metric=euclidean, total=   0.0s\n",
      "[CV] weights=uniform, p=1, n_neighbors=7, metric=euclidean ...........\n",
      "[CV]  weights=uniform, p=1, n_neighbors=7, metric=euclidean, total=   0.0s\n",
      "[CV] weights=uniform, p=1, n_neighbors=7, metric=euclidean ...........\n",
      "[CV]  weights=uniform, p=1, n_neighbors=7, metric=euclidean, total=   0.0s\n",
      "[CV] weights=uniform, p=1, n_neighbors=7, metric=euclidean ...........\n",
      "[CV]  weights=uniform, p=1, n_neighbors=7, metric=euclidean, total=   0.0s\n",
      "[CV] weights=uniform, p=2, n_neighbors=5, metric=minkowski ...........\n",
      "[CV]  weights=uniform, p=2, n_neighbors=5, metric=minkowski, total=   0.0s\n",
      "[CV] weights=uniform, p=2, n_neighbors=5, metric=minkowski ...........\n",
      "[CV]  weights=uniform, p=2, n_neighbors=5, metric=minkowski, total=   0.0s\n",
      "[CV] weights=uniform, p=2, n_neighbors=5, metric=minkowski ...........\n",
      "[CV]  weights=uniform, p=2, n_neighbors=5, metric=minkowski, total=   0.0s\n",
      "[CV] weights=uniform, p=2, n_neighbors=5, metric=minkowski ...........\n",
      "[CV]  weights=uniform, p=2, n_neighbors=5, metric=minkowski, total=   0.0s\n",
      "[CV] weights=uniform, p=2, n_neighbors=5, metric=minkowski ...........\n",
      "[CV]  weights=uniform, p=2, n_neighbors=5, metric=minkowski, total=   0.0s\n",
      "[CV] weights=distance, p=1, n_neighbors=13, metric=chebyshev .........\n",
      "[CV]  weights=distance, p=1, n_neighbors=13, metric=chebyshev, total=   0.0s\n",
      "[CV] weights=distance, p=1, n_neighbors=13, metric=chebyshev .........\n",
      "[CV]  weights=distance, p=1, n_neighbors=13, metric=chebyshev, total=   0.0s\n",
      "[CV] weights=distance, p=1, n_neighbors=13, metric=chebyshev .........\n",
      "[CV]  weights=distance, p=1, n_neighbors=13, metric=chebyshev, total=   0.0s\n",
      "[CV] weights=distance, p=1, n_neighbors=13, metric=chebyshev .........\n",
      "[CV]  weights=distance, p=1, n_neighbors=13, metric=chebyshev, total=   0.0s\n",
      "[CV] weights=distance, p=1, n_neighbors=13, metric=chebyshev .........\n",
      "[CV]  weights=distance, p=1, n_neighbors=13, metric=chebyshev, total=   0.0s\n",
      "[CV] weights=uniform, p=1, n_neighbors=13, metric=manhattan ..........\n",
      "[CV]  weights=uniform, p=1, n_neighbors=13, metric=manhattan, total=   0.0s\n",
      "[CV] weights=uniform, p=1, n_neighbors=13, metric=manhattan ..........\n",
      "[CV]  weights=uniform, p=1, n_neighbors=13, metric=manhattan, total=   0.0s\n",
      "[CV] weights=uniform, p=1, n_neighbors=13, metric=manhattan ..........\n"
     ]
    },
    {
     "name": "stdout",
     "output_type": "stream",
     "text": [
      "[CV]  weights=uniform, p=1, n_neighbors=13, metric=manhattan, total=   0.0s\n",
      "[CV] weights=uniform, p=1, n_neighbors=13, metric=manhattan ..........\n",
      "[CV]  weights=uniform, p=1, n_neighbors=13, metric=manhattan, total=   0.0s\n",
      "[CV] weights=uniform, p=1, n_neighbors=13, metric=manhattan ..........\n",
      "[CV]  weights=uniform, p=1, n_neighbors=13, metric=manhattan, total=   0.0s\n",
      "[CV] weights=uniform, p=2, n_neighbors=7, metric=minkowski ...........\n",
      "[CV]  weights=uniform, p=2, n_neighbors=7, metric=minkowski, total=   0.0s\n",
      "[CV] weights=uniform, p=2, n_neighbors=7, metric=minkowski ...........\n",
      "[CV]  weights=uniform, p=2, n_neighbors=7, metric=minkowski, total=   0.0s\n",
      "[CV] weights=uniform, p=2, n_neighbors=7, metric=minkowski ...........\n",
      "[CV]  weights=uniform, p=2, n_neighbors=7, metric=minkowski, total=   0.0s\n",
      "[CV] weights=uniform, p=2, n_neighbors=7, metric=minkowski ...........\n",
      "[CV]  weights=uniform, p=2, n_neighbors=7, metric=minkowski, total=   0.0s\n",
      "[CV] weights=uniform, p=2, n_neighbors=7, metric=minkowski ...........\n",
      "[CV]  weights=uniform, p=2, n_neighbors=7, metric=minkowski, total=   0.0s\n",
      "[CV] weights=uniform, p=1, n_neighbors=13, metric=chebyshev ..........\n",
      "[CV]  weights=uniform, p=1, n_neighbors=13, metric=chebyshev, total=   0.0s\n",
      "[CV] weights=uniform, p=1, n_neighbors=13, metric=chebyshev ..........\n",
      "[CV]  weights=uniform, p=1, n_neighbors=13, metric=chebyshev, total=   0.0s\n",
      "[CV] weights=uniform, p=1, n_neighbors=13, metric=chebyshev ..........\n",
      "[CV]  weights=uniform, p=1, n_neighbors=13, metric=chebyshev, total=   0.0s\n",
      "[CV] weights=uniform, p=1, n_neighbors=13, metric=chebyshev ..........\n",
      "[CV]  weights=uniform, p=1, n_neighbors=13, metric=chebyshev, total=   0.0s\n",
      "[CV] weights=uniform, p=1, n_neighbors=13, metric=chebyshev ..........\n",
      "[CV]  weights=uniform, p=1, n_neighbors=13, metric=chebyshev, total=   0.0s\n",
      "[CV] weights=distance, p=1, n_neighbors=3, metric=euclidean ..........\n",
      "[CV]  weights=distance, p=1, n_neighbors=3, metric=euclidean, total=   0.0s\n",
      "[CV] weights=distance, p=1, n_neighbors=3, metric=euclidean ..........\n",
      "[CV]  weights=distance, p=1, n_neighbors=3, metric=euclidean, total=   0.0s\n",
      "[CV] weights=distance, p=1, n_neighbors=3, metric=euclidean ..........\n",
      "[CV]  weights=distance, p=1, n_neighbors=3, metric=euclidean, total=   0.0s\n",
      "[CV] weights=distance, p=1, n_neighbors=3, metric=euclidean ..........\n",
      "[CV]  weights=distance, p=1, n_neighbors=3, metric=euclidean, total=   0.0s\n",
      "[CV] weights=distance, p=1, n_neighbors=3, metric=euclidean ..........\n",
      "[CV]  weights=distance, p=1, n_neighbors=3, metric=euclidean, total=   0.0s\n",
      "Accuracy: 91.89%\n",
      "Precision: 0.99\n",
      "Recall: 0.85\n",
      "F-1: 0.92\n"
     ]
    },
    {
     "name": "stderr",
     "output_type": "stream",
     "text": [
      "[Parallel(n_jobs=1)]: Done 100 out of 100 | elapsed:    1.1s finished\n"
     ]
    }
   ],
   "source": [
    "#from sklearn.model_selection import RandomizedSearchCV\n",
    "#We create a dictinnay containing the parameters we would like to adjust as the keys and then the values \n",
    "#we would like to try as the values of the dict\n",
    "K = np.arange(1,15,2)\n",
    "grid={\"n_neighbors\":K,\n",
    "      \"weights\":[\"uniform\", \"distance\"],\n",
    "      \"metric\":[\"minkowski\", \"euclidean\", \"manhattan\",\"chebyshev\"],\n",
    "      \"p\":[1, 2]}\n",
    "#...\n",
    "clf= KNeighborsClassifier()\n",
    "#rsCV\n",
    "rscv_knn_clf = RandomizedSearchCV(estimator=clf,\n",
    "                             param_distributions=grid,\n",
    "                             n_iter=20,#number of model to try\n",
    "                             cv=5,\n",
    "                             verbose=2)\n",
    "#fit the RandomizedSearchCv version of clf\n",
    "rscv_knn_clf.fit(X_train, y_train)\n",
    "#Make prediction with the best hyperparameters\n",
    "rscv_knn_y_pred = rscv_knn_clf.predict(X_test)\n",
    "#We evaluate the prediction\n",
    "rscv_knn_metrics = evaluate_preds(y_test, rscv_knn_y_pred)"
   ]
  },
  {
   "cell_type": "code",
   "execution_count": 37,
   "metadata": {},
   "outputs": [
    {
     "data": {
      "text/plain": [
       "{'weights': 'distance', 'p': 1, 'n_neighbors': 5, 'metric': 'manhattan'}"
      ]
     },
     "execution_count": 37,
     "metadata": {},
     "output_type": "execute_result"
    }
   ],
   "source": [
    "#call the estimator with the best result \n",
    "rscv_knn_clf.best_params_"
   ]
  },
  {
   "cell_type": "markdown",
   "metadata": {},
   "source": [
    "**We used GridSearchCV to tune the optimal parameters obtained from RandomizedSearchCV**"
   ]
  },
  {
   "cell_type": "code",
   "execution_count": 38,
   "metadata": {
    "scrolled": true
   },
   "outputs": [
    {
     "name": "stdout",
     "output_type": "stream",
     "text": [
      "Fitting 5 folds for each of 5 candidates, totalling 25 fits\n",
      "[CV] metric=manhattan, n_neighbors=5, p=1, weights=distance ..........\n",
      "[CV]  metric=manhattan, n_neighbors=5, p=1, weights=distance, total=   0.0s\n",
      "[CV] metric=manhattan, n_neighbors=5, p=1, weights=distance ..........\n",
      "[CV]  metric=manhattan, n_neighbors=5, p=1, weights=distance, total=   0.0s\n",
      "[CV] metric=manhattan, n_neighbors=5, p=1, weights=distance ..........\n",
      "[CV]  metric=manhattan, n_neighbors=5, p=1, weights=distance, total=   0.0s\n",
      "[CV] metric=manhattan, n_neighbors=5, p=1, weights=distance ..........\n",
      "[CV]  metric=manhattan, n_neighbors=5, p=1, weights=distance, total=   0.0s\n",
      "[CV] metric=manhattan, n_neighbors=5, p=1, weights=distance ..........\n",
      "[CV]  metric=manhattan, n_neighbors=5, p=1, weights=distance, total=   0.0s\n",
      "[CV] metric=manhattan, n_neighbors=6, p=1, weights=distance ..........\n",
      "[CV]  metric=manhattan, n_neighbors=6, p=1, weights=distance, total=   0.0s\n",
      "[CV] metric=manhattan, n_neighbors=6, p=1, weights=distance ..........\n",
      "[CV]  metric=manhattan, n_neighbors=6, p=1, weights=distance, total=   0.0s\n",
      "[CV] metric=manhattan, n_neighbors=6, p=1, weights=distance ..........\n",
      "[CV]  metric=manhattan, n_neighbors=6, p=1, weights=distance, total=   0.0s\n",
      "[CV] metric=manhattan, n_neighbors=6, p=1, weights=distance ..........\n",
      "[CV]  metric=manhattan, n_neighbors=6, p=1, weights=distance, total=   0.0s\n",
      "[CV] metric=manhattan, n_neighbors=6, p=1, weights=distance ..........\n",
      "[CV]  metric=manhattan, n_neighbors=6, p=1, weights=distance, total=   0.0s\n",
      "[CV] metric=manhattan, n_neighbors=7, p=1, weights=distance ..........\n",
      "[CV]  metric=manhattan, n_neighbors=7, p=1, weights=distance, total=   0.0s\n",
      "[CV] metric=manhattan, n_neighbors=7, p=1, weights=distance ..........\n",
      "[CV]  metric=manhattan, n_neighbors=7, p=1, weights=distance, total=   0.0s\n",
      "[CV] metric=manhattan, n_neighbors=7, p=1, weights=distance ..........\n",
      "[CV]  metric=manhattan, n_neighbors=7, p=1, weights=distance, total=   0.0s\n",
      "[CV] metric=manhattan, n_neighbors=7, p=1, weights=distance ..........\n",
      "[CV]  metric=manhattan, n_neighbors=7, p=1, weights=distance, total=   0.0s\n",
      "[CV] metric=manhattan, n_neighbors=7, p=1, weights=distance ..........\n",
      "[CV]  metric=manhattan, n_neighbors=7, p=1, weights=distance, total=   0.0s\n",
      "[CV] metric=manhattan, n_neighbors=8, p=1, weights=distance ..........\n",
      "[CV]  metric=manhattan, n_neighbors=8, p=1, weights=distance, total=   0.0s\n",
      "[CV] metric=manhattan, n_neighbors=8, p=1, weights=distance ..........\n",
      "[CV]  metric=manhattan, n_neighbors=8, p=1, weights=distance, total=   0.0s\n",
      "[CV] metric=manhattan, n_neighbors=8, p=1, weights=distance ..........\n",
      "[CV]  metric=manhattan, n_neighbors=8, p=1, weights=distance, total=   0.0s\n",
      "[CV] metric=manhattan, n_neighbors=8, p=1, weights=distance ..........\n",
      "[CV]  metric=manhattan, n_neighbors=8, p=1, weights=distance, total=   0.0s\n",
      "[CV] metric=manhattan, n_neighbors=8, p=1, weights=distance ..........\n",
      "[CV]  metric=manhattan, n_neighbors=8, p=1, weights=distance, total=   0.0s\n",
      "[CV] metric=manhattan, n_neighbors=9, p=1, weights=distance ..........\n",
      "[CV]  metric=manhattan, n_neighbors=9, p=1, weights=distance, total=   0.0s\n",
      "[CV] metric=manhattan, n_neighbors=9, p=1, weights=distance ..........\n"
     ]
    },
    {
     "name": "stderr",
     "output_type": "stream",
     "text": [
      "[Parallel(n_jobs=1)]: Using backend SequentialBackend with 1 concurrent workers.\n",
      "[Parallel(n_jobs=1)]: Done   1 out of   1 | elapsed:    0.0s remaining:    0.0s\n"
     ]
    },
    {
     "name": "stdout",
     "output_type": "stream",
     "text": [
      "[CV]  metric=manhattan, n_neighbors=9, p=1, weights=distance, total=   0.0s\n",
      "[CV] metric=manhattan, n_neighbors=9, p=1, weights=distance ..........\n",
      "[CV]  metric=manhattan, n_neighbors=9, p=1, weights=distance, total=   0.0s\n",
      "[CV] metric=manhattan, n_neighbors=9, p=1, weights=distance ..........\n",
      "[CV]  metric=manhattan, n_neighbors=9, p=1, weights=distance, total=   0.0s\n",
      "[CV] metric=manhattan, n_neighbors=9, p=1, weights=distance ..........\n",
      "[CV]  metric=manhattan, n_neighbors=9, p=1, weights=distance, total=   0.0s\n",
      "Accuracy: 91.89%\n",
      "Precision: 0.99\n",
      "Recall: 0.85\n",
      "F-1: 0.92\n"
     ]
    },
    {
     "name": "stderr",
     "output_type": "stream",
     "text": [
      "[Parallel(n_jobs=1)]: Done  25 out of  25 | elapsed:    0.1s finished\n"
     ]
    }
   ],
   "source": [
    "#We take the best parameters previously obtained\n",
    "#grid2 = best parameters grid 1\n",
    "K = np.arange(5,10,1)\n",
    "grid_2 ={\"n_neighbors\":K,\n",
    "      \"weights\":[\"distance\"],\n",
    "      \"metric\":[\"manhattan\"],\n",
    "      \"p\":[1]}\n",
    "#...\n",
    "clf= KNeighborsClassifier()\n",
    "#rsCV\n",
    "gscv_knn_clf = GridSearchCV(estimator=clf,\n",
    "                             param_grid=grid_2,\n",
    "                             cv=5,\n",
    "                             verbose=2)\n",
    "#fit the RandomizedSearchCv version of clf\n",
    "gscv_knn_clf.fit(X_train, y_train)\n",
    "#Make prediction with the best hyperparameters\n",
    "gscv_knn_y_pred = gscv_knn_clf.predict(X_test)\n",
    "#We evaluate the prediction\n",
    "gscv_knn_metrics = evaluate_preds(y_test, gscv_knn_y_pred)"
   ]
  },
  {
   "cell_type": "code",
   "execution_count": 39,
   "metadata": {},
   "outputs": [
    {
     "data": {
      "text/plain": [
       "{'metric': 'manhattan', 'n_neighbors': 5, 'p': 1, 'weights': 'distance'}"
      ]
     },
     "execution_count": 39,
     "metadata": {},
     "output_type": "execute_result"
    }
   ],
   "source": [
    "#call the estimator with the best result \n",
    "gscv_knn_clf.best_params_"
   ]
  },
  {
   "cell_type": "code",
   "execution_count": 40,
   "metadata": {},
   "outputs": [],
   "source": [
    "#Instantiate the model\n",
    "knn_clf = KNeighborsClassifier(metric='manhattan', n_neighbors=5, p=1, weights= 'distance')\n",
    "#We fit the model to the traning set \n",
    "knn_clf.fit(X_train, y_train)\n",
    "#We test the model on the test set\n",
    "y_pred = knn_clf.predict(X_test)"
   ]
  },
  {
   "cell_type": "code",
   "execution_count": 41,
   "metadata": {},
   "outputs": [
    {
     "name": "stdout",
     "output_type": "stream",
     "text": [
      "[[140   1]\n",
      " [ 23 132]]\n",
      "              precision    recall  f1-score   support\n",
      "\n",
      "           0       0.86      0.99      0.92       141\n",
      "           1       0.99      0.85      0.92       155\n",
      "\n",
      "    accuracy                           0.92       296\n",
      "   macro avg       0.93      0.92      0.92       296\n",
      "weighted avg       0.93      0.92      0.92       296\n",
      "\n"
     ]
    }
   ],
   "source": [
    "print(confusion_matrix(y_test,y_pred))\n",
    "print(classification_report(y_test,y_pred))"
   ]
  },
  {
   "cell_type": "code",
   "execution_count": 43,
   "metadata": {},
   "outputs": [
    {
     "data": {
      "image/png": "[encoded data removed]",
      "text/plain": [
       "<Figure size 360x360 with 1 Axes>"
      ]
     },
     "metadata": {},
     "output_type": "display_data"
    }
   ],
   "source": [
    "sns.set(rc={'figure.figsize':(5,5)})\n",
    "#Visualize cm with seaborn\n",
    "import seaborn as sns\n",
    "sns.set(font_scale=1.5)\n",
    "cm = confusion_matrix(y_test, y_pred)\n",
    "sns.heatmap(cm,\n",
    "           annot=True,\n",
    "           cbar=False,\n",
    "           cmap=\"RdYlGn\",\n",
    "           linewidths=0.30,\n",
    "           fmt=\"\");\n",
    "plt.xlabel(\"True Label\")\n",
    "plt.ylabel(\"Predicted Label\");"
   ]
  },
  {
   "cell_type": "code",
   "execution_count": 44,
   "metadata": {},
   "outputs": [
    {
     "name": "stdout",
     "output_type": "stream",
     "text": [
      "target predicted correctly 272\n",
      "target predicted incorrectly 24\n",
      "fraction predicted incorectly is 8.11%\n",
      "the accuracy of the model is 91.89%\n",
      "recall score of the model is 85.16%\n",
      "precision score of the model is 99.25%\n",
      "F1 score of the model is 91.67%\n"
     ]
    }
   ],
   "source": [
    "correct_pred = (y_test == y_pred).sum()\n",
    "print(\"target predicted correctly\", correct_pred)\n",
    "wrong_pred = X_test.shape[0] - correct_pred \n",
    "print(\"target predicted incorrectly\", wrong_pred)\n",
    "\n",
    "#Accuracy\n",
    "correct_pred/len(X_test)\n",
    "\n",
    "#Fraction wrong\n",
    "frac_wrong = wrong_pred/len(X_test)\n",
    "print(\"fraction predicted incorectly is {:.2%}\".format(frac_wrong))\n",
    "print(\"the accuracy of the model is {:.2%}\".format(1-frac_wrong))\n",
    "\n",
    "np.unique(y_pred, return_counts=True)\n",
    "\n",
    "#True positive\n",
    "#observed= True(positive), predicted = true(positive)\n",
    "true_pos = (y_test==1) & (y_pred==1)\n",
    "true_pos.sum()\n",
    "true_pos\n",
    "\n",
    "#False positive: type error 1\n",
    "#observed= False(negative), predicted= True(positive)\n",
    "false_pos = (y_test==0) & (y_pred==1)\n",
    "false_pos.sum()\n",
    "\n",
    "#False Negative: Type error 2\n",
    "#observed= true(positive), predicted= false(negative)\n",
    "false_neg = (y_test==1) & (y_pred==0)\n",
    "false_neg.sum()\n",
    "\n",
    "#True Negative\n",
    "#observed= False, predicted False\n",
    "true_neg = (y_test==0)\n",
    "\n",
    "#Recall score the lower the false_neg the higher the recall_score if false_neg = o, recall = 1\n",
    "#how many target the model predicted right considereing the number of target present \n",
    "recall_score = true_pos.sum()/(true_pos.sum()+false_neg.sum())\n",
    "print(\"recall score of the model is {:.2%}\".format(recall_score))\n",
    "\n",
    "#Precison\n",
    "#inverse relation between precision and recall\n",
    "precision_score = true_pos.sum()/(true_pos.sum()+false_pos.sum())\n",
    "print(\"precision score of the model is {:.2%}\".format(precision_score))\n",
    "\n",
    "F1_score = 2*((precision_score*recall_score)/(precision_score+recall_score))\n",
    "print(\"F1 score of the model is {:.2%}\".format(F1_score))"
   ]
  },
  {
   "cell_type": "code",
   "execution_count": 126,
   "metadata": {},
   "outputs": [
    {
     "name": "stdout",
     "output_type": "stream",
     "text": [
      "\n",
      " ROC_AUC_CURVE\n",
      "\n",
      "\n",
      " ROC AUC SCORE: 0.93\n",
      "\n",
      "\n"
     ]
    },
    {
     "data": {
      "image/png": "[encoded data removed]",
      "text/plain": [
       "<Figure size 360x360 with 1 Axes>"
      ]
     },
     "metadata": {},
     "output_type": "display_data"
    }
   ],
   "source": [
    "print('\\n ROC_AUC_CURVE\\n')\n",
    "knn_roc_auc = roc_auc_score(y_test, y_pred)\n",
    "print('\\n ROC AUC SCORE: %0.2f' % knn_roc_auc)\n",
    "print('\\n')\n",
    "y_prob = knn_clf.predict_proba(X_test)\n",
    "#only positive(correct) predictions\n",
    "y_prob_positive = y_prob[:, 1]\n",
    "\n",
    "fpr, tpr, thresholds = roc_curve(y_test, y_prob_positive)\n",
    "plt.figure(figsize=(5,5))\n",
    "plt.plot(fpr, tpr, label='KNN Classifier(AUC = %0.2f)' % knn_roc_auc)\n",
    "plt.plot([0, 1], [0, 1],'r--', label=\"Baseline\")\n",
    "plt.xlim([0.0, 1.0])\n",
    "plt.ylim([0.0, 1.05])\n",
    "plt.xlabel('False Positive Rate')\n",
    "plt.ylabel('True Positive Rate')\n",
    "plt.title('Receiver operating characteristic')\n",
    "plt.legend(loc=\"lower right\")\n",
    "#plt.savefig('Log_ROC')\n",
    "plt.show()"
   ]
  },
  {
   "cell_type": "code",
   "execution_count": 128,
   "metadata": {},
   "outputs": [
    {
     "data": {
      "image/png": "[encoded data removed]",
      "text/plain": [
       "<Figure size 648x360 with 1 Axes>"
      ]
     },
     "metadata": {},
     "output_type": "display_data"
    }
   ],
   "source": [
    "#Compare the models\n",
    "all_metrics = pd.DataFrame({\"random_search\":rscv_knn_metrics,\n",
    "                           \"grid_search\":gscv_knn_metrics})\n",
    "all_metrics.plot.bar(figsize=(9, 5));"
   ]
  }
 ],
 "metadata": {
  "kernelspec": {
   "display_name": "Python 3",
   "language": "python",
   "name": "python3"
  },
  "language_info": {
   "codemirror_mode": {
    "name": "ipython",
    "version": 3
   },
   "file_extension": ".py",
   "mimetype": "text/x-python",
   "name": "python",
   "nbconvert_exporter": "python",
   "pygments_lexer": "ipython3",
   "version": "3.7.7"
  }
 },
 "nbformat": 4,
 "nbformat_minor": 4
}
