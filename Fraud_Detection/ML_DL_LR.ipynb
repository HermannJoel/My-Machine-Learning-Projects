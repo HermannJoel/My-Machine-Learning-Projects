{
 "cells": [
  {
   "cell_type": "markdown",
   "metadata": {},
   "source": [
    "# TOPIC 4:Fraud Detection_1\n",
    "# LOGISTIC REGRESSION CLASSIFIER\n",
    "In this project, we will use the data set sourced by ULB machine learning group and provided by Kaggle to build and implement a Logistic classifier that will classify with high accuracy credit card transactions as non-fraud or fraudulent transactions.<br>\n",
    "The data set can be found here https://www.kaggle.com/mlg-ulb/creditcardfraud<br>\n",
    "<ul>"
   ]
  },
  {
   "cell_type": "code",
   "execution_count": 2,
   "metadata": {},
   "outputs": [],
   "source": [
    "import pandas as pd\n",
    "import numpy as np\n",
    "import matplotlib.pyplot as plt\n",
    "%matplotlib inline\n",
    "import seaborn as sns\n",
    "sns.set()\n",
    "sns.set(rc={'figure.figsize':(5,5)})\n",
    "#To display all columns name\n",
    "pd.options.display.max_columns = None"
   ]
  },
  {
   "cell_type": "code",
   "execution_count": 3,
   "metadata": {},
   "outputs": [],
   "source": [
    "from sklearn.metrics import classification_report\n",
    "from sklearn.metrics import roc_curve, roc_auc_score\n",
    "from sklearn.metrics import confusion_matrix\n",
    "import sklearn.metrics as metrics\n",
    "from sklearn.linear_model import LogisticRegression\n",
    "from sklearn.model_selection import train_test_split\n",
    "from sklearn.model_selection import RandomizedSearchCV\n",
    "from sklearn.model_selection import GridSearchCV\n",
    "from sklearn.metrics import precision_score, accuracy_score, recall_score, f1_score\n",
    "from sklearn.metrics import classification_report,confusion_matrix\n",
    "from sklearn.metrics import r2_score, mean_squared_error, mean_absolute_error"
   ]
  },
  {
   "cell_type": "code",
   "execution_count": 4,
   "metadata": {},
   "outputs": [
    {
     "name": "stdout",
     "output_type": "stream",
     "text": [
      "There are 284807 rows and 31 columns in the dataset\n"
     ]
    },
    {
     "data": {
      "text/html": [
       "<div>\n",
       "<style scoped>\n",
       "    .dataframe tbody tr th:only-of-type {\n",
       "        vertical-align: middle;\n",
       "    }\n",
       "\n",
       "    .dataframe tbody tr th {\n",
       "        vertical-align: top;\n",
       "    }\n",
       "\n",
       "    .dataframe thead th {\n",
       "        text-align: right;\n",
       "    }\n",
       "</style>\n",
       "<table border=\"1\" class=\"dataframe\">\n",
       "  <thead>\n",
       "    <tr style=\"text-align: right;\">\n",
       "      <th></th>\n",
       "      <th>Time</th>\n",
       "      <th>V1</th>\n",
       "      <th>V2</th>\n",
       "      <th>V3</th>\n",
       "      <th>V4</th>\n",
       "      <th>V5</th>\n",
       "      <th>V6</th>\n",
       "      <th>V7</th>\n",
       "      <th>V8</th>\n",
       "      <th>V9</th>\n",
       "      <th>V10</th>\n",
       "      <th>V11</th>\n",
       "      <th>V12</th>\n",
       "      <th>V13</th>\n",
       "      <th>V14</th>\n",
       "      <th>V15</th>\n",
       "      <th>V16</th>\n",
       "      <th>V17</th>\n",
       "      <th>V18</th>\n",
       "      <th>V19</th>\n",
       "      <th>V20</th>\n",
       "      <th>V21</th>\n",
       "      <th>V22</th>\n",
       "      <th>V23</th>\n",
       "      <th>V24</th>\n",
       "      <th>V25</th>\n",
       "      <th>V26</th>\n",
       "      <th>V27</th>\n",
       "      <th>V28</th>\n",
       "      <th>Amount</th>\n",
       "      <th>Class</th>\n",
       "    </tr>\n",
       "  </thead>\n",
       "  <tbody>\n",
       "    <tr>\n",
       "      <th>0</th>\n",
       "      <td>0.0</td>\n",
       "      <td>-1.359807</td>\n",
       "      <td>-0.072781</td>\n",
       "      <td>2.536347</td>\n",
       "      <td>1.378155</td>\n",
       "      <td>-0.338321</td>\n",
       "      <td>0.462388</td>\n",
       "      <td>0.239599</td>\n",
       "      <td>0.098698</td>\n",
       "      <td>0.363787</td>\n",
       "      <td>0.090794</td>\n",
       "      <td>-0.551600</td>\n",
       "      <td>-0.617801</td>\n",
       "      <td>-0.991390</td>\n",
       "      <td>-0.311169</td>\n",
       "      <td>1.468177</td>\n",
       "      <td>-0.470401</td>\n",
       "      <td>0.207971</td>\n",
       "      <td>0.025791</td>\n",
       "      <td>0.403993</td>\n",
       "      <td>0.251412</td>\n",
       "      <td>-0.018307</td>\n",
       "      <td>0.277838</td>\n",
       "      <td>-0.110474</td>\n",
       "      <td>0.066928</td>\n",
       "      <td>0.128539</td>\n",
       "      <td>-0.189115</td>\n",
       "      <td>0.133558</td>\n",
       "      <td>-0.021053</td>\n",
       "      <td>149.62</td>\n",
       "      <td>0</td>\n",
       "    </tr>\n",
       "    <tr>\n",
       "      <th>1</th>\n",
       "      <td>0.0</td>\n",
       "      <td>1.191857</td>\n",
       "      <td>0.266151</td>\n",
       "      <td>0.166480</td>\n",
       "      <td>0.448154</td>\n",
       "      <td>0.060018</td>\n",
       "      <td>-0.082361</td>\n",
       "      <td>-0.078803</td>\n",
       "      <td>0.085102</td>\n",
       "      <td>-0.255425</td>\n",
       "      <td>-0.166974</td>\n",
       "      <td>1.612727</td>\n",
       "      <td>1.065235</td>\n",
       "      <td>0.489095</td>\n",
       "      <td>-0.143772</td>\n",
       "      <td>0.635558</td>\n",
       "      <td>0.463917</td>\n",
       "      <td>-0.114805</td>\n",
       "      <td>-0.183361</td>\n",
       "      <td>-0.145783</td>\n",
       "      <td>-0.069083</td>\n",
       "      <td>-0.225775</td>\n",
       "      <td>-0.638672</td>\n",
       "      <td>0.101288</td>\n",
       "      <td>-0.339846</td>\n",
       "      <td>0.167170</td>\n",
       "      <td>0.125895</td>\n",
       "      <td>-0.008983</td>\n",
       "      <td>0.014724</td>\n",
       "      <td>2.69</td>\n",
       "      <td>0</td>\n",
       "    </tr>\n",
       "    <tr>\n",
       "      <th>2</th>\n",
       "      <td>1.0</td>\n",
       "      <td>-1.358354</td>\n",
       "      <td>-1.340163</td>\n",
       "      <td>1.773209</td>\n",
       "      <td>0.379780</td>\n",
       "      <td>-0.503198</td>\n",
       "      <td>1.800499</td>\n",
       "      <td>0.791461</td>\n",
       "      <td>0.247676</td>\n",
       "      <td>-1.514654</td>\n",
       "      <td>0.207643</td>\n",
       "      <td>0.624501</td>\n",
       "      <td>0.066084</td>\n",
       "      <td>0.717293</td>\n",
       "      <td>-0.165946</td>\n",
       "      <td>2.345865</td>\n",
       "      <td>-2.890083</td>\n",
       "      <td>1.109969</td>\n",
       "      <td>-0.121359</td>\n",
       "      <td>-2.261857</td>\n",
       "      <td>0.524980</td>\n",
       "      <td>0.247998</td>\n",
       "      <td>0.771679</td>\n",
       "      <td>0.909412</td>\n",
       "      <td>-0.689281</td>\n",
       "      <td>-0.327642</td>\n",
       "      <td>-0.139097</td>\n",
       "      <td>-0.055353</td>\n",
       "      <td>-0.059752</td>\n",
       "      <td>378.66</td>\n",
       "      <td>0</td>\n",
       "    </tr>\n",
       "    <tr>\n",
       "      <th>3</th>\n",
       "      <td>1.0</td>\n",
       "      <td>-0.966272</td>\n",
       "      <td>-0.185226</td>\n",
       "      <td>1.792993</td>\n",
       "      <td>-0.863291</td>\n",
       "      <td>-0.010309</td>\n",
       "      <td>1.247203</td>\n",
       "      <td>0.237609</td>\n",
       "      <td>0.377436</td>\n",
       "      <td>-1.387024</td>\n",
       "      <td>-0.054952</td>\n",
       "      <td>-0.226487</td>\n",
       "      <td>0.178228</td>\n",
       "      <td>0.507757</td>\n",
       "      <td>-0.287924</td>\n",
       "      <td>-0.631418</td>\n",
       "      <td>-1.059647</td>\n",
       "      <td>-0.684093</td>\n",
       "      <td>1.965775</td>\n",
       "      <td>-1.232622</td>\n",
       "      <td>-0.208038</td>\n",
       "      <td>-0.108300</td>\n",
       "      <td>0.005274</td>\n",
       "      <td>-0.190321</td>\n",
       "      <td>-1.175575</td>\n",
       "      <td>0.647376</td>\n",
       "      <td>-0.221929</td>\n",
       "      <td>0.062723</td>\n",
       "      <td>0.061458</td>\n",
       "      <td>123.50</td>\n",
       "      <td>0</td>\n",
       "    </tr>\n",
       "    <tr>\n",
       "      <th>4</th>\n",
       "      <td>2.0</td>\n",
       "      <td>-1.158233</td>\n",
       "      <td>0.877737</td>\n",
       "      <td>1.548718</td>\n",
       "      <td>0.403034</td>\n",
       "      <td>-0.407193</td>\n",
       "      <td>0.095921</td>\n",
       "      <td>0.592941</td>\n",
       "      <td>-0.270533</td>\n",
       "      <td>0.817739</td>\n",
       "      <td>0.753074</td>\n",
       "      <td>-0.822843</td>\n",
       "      <td>0.538196</td>\n",
       "      <td>1.345852</td>\n",
       "      <td>-1.119670</td>\n",
       "      <td>0.175121</td>\n",
       "      <td>-0.451449</td>\n",
       "      <td>-0.237033</td>\n",
       "      <td>-0.038195</td>\n",
       "      <td>0.803487</td>\n",
       "      <td>0.408542</td>\n",
       "      <td>-0.009431</td>\n",
       "      <td>0.798278</td>\n",
       "      <td>-0.137458</td>\n",
       "      <td>0.141267</td>\n",
       "      <td>-0.206010</td>\n",
       "      <td>0.502292</td>\n",
       "      <td>0.219422</td>\n",
       "      <td>0.215153</td>\n",
       "      <td>69.99</td>\n",
       "      <td>0</td>\n",
       "    </tr>\n",
       "  </tbody>\n",
       "</table>\n",
       "</div>"
      ],
      "text/plain": [
       "   Time        V1        V2        V3        V4        V5        V6        V7  \\\n",
       "0   0.0 -1.359807 -0.072781  2.536347  1.378155 -0.338321  0.462388  0.239599   \n",
       "1   0.0  1.191857  0.266151  0.166480  0.448154  0.060018 -0.082361 -0.078803   \n",
       "2   1.0 -1.358354 -1.340163  1.773209  0.379780 -0.503198  1.800499  0.791461   \n",
       "3   1.0 -0.966272 -0.185226  1.792993 -0.863291 -0.010309  1.247203  0.237609   \n",
       "4   2.0 -1.158233  0.877737  1.548718  0.403034 -0.407193  0.095921  0.592941   \n",
       "\n",
       "         V8        V9       V10       V11       V12       V13       V14  \\\n",
       "0  0.098698  0.363787  0.090794 -0.551600 -0.617801 -0.991390 -0.311169   \n",
       "1  0.085102 -0.255425 -0.166974  1.612727  1.065235  0.489095 -0.143772   \n",
       "2  0.247676 -1.514654  0.207643  0.624501  0.066084  0.717293 -0.165946   \n",
       "3  0.377436 -1.387024 -0.054952 -0.226487  0.178228  0.507757 -0.287924   \n",
       "4 -0.270533  0.817739  0.753074 -0.822843  0.538196  1.345852 -1.119670   \n",
       "\n",
       "        V15       V16       V17       V18       V19       V20       V21  \\\n",
       "0  1.468177 -0.470401  0.207971  0.025791  0.403993  0.251412 -0.018307   \n",
       "1  0.635558  0.463917 -0.114805 -0.183361 -0.145783 -0.069083 -0.225775   \n",
       "2  2.345865 -2.890083  1.109969 -0.121359 -2.261857  0.524980  0.247998   \n",
       "3 -0.631418 -1.059647 -0.684093  1.965775 -1.232622 -0.208038 -0.108300   \n",
       "4  0.175121 -0.451449 -0.237033 -0.038195  0.803487  0.408542 -0.009431   \n",
       "\n",
       "        V22       V23       V24       V25       V26       V27       V28  \\\n",
       "0  0.277838 -0.110474  0.066928  0.128539 -0.189115  0.133558 -0.021053   \n",
       "1 -0.638672  0.101288 -0.339846  0.167170  0.125895 -0.008983  0.014724   \n",
       "2  0.771679  0.909412 -0.689281 -0.327642 -0.139097 -0.055353 -0.059752   \n",
       "3  0.005274 -0.190321 -1.175575  0.647376 -0.221929  0.062723  0.061458   \n",
       "4  0.798278 -0.137458  0.141267 -0.206010  0.502292  0.219422  0.215153   \n",
       "\n",
       "   Amount  Class  \n",
       "0  149.62      0  \n",
       "1    2.69      0  \n",
       "2  378.66      0  \n",
       "3  123.50      0  \n",
       "4   69.99      0  "
      ]
     },
     "execution_count": 4,
     "metadata": {},
     "output_type": "execute_result"
    }
   ],
   "source": [
    "credit_card_back_up = pd.read_csv(r\"D:\\DataBases\\DataSets\\creditcard.csv\")\n",
    "df_shape = (credit_card_back_up.shape)\n",
    "credit_card = credit_card_back_up.copy()\n",
    "print(f\"There are {df_shape[0]} rows and {df_shape[1]} columns in the dataset\")\n",
    "credit_card.head()"
   ]
  },
  {
   "cell_type": "code",
   "execution_count": 7,
   "metadata": {},
   "outputs": [],
   "source": [
    "#We have to scale the features Time and Amount\n",
    "from sklearn.preprocessing import StandardScaler, RobustScaler"
   ]
  },
  {
   "cell_type": "code",
   "execution_count": 69,
   "metadata": {},
   "outputs": [],
   "source": [
    "std_scaler = StandardScaler()\n",
    "\n",
    "std_scaler.fit(credit_card.drop(\"Class\", axis=1))\n",
    "scaled_features = std_scaler.transform(credit_card.drop(\"Class\", axis=1))"
   ]
  },
  {
   "cell_type": "code",
   "execution_count": 70,
   "metadata": {},
   "outputs": [],
   "source": [
    "df_scaled_features = pd.DataFrame(scaled_features, columns= credit_card.columns[:-1])"
   ]
  },
  {
   "cell_type": "markdown",
   "metadata": {},
   "source": [
    "# 1.WITH UNBALANCED DATA"
   ]
  },
  {
   "cell_type": "code",
   "execution_count": 71,
   "metadata": {},
   "outputs": [],
   "source": [
    "#We split the data into 70% training and 30 testing\n",
    "X= scaled_features\n",
    "y=credit_card[\"Class\"].values\n",
    "X_train, X_test, y_train, y_test = train_test_split(X, y, test_size=0.30)"
   ]
  },
  {
   "cell_type": "code",
   "execution_count": 21,
   "metadata": {},
   "outputs": [],
   "source": [
    "#We define a function to calculate our performance metrics\n",
    "def evaluate_preds(y_test, y_pred):\n",
    "    accuracy = accuracy_score(y_test, y_pred)\n",
    "    precision = precision_score(y_test, y_pred)\n",
    "    recall = recall_score(y_test, y_pred)\n",
    "    f1 = f1_score(y_test, y_pred)\n",
    "    metric_dict = {\"accuracy\":round(accuracy, 2),\n",
    "                  \"precision\": round(precision, 2),\n",
    "                  \"recall\": round(recall, 2),\n",
    "                  \"f1\": round(f1, 2)}\n",
    "    print(f\"Accuracy: {accuracy*100:.2f}%\")\n",
    "    print(f\"Precision: {precision*100:.2f}%\")\n",
    "    print(f\"Recall: {recall*100:.2f}%\")\n",
    "    print(f\"F-1: {f1*100:.2f}%\")\n",
    "    \n",
    "    return metric_dict"
   ]
  },
  {
   "cell_type": "markdown",
   "metadata": {},
   "source": [
    "**We used RandomizedSearchCV to search for optimal parameters**"
   ]
  },
  {
   "cell_type": "code",
   "execution_count": 74,
   "metadata": {
    "scrolled": true
   },
   "outputs": [
    {
     "name": "stdout",
     "output_type": "stream",
     "text": [
      "Fitting 5 folds for each of 10 candidates, totalling 50 fits\n",
      "[CV] penalty=l1, class_weight=balanced, C=2 ..........................\n",
      "[CV] ........... penalty=l1, class_weight=balanced, C=2, total=   0.0s\n",
      "[CV] penalty=l1, class_weight=balanced, C=2 ..........................\n",
      "[CV] ........... penalty=l1, class_weight=balanced, C=2, total=   0.0s\n",
      "[CV] penalty=l1, class_weight=balanced, C=2 ..........................\n",
      "[CV] ........... penalty=l1, class_weight=balanced, C=2, total=   0.0s\n",
      "[CV] penalty=l1, class_weight=balanced, C=2 ..........................\n",
      "[CV] ........... penalty=l1, class_weight=balanced, C=2, total=   0.0s\n",
      "[CV] penalty=l1, class_weight=balanced, C=2 ..........................\n",
      "[CV] ........... penalty=l1, class_weight=balanced, C=2, total=   0.0s\n",
      "[CV] penalty=none, class_weight=balanced, C=19 .......................\n"
     ]
    },
    {
     "name": "stderr",
     "output_type": "stream",
     "text": [
      "[Parallel(n_jobs=1)]: Using backend SequentialBackend with 1 concurrent workers.\n",
      "C:\\Users\\nherm\\Anaconda3\\lib\\site-packages\\sklearn\\model_selection\\_validation.py:536: FitFailedWarning: Estimator fit failed. The score on this train-test partition for these parameters will be set to nan. Details: \n",
      "ValueError: Solver lbfgs supports only 'l2' or 'none' penalties, got l1 penalty.\n",
      "\n",
      "  FitFailedWarning)\n",
      "[Parallel(n_jobs=1)]: Done   1 out of   1 | elapsed:    0.0s remaining:    0.0s\n",
      "C:\\Users\\nherm\\Anaconda3\\lib\\site-packages\\sklearn\\linear_model\\_logistic.py:1505: UserWarning: Setting penalty='none' will ignore the C and l1_ratio parameters\n",
      "  \"Setting penalty='none' will ignore the C and l1_ratio \"\n"
     ]
    },
    {
     "name": "stdout",
     "output_type": "stream",
     "text": [
      "[CV] ........ penalty=none, class_weight=balanced, C=19, total=   1.0s\n",
      "[CV] penalty=none, class_weight=balanced, C=19 .......................\n"
     ]
    },
    {
     "name": "stderr",
     "output_type": "stream",
     "text": [
      "C:\\Users\\nherm\\Anaconda3\\lib\\site-packages\\sklearn\\linear_model\\_logistic.py:1505: UserWarning: Setting penalty='none' will ignore the C and l1_ratio parameters\n",
      "  \"Setting penalty='none' will ignore the C and l1_ratio \"\n"
     ]
    },
    {
     "name": "stdout",
     "output_type": "stream",
     "text": [
      "[CV] ........ penalty=none, class_weight=balanced, C=19, total=   1.3s\n",
      "[CV] penalty=none, class_weight=balanced, C=19 .......................\n"
     ]
    },
    {
     "name": "stderr",
     "output_type": "stream",
     "text": [
      "C:\\Users\\nherm\\Anaconda3\\lib\\site-packages\\sklearn\\linear_model\\_logistic.py:1505: UserWarning: Setting penalty='none' will ignore the C and l1_ratio parameters\n",
      "  \"Setting penalty='none' will ignore the C and l1_ratio \"\n"
     ]
    },
    {
     "name": "stdout",
     "output_type": "stream",
     "text": [
      "[CV] ........ penalty=none, class_weight=balanced, C=19, total=   1.3s\n",
      "[CV] penalty=none, class_weight=balanced, C=19 .......................\n"
     ]
    },
    {
     "name": "stderr",
     "output_type": "stream",
     "text": [
      "C:\\Users\\nherm\\Anaconda3\\lib\\site-packages\\sklearn\\linear_model\\_logistic.py:1505: UserWarning: Setting penalty='none' will ignore the C and l1_ratio parameters\n",
      "  \"Setting penalty='none' will ignore the C and l1_ratio \"\n"
     ]
    },
    {
     "name": "stdout",
     "output_type": "stream",
     "text": [
      "[CV] ........ penalty=none, class_weight=balanced, C=19, total=   1.5s\n",
      "[CV] penalty=none, class_weight=balanced, C=19 .......................\n"
     ]
    },
    {
     "name": "stderr",
     "output_type": "stream",
     "text": [
      "C:\\Users\\nherm\\Anaconda3\\lib\\site-packages\\sklearn\\linear_model\\_logistic.py:1505: UserWarning: Setting penalty='none' will ignore the C and l1_ratio parameters\n",
      "  \"Setting penalty='none' will ignore the C and l1_ratio \"\n"
     ]
    },
    {
     "name": "stdout",
     "output_type": "stream",
     "text": [
      "[CV] ........ penalty=none, class_weight=balanced, C=19, total=   1.2s\n",
      "[CV] penalty=none, class_weight=balanced, C=4 ........................\n"
     ]
    },
    {
     "name": "stderr",
     "output_type": "stream",
     "text": [
      "C:\\Users\\nherm\\Anaconda3\\lib\\site-packages\\sklearn\\linear_model\\_logistic.py:1505: UserWarning: Setting penalty='none' will ignore the C and l1_ratio parameters\n",
      "  \"Setting penalty='none' will ignore the C and l1_ratio \"\n"
     ]
    },
    {
     "name": "stdout",
     "output_type": "stream",
     "text": [
      "[CV] ......... penalty=none, class_weight=balanced, C=4, total=   1.0s\n",
      "[CV] penalty=none, class_weight=balanced, C=4 ........................\n"
     ]
    },
    {
     "name": "stderr",
     "output_type": "stream",
     "text": [
      "C:\\Users\\nherm\\Anaconda3\\lib\\site-packages\\sklearn\\linear_model\\_logistic.py:1505: UserWarning: Setting penalty='none' will ignore the C and l1_ratio parameters\n",
      "  \"Setting penalty='none' will ignore the C and l1_ratio \"\n"
     ]
    },
    {
     "name": "stdout",
     "output_type": "stream",
     "text": [
      "[CV] ......... penalty=none, class_weight=balanced, C=4, total=   1.3s\n",
      "[CV] penalty=none, class_weight=balanced, C=4 ........................\n"
     ]
    },
    {
     "name": "stderr",
     "output_type": "stream",
     "text": [
      "C:\\Users\\nherm\\Anaconda3\\lib\\site-packages\\sklearn\\linear_model\\_logistic.py:1505: UserWarning: Setting penalty='none' will ignore the C and l1_ratio parameters\n",
      "  \"Setting penalty='none' will ignore the C and l1_ratio \"\n"
     ]
    },
    {
     "name": "stdout",
     "output_type": "stream",
     "text": [
      "[CV] ......... penalty=none, class_weight=balanced, C=4, total=   1.3s\n",
      "[CV] penalty=none, class_weight=balanced, C=4 ........................\n"
     ]
    },
    {
     "name": "stderr",
     "output_type": "stream",
     "text": [
      "C:\\Users\\nherm\\Anaconda3\\lib\\site-packages\\sklearn\\linear_model\\_logistic.py:1505: UserWarning: Setting penalty='none' will ignore the C and l1_ratio parameters\n",
      "  \"Setting penalty='none' will ignore the C and l1_ratio \"\n"
     ]
    },
    {
     "name": "stdout",
     "output_type": "stream",
     "text": [
      "[CV] ......... penalty=none, class_weight=balanced, C=4, total=   1.4s\n",
      "[CV] penalty=none, class_weight=balanced, C=4 ........................\n"
     ]
    },
    {
     "name": "stderr",
     "output_type": "stream",
     "text": [
      "C:\\Users\\nherm\\Anaconda3\\lib\\site-packages\\sklearn\\linear_model\\_logistic.py:1505: UserWarning: Setting penalty='none' will ignore the C and l1_ratio parameters\n",
      "  \"Setting penalty='none' will ignore the C and l1_ratio \"\n"
     ]
    },
    {
     "name": "stdout",
     "output_type": "stream",
     "text": [
      "[CV] ......... penalty=none, class_weight=balanced, C=4, total=   1.1s\n",
      "[CV] penalty=elasticnet, class_weight=balanced, C=15 .................\n",
      "[CV] .. penalty=elasticnet, class_weight=balanced, C=15, total=   0.0s\n",
      "[CV] penalty=elasticnet, class_weight=balanced, C=15 .................\n",
      "[CV] .. penalty=elasticnet, class_weight=balanced, C=15, total=   0.0s\n",
      "[CV] penalty=elasticnet, class_weight=balanced, C=15 .................\n",
      "[CV] .. penalty=elasticnet, class_weight=balanced, C=15, total=   0.0s\n",
      "[CV] penalty=elasticnet, class_weight=balanced, C=15 .................\n",
      "[CV] .. penalty=elasticnet, class_weight=balanced, C=15, total=   0.0s\n",
      "[CV] penalty=elasticnet, class_weight=balanced, C=15 .................\n",
      "[CV] .. penalty=elasticnet, class_weight=balanced, C=15, total=   0.0s\n",
      "[CV] penalty=l1, class_weight=balanced, C=17 .........................\n",
      "[CV] .......... penalty=l1, class_weight=balanced, C=17, total=   0.0s\n",
      "[CV] penalty=l1, class_weight=balanced, C=17 ........................."
     ]
    },
    {
     "name": "stderr",
     "output_type": "stream",
     "text": [
      "C:\\Users\\nherm\\Anaconda3\\lib\\site-packages\\sklearn\\model_selection\\_validation.py:536: FitFailedWarning: Estimator fit failed. The score on this train-test partition for these parameters will be set to nan. Details: \n",
      "ValueError: Solver lbfgs supports only 'l2' or 'none' penalties, got elasticnet penalty.\n",
      "\n",
      "  FitFailedWarning)\n",
      "C:\\Users\\nherm\\Anaconda3\\lib\\site-packages\\sklearn\\model_selection\\_validation.py:536: FitFailedWarning: Estimator fit failed. The score on this train-test partition for these parameters will be set to nan. Details: \n",
      "ValueError: Solver lbfgs supports only 'l2' or 'none' penalties, got l1 penalty.\n",
      "\n",
      "  FitFailedWarning)\n"
     ]
    },
    {
     "name": "stdout",
     "output_type": "stream",
     "text": [
      "\n",
      "[CV] .......... penalty=l1, class_weight=balanced, C=17, total=   0.0s\n",
      "[CV] penalty=l1, class_weight=balanced, C=17 .........................\n",
      "[CV] .......... penalty=l1, class_weight=balanced, C=17, total=   0.0s\n",
      "[CV] penalty=l1, class_weight=balanced, C=17 .........................\n",
      "[CV] .......... penalty=l1, class_weight=balanced, C=17, total=   0.0s\n",
      "[CV] penalty=l1, class_weight=balanced, C=17 .........................\n",
      "[CV] .......... penalty=l1, class_weight=balanced, C=17, total=   0.0s\n",
      "[CV] penalty=l1, class_weight=balanced, C=6 ..........................\n",
      "[CV] ........... penalty=l1, class_weight=balanced, C=6, total=   0.0s\n",
      "[CV] penalty=l1, class_weight=balanced, C=6 ..........................\n",
      "[CV] ........... penalty=l1, class_weight=balanced, C=6, total=   0.0s\n",
      "[CV] penalty=l1, class_weight=balanced, C=6 ..........................\n",
      "[CV] ........... penalty=l1, class_weight=balanced, C=6, total=   0.0s\n",
      "[CV] penalty=l1, class_weight=balanced, C=6 ..........................\n",
      "[CV] ........... penalty=l1, class_weight=balanced, C=6, total=   0.0s\n",
      "[CV] penalty=l1, class_weight=balanced, C=6 ..........................\n",
      "[CV] ........... penalty=l1, class_weight=balanced, C=6, total=   0.0s\n",
      "[CV] penalty=elasticnet, class_weight=balanced, C=13 .................\n",
      "[CV] .. penalty=elasticnet, class_weight=balanced, C=13, total=   0.0s\n",
      "[CV] penalty=elasticnet, class_weight=balanced, C=13 .................\n",
      "[CV] .. penalty=elasticnet, class_weight=balanced, C=13, total=   0.0s\n",
      "[CV] penalty=elasticnet, class_weight=balanced, C=13 .................\n",
      "[CV] .. penalty=elasticnet, class_weight=balanced, C=13, total=   0.0s\n",
      "[CV] penalty=elasticnet, class_weight=balanced, C=13 .................\n",
      "[CV] .. penalty=elasticnet, class_weight=balanced, C=13, total=   0.0s\n",
      "[CV] penalty=elasticnet, class_weight=balanced, C=13 .................\n",
      "[CV] .. penalty=elasticnet, class_weight=balanced, C=13, total=   0.0s\n",
      "[CV] penalty=elasticnet, class_weight=balanced, C=12 .................\n",
      "[CV] .. penalty=elasticnet, class_weight=balanced, C=12, total=   0.0s\n",
      "[CV] penalty=elasticnet, class_weight=balanced, C=12 .................\n",
      "[CV] .. penalty=elasticnet, class_weight=balanced, C=12, total=   0.0s\n",
      "[CV] penalty=elasticnet, class_weight=balanced, C=12 .................\n",
      "[CV] .. penalty=elasticnet, class_weight=balanced, C=12, total=   0.0s\n",
      "[CV] penalty=elasticnet, class_weight=balanced, C=12 .................\n",
      "[CV] .. penalty=elasticnet, class_weight=balanced, C=12, total=   0.0s\n",
      "[CV] penalty=elasticnet, class_weight=balanced, C=12 .................\n",
      "[CV] .. penalty=elasticnet, class_weight=balanced, C=12, total=   0.0s\n",
      "[CV] penalty=l2, class_weight=balanced, C=1 ..........................\n",
      "[CV] ........... penalty=l2, class_weight=balanced, C=1, total=   1.0s\n",
      "[CV] penalty=l2, class_weight=balanced, C=1 ..........................\n",
      "[CV] ........... penalty=l2, class_weight=balanced, C=1, total=   1.0s\n",
      "[CV] penalty=l2, class_weight=balanced, C=1 ..........................\n",
      "[CV] ........... penalty=l2, class_weight=balanced, C=1, total=   1.1s\n",
      "[CV] penalty=l2, class_weight=balanced, C=1 ..........................\n",
      "[CV] ........... penalty=l2, class_weight=balanced, C=1, total=   1.5s\n",
      "[CV] penalty=l2, class_weight=balanced, C=1 ..........................\n",
      "[CV] ........... penalty=l2, class_weight=balanced, C=1, total=   1.3s\n",
      "[CV] penalty=l1, class_weight=balanced, C=16 .........................\n",
      "[CV] .......... penalty=l1, class_weight=balanced, C=16, total=   0.0s\n",
      "[CV] penalty=l1, class_weight=balanced, C=16 .........................\n",
      "[CV] .......... penalty=l1, class_weight=balanced, C=16, total=   0.0s\n",
      "[CV] penalty=l1, class_weight=balanced, C=16 .........................\n",
      "[CV] .......... penalty=l1, class_weight=balanced, C=16, total=   0.0s\n",
      "[CV] penalty=l1, class_weight=balanced, C=16 .........................\n",
      "[CV] .......... penalty=l1, class_weight=balanced, C=16, total=   0.0s\n",
      "[CV] penalty=l1, class_weight=balanced, C=16 .........................\n"
     ]
    },
    {
     "name": "stderr",
     "output_type": "stream",
     "text": [
      "C:\\Users\\nherm\\Anaconda3\\lib\\site-packages\\sklearn\\model_selection\\_validation.py:536: FitFailedWarning: Estimator fit failed. The score on this train-test partition for these parameters will be set to nan. Details: \n",
      "ValueError: Solver lbfgs supports only 'l2' or 'none' penalties, got l1 penalty.\n",
      "\n",
      "  FitFailedWarning)\n"
     ]
    },
    {
     "name": "stdout",
     "output_type": "stream",
     "text": [
      "[CV] .......... penalty=l1, class_weight=balanced, C=16, total=   0.0s\n"
     ]
    },
    {
     "name": "stderr",
     "output_type": "stream",
     "text": [
      "[Parallel(n_jobs=1)]: Done  50 out of  50 | elapsed:   19.5s finished\n"
     ]
    },
    {
     "name": "stdout",
     "output_type": "stream",
     "text": [
      "Accuracy: 97.66%\n",
      "Precision: 0.06\n",
      "Recall: 0.94\n",
      "F-1: 0.11\n"
     ]
    }
   ],
   "source": [
    "#from sklearn.model_selection import RandomizedSearchCV\n",
    "#We create a dictinnay containing the parameters we would like to adjust as the keys and then the values \n",
    "#we would like to try as the values of the dict\n",
    "penalties = np.arange(1,21,1)\n",
    "grid={\"C\":penalties,\n",
    "      \"class_weight\":[\"balanced\"],\n",
    "      \"penalty\":[\"l1\", \"l2\", \"elasticnet\", \"none\"]}\n",
    "#...\n",
    "clf= LogisticRegression()\n",
    "#rsCV\n",
    "rscv_clf = RandomizedSearchCV(estimator=clf,\n",
    "                             param_distributions=grid,\n",
    "                             n_iter=10,#number of model to try\n",
    "                             cv=5,\n",
    "                             verbose=2)\n",
    "#fit the RandomizedSearchCv version of clf\n",
    "rscv_clf.fit(X_train, y_train)\n",
    "#Make prediction with the best hyperparameters\n",
    "rscv_y_pred = rscv_clf.predict(X_test)\n",
    "#We evaluate the prediction\n",
    "rscv_metrics = evaluate_preds(y_test, rscv_y_pred)"
   ]
  },
  {
   "cell_type": "code",
   "execution_count": 75,
   "metadata": {},
   "outputs": [
    {
     "data": {
      "text/plain": [
       "{'penalty': 'l2', 'class_weight': 'balanced', 'C': 1}"
      ]
     },
     "execution_count": 75,
     "metadata": {},
     "output_type": "execute_result"
    }
   ],
   "source": [
    "#call the estimator with the best result \n",
    "rscv_clf.best_params_"
   ]
  },
  {
   "cell_type": "markdown",
   "metadata": {},
   "source": [
    "**We used GridSearchCV to tune the optimal parameters obtained from RandomizedSearchCV**"
   ]
  },
  {
   "cell_type": "code",
   "execution_count": 76,
   "metadata": {
    "scrolled": true
   },
   "outputs": [
    {
     "name": "stdout",
     "output_type": "stream",
     "text": [
      "Fitting 5 folds for each of 10 candidates, totalling 50 fits\n",
      "[CV] C=1.0, class_weight=balanced, penalty=l2 ........................\n"
     ]
    },
    {
     "name": "stderr",
     "output_type": "stream",
     "text": [
      "[Parallel(n_jobs=1)]: Using backend SequentialBackend with 1 concurrent workers.\n"
     ]
    },
    {
     "name": "stdout",
     "output_type": "stream",
     "text": [
      "[CV] ......... C=1.0, class_weight=balanced, penalty=l2, total=   0.9s\n",
      "[CV] C=1.0, class_weight=balanced, penalty=l2 ........................\n"
     ]
    },
    {
     "name": "stderr",
     "output_type": "stream",
     "text": [
      "[Parallel(n_jobs=1)]: Done   1 out of   1 | elapsed:    0.8s remaining:    0.0s\n"
     ]
    },
    {
     "name": "stdout",
     "output_type": "stream",
     "text": [
      "[CV] ......... C=1.0, class_weight=balanced, penalty=l2, total=   1.1s\n",
      "[CV] C=1.0, class_weight=balanced, penalty=l2 ........................\n",
      "[CV] ......... C=1.0, class_weight=balanced, penalty=l2, total=   1.1s\n",
      "[CV] C=1.0, class_weight=balanced, penalty=l2 ........................\n",
      "[CV] ......... C=1.0, class_weight=balanced, penalty=l2, total=   1.6s\n",
      "[CV] C=1.0, class_weight=balanced, penalty=l2 ........................\n",
      "[CV] ......... C=1.0, class_weight=balanced, penalty=l2, total=   1.2s\n",
      "[CV] C=1.1, class_weight=balanced, penalty=l2 ........................\n",
      "[CV] ......... C=1.1, class_weight=balanced, penalty=l2, total=   1.0s\n",
      "[CV] C=1.1, class_weight=balanced, penalty=l2 ........................\n",
      "[CV] ......... C=1.1, class_weight=balanced, penalty=l2, total=   1.0s\n",
      "[CV] C=1.1, class_weight=balanced, penalty=l2 ........................\n",
      "[CV] ......... C=1.1, class_weight=balanced, penalty=l2, total=   1.1s\n",
      "[CV] C=1.1, class_weight=balanced, penalty=l2 ........................\n",
      "[CV] ......... C=1.1, class_weight=balanced, penalty=l2, total=   1.4s\n",
      "[CV] C=1.1, class_weight=balanced, penalty=l2 ........................\n",
      "[CV] ......... C=1.1, class_weight=balanced, penalty=l2, total=   1.2s\n",
      "[CV] C=1.2000000000000002, class_weight=balanced, penalty=l2 .........\n",
      "[CV]  C=1.2000000000000002, class_weight=balanced, penalty=l2, total=   0.9s\n",
      "[CV] C=1.2000000000000002, class_weight=balanced, penalty=l2 .........\n",
      "[CV]  C=1.2000000000000002, class_weight=balanced, penalty=l2, total=   1.2s\n",
      "[CV] C=1.2000000000000002, class_weight=balanced, penalty=l2 .........\n",
      "[CV]  C=1.2000000000000002, class_weight=balanced, penalty=l2, total=   1.3s\n",
      "[CV] C=1.2000000000000002, class_weight=balanced, penalty=l2 .........\n",
      "[CV]  C=1.2000000000000002, class_weight=balanced, penalty=l2, total=   1.4s\n",
      "[CV] C=1.2000000000000002, class_weight=balanced, penalty=l2 .........\n",
      "[CV]  C=1.2000000000000002, class_weight=balanced, penalty=l2, total=   1.1s\n",
      "[CV] C=1.3000000000000003, class_weight=balanced, penalty=l2 .........\n",
      "[CV]  C=1.3000000000000003, class_weight=balanced, penalty=l2, total=   1.0s\n",
      "[CV] C=1.3000000000000003, class_weight=balanced, penalty=l2 .........\n",
      "[CV]  C=1.3000000000000003, class_weight=balanced, penalty=l2, total=   1.0s\n",
      "[CV] C=1.3000000000000003, class_weight=balanced, penalty=l2 .........\n",
      "[CV]  C=1.3000000000000003, class_weight=balanced, penalty=l2, total=   1.1s\n",
      "[CV] C=1.3000000000000003, class_weight=balanced, penalty=l2 .........\n",
      "[CV]  C=1.3000000000000003, class_weight=balanced, penalty=l2, total=   1.4s\n",
      "[CV] C=1.3000000000000003, class_weight=balanced, penalty=l2 .........\n",
      "[CV]  C=1.3000000000000003, class_weight=balanced, penalty=l2, total=   1.2s\n",
      "[CV] C=1.4000000000000004, class_weight=balanced, penalty=l2 .........\n",
      "[CV]  C=1.4000000000000004, class_weight=balanced, penalty=l2, total=   1.0s\n",
      "[CV] C=1.4000000000000004, class_weight=balanced, penalty=l2 .........\n",
      "[CV]  C=1.4000000000000004, class_weight=balanced, penalty=l2, total=   1.1s\n",
      "[CV] C=1.4000000000000004, class_weight=balanced, penalty=l2 .........\n",
      "[CV]  C=1.4000000000000004, class_weight=balanced, penalty=l2, total=   1.2s\n",
      "[CV] C=1.4000000000000004, class_weight=balanced, penalty=l2 .........\n",
      "[CV]  C=1.4000000000000004, class_weight=balanced, penalty=l2, total=   1.5s\n",
      "[CV] C=1.4000000000000004, class_weight=balanced, penalty=l2 .........\n",
      "[CV]  C=1.4000000000000004, class_weight=balanced, penalty=l2, total=   1.3s\n",
      "[CV] C=1.5000000000000004, class_weight=balanced, penalty=l2 .........\n",
      "[CV]  C=1.5000000000000004, class_weight=balanced, penalty=l2, total=   1.0s\n",
      "[CV] C=1.5000000000000004, class_weight=balanced, penalty=l2 .........\n",
      "[CV]  C=1.5000000000000004, class_weight=balanced, penalty=l2, total=   1.1s\n",
      "[CV] C=1.5000000000000004, class_weight=balanced, penalty=l2 .........\n",
      "[CV]  C=1.5000000000000004, class_weight=balanced, penalty=l2, total=   1.2s\n",
      "[CV] C=1.5000000000000004, class_weight=balanced, penalty=l2 .........\n",
      "[CV]  C=1.5000000000000004, class_weight=balanced, penalty=l2, total=   1.5s\n",
      "[CV] C=1.5000000000000004, class_weight=balanced, penalty=l2 .........\n",
      "[CV]  C=1.5000000000000004, class_weight=balanced, penalty=l2, total=   1.1s\n",
      "[CV] C=1.6000000000000005, class_weight=balanced, penalty=l2 .........\n",
      "[CV]  C=1.6000000000000005, class_weight=balanced, penalty=l2, total=   0.9s\n",
      "[CV] C=1.6000000000000005, class_weight=balanced, penalty=l2 .........\n",
      "[CV]  C=1.6000000000000005, class_weight=balanced, penalty=l2, total=   1.1s\n",
      "[CV] C=1.6000000000000005, class_weight=balanced, penalty=l2 .........\n",
      "[CV]  C=1.6000000000000005, class_weight=balanced, penalty=l2, total=   1.3s\n",
      "[CV] C=1.6000000000000005, class_weight=balanced, penalty=l2 .........\n",
      "[CV]  C=1.6000000000000005, class_weight=balanced, penalty=l2, total=   1.5s\n",
      "[CV] C=1.6000000000000005, class_weight=balanced, penalty=l2 .........\n",
      "[CV]  C=1.6000000000000005, class_weight=balanced, penalty=l2, total=   1.2s\n",
      "[CV] C=1.7000000000000006, class_weight=balanced, penalty=l2 .........\n",
      "[CV]  C=1.7000000000000006, class_weight=balanced, penalty=l2, total=   1.0s\n",
      "[CV] C=1.7000000000000006, class_weight=balanced, penalty=l2 .........\n",
      "[CV]  C=1.7000000000000006, class_weight=balanced, penalty=l2, total=   1.2s\n",
      "[CV] C=1.7000000000000006, class_weight=balanced, penalty=l2 .........\n",
      "[CV]  C=1.7000000000000006, class_weight=balanced, penalty=l2, total=   1.4s\n",
      "[CV] C=1.7000000000000006, class_weight=balanced, penalty=l2 .........\n",
      "[CV]  C=1.7000000000000006, class_weight=balanced, penalty=l2, total=   1.4s\n",
      "[CV] C=1.7000000000000006, class_weight=balanced, penalty=l2 .........\n",
      "[CV]  C=1.7000000000000006, class_weight=balanced, penalty=l2, total=   1.2s\n",
      "[CV] C=1.8000000000000007, class_weight=balanced, penalty=l2 .........\n",
      "[CV]  C=1.8000000000000007, class_weight=balanced, penalty=l2, total=   1.0s\n",
      "[CV] C=1.8000000000000007, class_weight=balanced, penalty=l2 .........\n",
      "[CV]  C=1.8000000000000007, class_weight=balanced, penalty=l2, total=   1.1s\n",
      "[CV] C=1.8000000000000007, class_weight=balanced, penalty=l2 .........\n",
      "[CV]  C=1.8000000000000007, class_weight=balanced, penalty=l2, total=   1.2s\n",
      "[CV] C=1.8000000000000007, class_weight=balanced, penalty=l2 .........\n",
      "[CV]  C=1.8000000000000007, class_weight=balanced, penalty=l2, total=   1.4s\n",
      "[CV] C=1.8000000000000007, class_weight=balanced, penalty=l2 .........\n",
      "[CV]  C=1.8000000000000007, class_weight=balanced, penalty=l2, total=   1.2s\n",
      "[CV] C=1.9000000000000008, class_weight=balanced, penalty=l2 .........\n",
      "[CV]  C=1.9000000000000008, class_weight=balanced, penalty=l2, total=   1.0s\n",
      "[CV] C=1.9000000000000008, class_weight=balanced, penalty=l2 .........\n",
      "[CV]  C=1.9000000000000008, class_weight=balanced, penalty=l2, total=   1.2s\n",
      "[CV] C=1.9000000000000008, class_weight=balanced, penalty=l2 .........\n",
      "[CV]  C=1.9000000000000008, class_weight=balanced, penalty=l2, total=   1.3s\n",
      "[CV] C=1.9000000000000008, class_weight=balanced, penalty=l2 .........\n",
      "[CV]  C=1.9000000000000008, class_weight=balanced, penalty=l2, total=   1.7s\n",
      "[CV] C=1.9000000000000008, class_weight=balanced, penalty=l2 .........\n",
      "[CV]  C=1.9000000000000008, class_weight=balanced, penalty=l2, total=   1.4s\n"
     ]
    },
    {
     "name": "stderr",
     "output_type": "stream",
     "text": [
      "[Parallel(n_jobs=1)]: Done  50 out of  50 | elapsed:  1.0min finished\n"
     ]
    },
    {
     "name": "stdout",
     "output_type": "stream",
     "text": [
      "Accuracy: 97.66%\n",
      "Precision: 0.06\n",
      "Recall: 0.94\n",
      "F-1: 0.11\n"
     ]
    }
   ],
   "source": [
    "#We take the best parameters previously obtained\n",
    "#grid2 = best parameters grid 1\n",
    "penalties = np.arange(1,2,0.1)\n",
    "grid_2={\"C\":penalties,\n",
    "        \"class_weight\":[\"balanced\"],\n",
    "        \"penalty\":[\"l2\"]}\n",
    "\n",
    "clf= LogisticRegression()\n",
    "#rsCV\n",
    "gscv_clf = GridSearchCV(estimator=clf,\n",
    "                           param_grid=grid_2,\n",
    "                           cv=5,\n",
    "                           verbose=2)\n",
    "\n",
    "#fit the GridSearchCV version of clf\n",
    "gscv_clf.fit(X_train, y_train)\n",
    "#Make prediction with the best hyperparameters\n",
    "gscv_y_pred = gscv_clf.predict(X_test)\n",
    "#We evaluate the prediction\n",
    "gscv_metrics = evaluate_preds(y_test, gscv_y_pred)"
   ]
  },
  {
   "cell_type": "code",
   "execution_count": 77,
   "metadata": {},
   "outputs": [
    {
     "data": {
      "text/plain": [
       "{'C': 1.6000000000000005, 'class_weight': 'balanced', 'penalty': 'l2'}"
      ]
     },
     "execution_count": 77,
     "metadata": {},
     "output_type": "execute_result"
    }
   ],
   "source": [
    "#call the estimator with the best result \n",
    "gscv_clf.best_params_"
   ]
  },
  {
   "cell_type": "code",
   "execution_count": 78,
   "metadata": {},
   "outputs": [
    {
     "name": "stdout",
     "output_type": "stream",
     "text": [
      "Accuracy: 97.66%\n",
      "Precision: 0.06\n",
      "Recall: 0.94\n",
      "F-1: 0.11\n"
     ]
    }
   ],
   "source": [
    "#Baseline model\n",
    "lr_clf = LogisticRegression(C = 1.60, class_weight = 'balanced', penalty= 'l2')\n",
    "#We fit the model with the traing data\n",
    "lr_clf.fit(X_train, y_train)\n",
    "#baseline prediction\n",
    "y_pred = lr_clf.predict(X_test)\n",
    "#Evaluate the model on validation set \n",
    "baseline_metrics = evaluate_preds(y_test, y_pred)"
   ]
  },
  {
   "cell_type": "markdown",
   "metadata": {},
   "source": [
    "**Confusion Matrix**"
   ]
  },
  {
   "cell_type": "code",
   "execution_count": 79,
   "metadata": {
    "scrolled": true
   },
   "outputs": [
    {
     "name": "stdout",
     "output_type": "stream",
     "text": [
      "Using Balanced Class Weight Data\n",
      "\n",
      "\n",
      "[[83323  1994]\n",
      " [    7   119]]\n",
      "\n",
      "\n",
      "              precision    recall  f1-score   support\n",
      "\n",
      "           0       1.00      0.98      0.99     85317\n",
      "           1       0.06      0.94      0.11       126\n",
      "\n",
      "    accuracy                           0.98     85443\n",
      "   macro avg       0.53      0.96      0.55     85443\n",
      "weighted avg       1.00      0.98      0.99     85443\n",
      "\n"
     ]
    }
   ],
   "source": [
    "print('Using Balanced Class Weight Data')\n",
    "print('\\n')\n",
    "print(confusion_matrix(y_test,y_pred))\n",
    "print('\\n')\n",
    "print(classification_report(y_test,y_pred))"
   ]
  },
  {
   "cell_type": "code",
   "execution_count": 80,
   "metadata": {},
   "outputs": [
    {
     "data": {
      "image/png": "[encoded data removed]",
      "text/plain": [
       "<Figure size 720x360 with 1 Axes>"
      ]
     },
     "metadata": {},
     "output_type": "display_data"
    }
   ],
   "source": [
    "#Visualize cm with seaborn\n",
    "sns.set(font_scale=1.2)\n",
    "cm = confusion_matrix(y_test, y_pred)\n",
    "sns.heatmap(cm,\n",
    "           annot=True,\n",
    "           cbar=False,\n",
    "           cmap=\"RdYlGn\",\n",
    "           linewidths=0.30,\n",
    "           fmt=\"\");\n",
    "plt.xlabel(\"True Label\")\n",
    "plt.ylabel(\"Predicted Label\");"
   ]
  },
  {
   "cell_type": "markdown",
   "metadata": {},
   "source": [
    "**ROC_AUC_CURVE**"
   ]
  },
  {
   "cell_type": "code",
   "execution_count": 83,
   "metadata": {},
   "outputs": [
    {
     "name": "stdout",
     "output_type": "stream",
     "text": [
      "\n",
      " ROC_AUC_CURVE\n",
      "\n",
      "\n",
      " ROC AUC SCORE: 0.96\n",
      "\n",
      "\n"
     ]
    },
    {
     "data": {
      "image/png": "[encoded data removed]",
      "text/plain": [
       "<Figure size 360x360 with 1 Axes>"
      ]
     },
     "metadata": {},
     "output_type": "display_data"
    }
   ],
   "source": [
    "print('\\n ROC_AUC_CURVE\\n')\n",
    "log_roc_auc = roc_auc_score(y_test, y_pred)\n",
    "print('\\n ROC AUC SCORE: %0.2f' % log_roc_auc)\n",
    "print('\\n')\n",
    "y_prob = lr_clf.predict_proba(X_test)\n",
    "#only positive(correct) predictions\n",
    "y_prob_positive = y_prob[:, 1]\n",
    "\n",
    "fpr, tpr, thresholds = roc_curve(y_test, y_prob_positive)\n",
    "plt.figure(figsize=(5,5))\n",
    "plt.plot(fpr, tpr, label='Log Classifier(AUC = %0.2f)' % log_roc_auc)\n",
    "plt.plot([0, 1], [0, 1],'r--', label=\"Baseline\")\n",
    "plt.xlim([0.0, 1.0])\n",
    "plt.ylim([0.0, 1.05])\n",
    "plt.xlabel('False Positive Rate')\n",
    "plt.ylabel('True Positive Rate')\n",
    "plt.title('Receiver operating characteristic')\n",
    "plt.legend(loc=\"lower right\")\n",
    "#plt.savefig('Log_ROC')\n",
    "plt.show()"
   ]
  },
  {
   "cell_type": "markdown",
   "metadata": {},
   "source": [
    "# 2.WITH BALANCED DATA "
   ]
  },
  {
   "cell_type": "code",
   "execution_count": 5,
   "metadata": {},
   "outputs": [
    {
     "name": "stdout",
     "output_type": "stream",
     "text": [
      "Distribution of the classes in the subsample dataset\n",
      "1    0.5\n",
      "0    0.5\n",
      "Name: Class, dtype: float64\n"
     ]
    }
   ],
   "source": [
    "unbalanced_df = credit_card\n",
    "\n",
    "unbalanced_df = unbalanced_df.sample(frac=1)\n",
    "\n",
    "fraud = unbalanced_df.loc[unbalanced_df[\"Class\"]==1]\n",
    "non_fraud = unbalanced_df.loc[unbalanced_df[\"Class\"]==0][:492]\n",
    "balanced_df = pd.concat([fraud, non_fraud])\n",
    "\n",
    "shuffled_df = balanced_df.sample(frac=1, random_state=88)\n",
    "\n",
    "print(\"Distribution of the classes in the subsample dataset\")\n",
    "print(shuffled_df[\"Class\"].value_counts()/len(shuffled_df))"
   ]
  },
  {
   "cell_type": "code",
   "execution_count": 8,
   "metadata": {},
   "outputs": [],
   "source": [
    "std_scaler = StandardScaler()\n",
    "\n",
    "std_scaler.fit(shuffled_df.drop(\"Class\", axis=1))\n",
    "bal_scaled_features = std_scaler.transform(shuffled_df.drop(\"Class\", axis=1))"
   ]
  },
  {
   "cell_type": "code",
   "execution_count": 9,
   "metadata": {},
   "outputs": [],
   "source": [
    "X= bal_scaled_features\n",
    "y= shuffled_df[\"Class\"].values\n",
    "X_train, X_test, y_train, y_test = train_test_split(X, y, test_size=0.30)"
   ]
  },
  {
   "cell_type": "markdown",
   "metadata": {},
   "source": [
    "**We used RandomizedSearchCV to search for optimal parameters**"
   ]
  },
  {
   "cell_type": "code",
   "execution_count": 13,
   "metadata": {
    "scrolled": true
   },
   "outputs": [
    {
     "name": "stdout",
     "output_type": "stream",
     "text": [
      "Fitting 5 folds for each of 10 candidates, totalling 50 fits\n",
      "[CV] random_state=0, penalty=l1, C=10 ................................\n",
      "[CV] ................. random_state=0, penalty=l1, C=10, total=   0.0s\n",
      "[CV] random_state=0, penalty=l1, C=10 ................................\n",
      "[CV] ................. random_state=0, penalty=l1, C=10, total=   0.0s\n",
      "[CV] random_state=0, penalty=l1, C=10 ................................\n",
      "[CV] ................. random_state=0, penalty=l1, C=10, total=   0.0s\n",
      "[CV] random_state=0, penalty=l1, C=10 ................................\n",
      "[CV] ................. random_state=0, penalty=l1, C=10, total=   0.0s\n",
      "[CV] random_state=0, penalty=l1, C=10 ................................\n",
      "[CV] ................. random_state=0, penalty=l1, C=10, total=   0.0s\n",
      "[CV] random_state=0, penalty=l2, C=6 .................................\n",
      "[CV] .................. random_state=0, penalty=l2, C=6, total=   0.0s\n",
      "[CV] random_state=0, penalty=l2, C=6 .................................\n",
      "[CV] .................. random_state=0, penalty=l2, C=6, total=   0.0s\n",
      "[CV] random_state=0, penalty=l2, C=6 .................................\n",
      "[CV] .................. random_state=0, penalty=l2, C=6, total=   0.0s\n",
      "[CV] random_state=0, penalty=l2, C=6 .................................\n",
      "[CV] .................. random_state=0, penalty=l2, C=6, total=   0.0s\n",
      "[CV] random_state=0, penalty=l2, C=6 .................................\n",
      "[CV] .................. random_state=0, penalty=l2, C=6, total=   0.0s\n",
      "[CV] random_state=0, penalty=none, C=2 ...............................\n"
     ]
    },
    {
     "name": "stderr",
     "output_type": "stream",
     "text": [
      "[Parallel(n_jobs=1)]: Using backend SequentialBackend with 1 concurrent workers.\n",
      "C:\\Users\\nherm\\Anaconda3\\lib\\site-packages\\sklearn\\model_selection\\_validation.py:536: FitFailedWarning: Estimator fit failed. The score on this train-test partition for these parameters will be set to nan. Details: \n",
      "ValueError: Solver lbfgs supports only 'l2' or 'none' penalties, got l1 penalty.\n",
      "\n",
      "  FitFailedWarning)\n",
      "[Parallel(n_jobs=1)]: Done   1 out of   1 | elapsed:    0.0s remaining:    0.0s\n",
      "C:\\Users\\nherm\\Anaconda3\\lib\\site-packages\\sklearn\\linear_model\\_logistic.py:1505: UserWarning: Setting penalty='none' will ignore the C and l1_ratio parameters\n",
      "  \"Setting penalty='none' will ignore the C and l1_ratio \"\n",
      "C:\\Users\\nherm\\Anaconda3\\lib\\site-packages\\sklearn\\linear_model\\_logistic.py:940: ConvergenceWarning: lbfgs failed to converge (status=1):\n",
      "STOP: TOTAL NO. of ITERATIONS REACHED LIMIT.\n",
      "\n",
      "Increase the number of iterations (max_iter) or scale the data as shown in:\n",
      "    https://scikit-learn.org/stable/modules/preprocessing.html\n",
      "Please also refer to the documentation for alternative solver options:\n",
      "    https://scikit-learn.org/stable/modules/linear_model.html#logistic-regression\n",
      "  extra_warning_msg=_LOGISTIC_SOLVER_CONVERGENCE_MSG)\n",
      "C:\\Users\\nherm\\Anaconda3\\lib\\site-packages\\sklearn\\linear_model\\_logistic.py:1505: UserWarning: Setting penalty='none' will ignore the C and l1_ratio parameters\n",
      "  \"Setting penalty='none' will ignore the C and l1_ratio \"\n"
     ]
    },
    {
     "name": "stdout",
     "output_type": "stream",
     "text": [
      "[CV] ................ random_state=0, penalty=none, C=2, total=   0.4s\n",
      "[CV] random_state=0, penalty=none, C=2 ...............................\n"
     ]
    },
    {
     "name": "stderr",
     "output_type": "stream",
     "text": [
      "C:\\Users\\nherm\\Anaconda3\\lib\\site-packages\\sklearn\\linear_model\\_logistic.py:940: ConvergenceWarning: lbfgs failed to converge (status=1):\n",
      "STOP: TOTAL NO. of ITERATIONS REACHED LIMIT.\n",
      "\n",
      "Increase the number of iterations (max_iter) or scale the data as shown in:\n",
      "    https://scikit-learn.org/stable/modules/preprocessing.html\n",
      "Please also refer to the documentation for alternative solver options:\n",
      "    https://scikit-learn.org/stable/modules/linear_model.html#logistic-regression\n",
      "  extra_warning_msg=_LOGISTIC_SOLVER_CONVERGENCE_MSG)\n",
      "C:\\Users\\nherm\\Anaconda3\\lib\\site-packages\\sklearn\\linear_model\\_logistic.py:1505: UserWarning: Setting penalty='none' will ignore the C and l1_ratio parameters\n",
      "  \"Setting penalty='none' will ignore the C and l1_ratio \"\n"
     ]
    },
    {
     "name": "stdout",
     "output_type": "stream",
     "text": [
      "[CV] ................ random_state=0, penalty=none, C=2, total=   0.4s\n",
      "[CV] random_state=0, penalty=none, C=2 ...............................\n"
     ]
    },
    {
     "name": "stderr",
     "output_type": "stream",
     "text": [
      "C:\\Users\\nherm\\Anaconda3\\lib\\site-packages\\sklearn\\linear_model\\_logistic.py:940: ConvergenceWarning: lbfgs failed to converge (status=1):\n",
      "STOP: TOTAL NO. of ITERATIONS REACHED LIMIT.\n",
      "\n",
      "Increase the number of iterations (max_iter) or scale the data as shown in:\n",
      "    https://scikit-learn.org/stable/modules/preprocessing.html\n",
      "Please also refer to the documentation for alternative solver options:\n",
      "    https://scikit-learn.org/stable/modules/linear_model.html#logistic-regression\n",
      "  extra_warning_msg=_LOGISTIC_SOLVER_CONVERGENCE_MSG)\n",
      "C:\\Users\\nherm\\Anaconda3\\lib\\site-packages\\sklearn\\linear_model\\_logistic.py:1505: UserWarning: Setting penalty='none' will ignore the C and l1_ratio parameters\n",
      "  \"Setting penalty='none' will ignore the C and l1_ratio \"\n"
     ]
    },
    {
     "name": "stdout",
     "output_type": "stream",
     "text": [
      "[CV] ................ random_state=0, penalty=none, C=2, total=   0.4s\n",
      "[CV] random_state=0, penalty=none, C=2 ...............................\n",
      "[CV] ................ random_state=0, penalty=none, C=2, total=   0.3s\n",
      "[CV] random_state=0, penalty=none, C=2 ...............................\n"
     ]
    },
    {
     "name": "stderr",
     "output_type": "stream",
     "text": [
      "C:\\Users\\nherm\\Anaconda3\\lib\\site-packages\\sklearn\\linear_model\\_logistic.py:1505: UserWarning: Setting penalty='none' will ignore the C and l1_ratio parameters\n",
      "  \"Setting penalty='none' will ignore the C and l1_ratio \"\n",
      "C:\\Users\\nherm\\Anaconda3\\lib\\site-packages\\sklearn\\linear_model\\_logistic.py:940: ConvergenceWarning: lbfgs failed to converge (status=1):\n",
      "STOP: TOTAL NO. of ITERATIONS REACHED LIMIT.\n",
      "\n",
      "Increase the number of iterations (max_iter) or scale the data as shown in:\n",
      "    https://scikit-learn.org/stable/modules/preprocessing.html\n",
      "Please also refer to the documentation for alternative solver options:\n",
      "    https://scikit-learn.org/stable/modules/linear_model.html#logistic-regression\n",
      "  extra_warning_msg=_LOGISTIC_SOLVER_CONVERGENCE_MSG)\n"
     ]
    },
    {
     "name": "stdout",
     "output_type": "stream",
     "text": [
      "[CV] ................ random_state=0, penalty=none, C=2, total=   0.4s\n",
      "[CV] random_state=0, penalty=l2, C=10 ................................\n",
      "[CV] ................. random_state=0, penalty=l2, C=10, total=   0.0s\n",
      "[CV] random_state=0, penalty=l2, C=10 ................................\n",
      "[CV] ................. random_state=0, penalty=l2, C=10, total=   0.0s\n",
      "[CV] random_state=0, penalty=l2, C=10 ................................\n",
      "[CV] ................. random_state=0, penalty=l2, C=10, total=   0.0s\n",
      "[CV] random_state=0, penalty=l2, C=10 ................................\n",
      "[CV] ................. random_state=0, penalty=l2, C=10, total=   0.0s\n",
      "[CV] random_state=0, penalty=l2, C=10 ................................\n",
      "[CV] ................. random_state=0, penalty=l2, C=10, total=   0.0s"
     ]
    },
    {
     "name": "stderr",
     "output_type": "stream",
     "text": [
      "C:\\Users\\nherm\\Anaconda3\\lib\\site-packages\\sklearn\\linear_model\\_logistic.py:1505: UserWarning: Setting penalty='none' will ignore the C and l1_ratio parameters\n",
      "  \"Setting penalty='none' will ignore the C and l1_ratio \"\n",
      "C:\\Users\\nherm\\Anaconda3\\lib\\site-packages\\sklearn\\linear_model\\_logistic.py:940: ConvergenceWarning: lbfgs failed to converge (status=1):\n",
      "STOP: TOTAL NO. of ITERATIONS REACHED LIMIT.\n",
      "\n",
      "Increase the number of iterations (max_iter) or scale the data as shown in:\n",
      "    https://scikit-learn.org/stable/modules/preprocessing.html\n",
      "Please also refer to the documentation for alternative solver options:\n",
      "    https://scikit-learn.org/stable/modules/linear_model.html#logistic-regression\n",
      "  extra_warning_msg=_LOGISTIC_SOLVER_CONVERGENCE_MSG)\n",
      "C:\\Users\\nherm\\Anaconda3\\lib\\site-packages\\sklearn\\linear_model\\_logistic.py:1505: UserWarning: Setting penalty='none' will ignore the C and l1_ratio parameters\n",
      "  \"Setting penalty='none' will ignore the C and l1_ratio \"\n"
     ]
    },
    {
     "name": "stdout",
     "output_type": "stream",
     "text": [
      "\n",
      "[CV] random_state=0, penalty=none, C=3 ...............................\n",
      "[CV] ................ random_state=0, penalty=none, C=3, total=   0.4s\n",
      "[CV] random_state=0, penalty=none, C=3 ...............................\n"
     ]
    },
    {
     "name": "stderr",
     "output_type": "stream",
     "text": [
      "C:\\Users\\nherm\\Anaconda3\\lib\\site-packages\\sklearn\\linear_model\\_logistic.py:940: ConvergenceWarning: lbfgs failed to converge (status=1):\n",
      "STOP: TOTAL NO. of ITERATIONS REACHED LIMIT.\n",
      "\n",
      "Increase the number of iterations (max_iter) or scale the data as shown in:\n",
      "    https://scikit-learn.org/stable/modules/preprocessing.html\n",
      "Please also refer to the documentation for alternative solver options:\n",
      "    https://scikit-learn.org/stable/modules/linear_model.html#logistic-regression\n",
      "  extra_warning_msg=_LOGISTIC_SOLVER_CONVERGENCE_MSG)\n",
      "C:\\Users\\nherm\\Anaconda3\\lib\\site-packages\\sklearn\\linear_model\\_logistic.py:1505: UserWarning: Setting penalty='none' will ignore the C and l1_ratio parameters\n",
      "  \"Setting penalty='none' will ignore the C and l1_ratio \"\n"
     ]
    },
    {
     "name": "stdout",
     "output_type": "stream",
     "text": [
      "[CV] ................ random_state=0, penalty=none, C=3, total=   0.4s\n",
      "[CV] random_state=0, penalty=none, C=3 ...............................\n"
     ]
    },
    {
     "name": "stderr",
     "output_type": "stream",
     "text": [
      "C:\\Users\\nherm\\Anaconda3\\lib\\site-packages\\sklearn\\linear_model\\_logistic.py:940: ConvergenceWarning: lbfgs failed to converge (status=1):\n",
      "STOP: TOTAL NO. of ITERATIONS REACHED LIMIT.\n",
      "\n",
      "Increase the number of iterations (max_iter) or scale the data as shown in:\n",
      "    https://scikit-learn.org/stable/modules/preprocessing.html\n",
      "Please also refer to the documentation for alternative solver options:\n",
      "    https://scikit-learn.org/stable/modules/linear_model.html#logistic-regression\n",
      "  extra_warning_msg=_LOGISTIC_SOLVER_CONVERGENCE_MSG)\n",
      "C:\\Users\\nherm\\Anaconda3\\lib\\site-packages\\sklearn\\linear_model\\_logistic.py:1505: UserWarning: Setting penalty='none' will ignore the C and l1_ratio parameters\n",
      "  \"Setting penalty='none' will ignore the C and l1_ratio \"\n"
     ]
    },
    {
     "name": "stdout",
     "output_type": "stream",
     "text": [
      "[CV] ................ random_state=0, penalty=none, C=3, total=   0.4s\n",
      "[CV] random_state=0, penalty=none, C=3 ...............................\n",
      "[CV] ................ random_state=0, penalty=none, C=3, total=   0.4s\n",
      "[CV] random_state=0, penalty=none, C=3 ...............................\n"
     ]
    },
    {
     "name": "stderr",
     "output_type": "stream",
     "text": [
      "C:\\Users\\nherm\\Anaconda3\\lib\\site-packages\\sklearn\\linear_model\\_logistic.py:1505: UserWarning: Setting penalty='none' will ignore the C and l1_ratio parameters\n",
      "  \"Setting penalty='none' will ignore the C and l1_ratio \"\n",
      "C:\\Users\\nherm\\Anaconda3\\lib\\site-packages\\sklearn\\linear_model\\_logistic.py:940: ConvergenceWarning: lbfgs failed to converge (status=1):\n",
      "STOP: TOTAL NO. of ITERATIONS REACHED LIMIT.\n",
      "\n",
      "Increase the number of iterations (max_iter) or scale the data as shown in:\n",
      "    https://scikit-learn.org/stable/modules/preprocessing.html\n",
      "Please also refer to the documentation for alternative solver options:\n",
      "    https://scikit-learn.org/stable/modules/linear_model.html#logistic-regression\n",
      "  extra_warning_msg=_LOGISTIC_SOLVER_CONVERGENCE_MSG)\n",
      "C:\\Users\\nherm\\Anaconda3\\lib\\site-packages\\sklearn\\model_selection\\_validation.py:536: FitFailedWarning: Estimator fit failed. The score on this train-test partition for these parameters will be set to nan. Details: \n",
      "ValueError: Solver lbfgs supports only 'l2' or 'none' penalties, got elasticnet penalty.\n",
      "\n",
      "  FitFailedWarning)\n",
      "C:\\Users\\nherm\\Anaconda3\\lib\\site-packages\\sklearn\\linear_model\\_logistic.py:1505: UserWarning: Setting penalty='none' will ignore the C and l1_ratio parameters\n",
      "  \"Setting penalty='none' will ignore the C and l1_ratio \"\n"
     ]
    },
    {
     "name": "stdout",
     "output_type": "stream",
     "text": [
      "[CV] ................ random_state=0, penalty=none, C=3, total=   0.3s\n",
      "[CV] random_state=0, penalty=elasticnet, C=15 ........................\n",
      "[CV] ......... random_state=0, penalty=elasticnet, C=15, total=   0.0s\n",
      "[CV] random_state=0, penalty=elasticnet, C=15 ........................\n",
      "[CV] ......... random_state=0, penalty=elasticnet, C=15, total=   0.0s\n",
      "[CV] random_state=0, penalty=elasticnet, C=15 ........................\n",
      "[CV] ......... random_state=0, penalty=elasticnet, C=15, total=   0.0s\n",
      "[CV] random_state=0, penalty=elasticnet, C=15 ........................\n",
      "[CV] ......... random_state=0, penalty=elasticnet, C=15, total=   0.0s\n",
      "[CV] random_state=0, penalty=elasticnet, C=15 ........................\n",
      "[CV] ......... random_state=0, penalty=elasticnet, C=15, total=   0.0s\n",
      "[CV] random_state=0, penalty=none, C=20 ..............................\n"
     ]
    },
    {
     "name": "stderr",
     "output_type": "stream",
     "text": [
      "C:\\Users\\nherm\\Anaconda3\\lib\\site-packages\\sklearn\\linear_model\\_logistic.py:940: ConvergenceWarning: lbfgs failed to converge (status=1):\n",
      "STOP: TOTAL NO. of ITERATIONS REACHED LIMIT.\n",
      "\n",
      "Increase the number of iterations (max_iter) or scale the data as shown in:\n",
      "    https://scikit-learn.org/stable/modules/preprocessing.html\n",
      "Please also refer to the documentation for alternative solver options:\n",
      "    https://scikit-learn.org/stable/modules/linear_model.html#logistic-regression\n",
      "  extra_warning_msg=_LOGISTIC_SOLVER_CONVERGENCE_MSG)\n",
      "C:\\Users\\nherm\\Anaconda3\\lib\\site-packages\\sklearn\\linear_model\\_logistic.py:1505: UserWarning: Setting penalty='none' will ignore the C and l1_ratio parameters\n",
      "  \"Setting penalty='none' will ignore the C and l1_ratio \"\n"
     ]
    },
    {
     "name": "stdout",
     "output_type": "stream",
     "text": [
      "[CV] ............... random_state=0, penalty=none, C=20, total=   0.3s\n",
      "[CV] random_state=0, penalty=none, C=20 ..............................\n"
     ]
    },
    {
     "name": "stderr",
     "output_type": "stream",
     "text": [
      "C:\\Users\\nherm\\Anaconda3\\lib\\site-packages\\sklearn\\linear_model\\_logistic.py:940: ConvergenceWarning: lbfgs failed to converge (status=1):\n",
      "STOP: TOTAL NO. of ITERATIONS REACHED LIMIT.\n",
      "\n",
      "Increase the number of iterations (max_iter) or scale the data as shown in:\n",
      "    https://scikit-learn.org/stable/modules/preprocessing.html\n",
      "Please also refer to the documentation for alternative solver options:\n",
      "    https://scikit-learn.org/stable/modules/linear_model.html#logistic-regression\n",
      "  extra_warning_msg=_LOGISTIC_SOLVER_CONVERGENCE_MSG)\n",
      "C:\\Users\\nherm\\Anaconda3\\lib\\site-packages\\sklearn\\linear_model\\_logistic.py:1505: UserWarning: Setting penalty='none' will ignore the C and l1_ratio parameters\n",
      "  \"Setting penalty='none' will ignore the C and l1_ratio \"\n"
     ]
    },
    {
     "name": "stdout",
     "output_type": "stream",
     "text": [
      "[CV] ............... random_state=0, penalty=none, C=20, total=   0.5s\n",
      "[CV] random_state=0, penalty=none, C=20 ..............................\n"
     ]
    },
    {
     "name": "stderr",
     "output_type": "stream",
     "text": [
      "C:\\Users\\nherm\\Anaconda3\\lib\\site-packages\\sklearn\\linear_model\\_logistic.py:940: ConvergenceWarning: lbfgs failed to converge (status=1):\n",
      "STOP: TOTAL NO. of ITERATIONS REACHED LIMIT.\n",
      "\n",
      "Increase the number of iterations (max_iter) or scale the data as shown in:\n",
      "    https://scikit-learn.org/stable/modules/preprocessing.html\n",
      "Please also refer to the documentation for alternative solver options:\n",
      "    https://scikit-learn.org/stable/modules/linear_model.html#logistic-regression\n",
      "  extra_warning_msg=_LOGISTIC_SOLVER_CONVERGENCE_MSG)\n",
      "C:\\Users\\nherm\\Anaconda3\\lib\\site-packages\\sklearn\\linear_model\\_logistic.py:1505: UserWarning: Setting penalty='none' will ignore the C and l1_ratio parameters\n",
      "  \"Setting penalty='none' will ignore the C and l1_ratio \"\n"
     ]
    },
    {
     "name": "stdout",
     "output_type": "stream",
     "text": [
      "[CV] ............... random_state=0, penalty=none, C=20, total=   0.4s\n",
      "[CV] random_state=0, penalty=none, C=20 ..............................\n",
      "[CV] ............... random_state=0, penalty=none, C=20, total=   0.4s\n",
      "[CV] random_state=0, penalty=none, C=20 ..............................\n"
     ]
    },
    {
     "name": "stderr",
     "output_type": "stream",
     "text": [
      "C:\\Users\\nherm\\Anaconda3\\lib\\site-packages\\sklearn\\linear_model\\_logistic.py:1505: UserWarning: Setting penalty='none' will ignore the C and l1_ratio parameters\n",
      "  \"Setting penalty='none' will ignore the C and l1_ratio \"\n",
      "C:\\Users\\nherm\\Anaconda3\\lib\\site-packages\\sklearn\\linear_model\\_logistic.py:940: ConvergenceWarning: lbfgs failed to converge (status=1):\n",
      "STOP: TOTAL NO. of ITERATIONS REACHED LIMIT.\n",
      "\n",
      "Increase the number of iterations (max_iter) or scale the data as shown in:\n",
      "    https://scikit-learn.org/stable/modules/preprocessing.html\n",
      "Please also refer to the documentation for alternative solver options:\n",
      "    https://scikit-learn.org/stable/modules/linear_model.html#logistic-regression\n",
      "  extra_warning_msg=_LOGISTIC_SOLVER_CONVERGENCE_MSG)\n",
      "C:\\Users\\nherm\\Anaconda3\\lib\\site-packages\\sklearn\\model_selection\\_validation.py:536: FitFailedWarning: Estimator fit failed. The score on this train-test partition for these parameters will be set to nan. Details: \n",
      "ValueError: Solver lbfgs supports only 'l2' or 'none' penalties, got l1 penalty.\n",
      "\n",
      "  FitFailedWarning)\n",
      "C:\\Users\\nherm\\Anaconda3\\lib\\site-packages\\sklearn\\linear_model\\_logistic.py:1505: UserWarning: Setting penalty='none' will ignore the C and l1_ratio parameters\n",
      "  \"Setting penalty='none' will ignore the C and l1_ratio \"\n"
     ]
    },
    {
     "name": "stdout",
     "output_type": "stream",
     "text": [
      "[CV] ............... random_state=0, penalty=none, C=20, total=   0.4s\n",
      "[CV] random_state=0, penalty=l1, C=12 ................................\n",
      "[CV] ................. random_state=0, penalty=l1, C=12, total=   0.0s\n",
      "[CV] random_state=0, penalty=l1, C=12 ................................\n",
      "[CV] ................. random_state=0, penalty=l1, C=12, total=   0.0s\n",
      "[CV] random_state=0, penalty=l1, C=12 ................................\n",
      "[CV] ................. random_state=0, penalty=l1, C=12, total=   0.0s\n",
      "[CV] random_state=0, penalty=l1, C=12 ................................\n",
      "[CV] ................. random_state=0, penalty=l1, C=12, total=   0.0s\n",
      "[CV] random_state=0, penalty=l1, C=12 ................................\n",
      "[CV] ................. random_state=0, penalty=l1, C=12, total=   0.0s\n",
      "[CV] random_state=0, penalty=none, C=9 ...............................\n"
     ]
    },
    {
     "name": "stderr",
     "output_type": "stream",
     "text": [
      "C:\\Users\\nherm\\Anaconda3\\lib\\site-packages\\sklearn\\linear_model\\_logistic.py:940: ConvergenceWarning: lbfgs failed to converge (status=1):\n",
      "STOP: TOTAL NO. of ITERATIONS REACHED LIMIT.\n",
      "\n",
      "Increase the number of iterations (max_iter) or scale the data as shown in:\n",
      "    https://scikit-learn.org/stable/modules/preprocessing.html\n",
      "Please also refer to the documentation for alternative solver options:\n",
      "    https://scikit-learn.org/stable/modules/linear_model.html#logistic-regression\n",
      "  extra_warning_msg=_LOGISTIC_SOLVER_CONVERGENCE_MSG)\n",
      "C:\\Users\\nherm\\Anaconda3\\lib\\site-packages\\sklearn\\linear_model\\_logistic.py:1505: UserWarning: Setting penalty='none' will ignore the C and l1_ratio parameters\n",
      "  \"Setting penalty='none' will ignore the C and l1_ratio \"\n"
     ]
    },
    {
     "name": "stdout",
     "output_type": "stream",
     "text": [
      "[CV] ................ random_state=0, penalty=none, C=9, total=   0.4s\n",
      "[CV] random_state=0, penalty=none, C=9 ...............................\n"
     ]
    },
    {
     "name": "stderr",
     "output_type": "stream",
     "text": [
      "C:\\Users\\nherm\\Anaconda3\\lib\\site-packages\\sklearn\\linear_model\\_logistic.py:940: ConvergenceWarning: lbfgs failed to converge (status=1):\n",
      "STOP: TOTAL NO. of ITERATIONS REACHED LIMIT.\n",
      "\n",
      "Increase the number of iterations (max_iter) or scale the data as shown in:\n",
      "    https://scikit-learn.org/stable/modules/preprocessing.html\n",
      "Please also refer to the documentation for alternative solver options:\n",
      "    https://scikit-learn.org/stable/modules/linear_model.html#logistic-regression\n",
      "  extra_warning_msg=_LOGISTIC_SOLVER_CONVERGENCE_MSG)\n",
      "C:\\Users\\nherm\\Anaconda3\\lib\\site-packages\\sklearn\\linear_model\\_logistic.py:1505: UserWarning: Setting penalty='none' will ignore the C and l1_ratio parameters\n",
      "  \"Setting penalty='none' will ignore the C and l1_ratio \"\n"
     ]
    },
    {
     "name": "stdout",
     "output_type": "stream",
     "text": [
      "[CV] ................ random_state=0, penalty=none, C=9, total=   0.4s\n",
      "[CV] random_state=0, penalty=none, C=9 ...............................\n"
     ]
    },
    {
     "name": "stderr",
     "output_type": "stream",
     "text": [
      "C:\\Users\\nherm\\Anaconda3\\lib\\site-packages\\sklearn\\linear_model\\_logistic.py:940: ConvergenceWarning: lbfgs failed to converge (status=1):\n",
      "STOP: TOTAL NO. of ITERATIONS REACHED LIMIT.\n",
      "\n",
      "Increase the number of iterations (max_iter) or scale the data as shown in:\n",
      "    https://scikit-learn.org/stable/modules/preprocessing.html\n",
      "Please also refer to the documentation for alternative solver options:\n",
      "    https://scikit-learn.org/stable/modules/linear_model.html#logistic-regression\n",
      "  extra_warning_msg=_LOGISTIC_SOLVER_CONVERGENCE_MSG)\n",
      "C:\\Users\\nherm\\Anaconda3\\lib\\site-packages\\sklearn\\linear_model\\_logistic.py:1505: UserWarning: Setting penalty='none' will ignore the C and l1_ratio parameters\n",
      "  \"Setting penalty='none' will ignore the C and l1_ratio \"\n"
     ]
    },
    {
     "name": "stdout",
     "output_type": "stream",
     "text": [
      "[CV] ................ random_state=0, penalty=none, C=9, total=   0.4s\n",
      "[CV] random_state=0, penalty=none, C=9 ...............................\n",
      "[CV] ................ random_state=0, penalty=none, C=9, total=   0.4s\n",
      "[CV] random_state=0, penalty=none, C=9 ...............................\n"
     ]
    },
    {
     "name": "stderr",
     "output_type": "stream",
     "text": [
      "C:\\Users\\nherm\\Anaconda3\\lib\\site-packages\\sklearn\\linear_model\\_logistic.py:1505: UserWarning: Setting penalty='none' will ignore the C and l1_ratio parameters\n",
      "  \"Setting penalty='none' will ignore the C and l1_ratio \"\n"
     ]
    },
    {
     "name": "stdout",
     "output_type": "stream",
     "text": [
      "[CV] ................ random_state=0, penalty=none, C=9, total=   0.4s\n",
      "[CV] random_state=0, penalty=elasticnet, C=8 .........................\n",
      "[CV] .......... random_state=0, penalty=elasticnet, C=8, total=   0.0s\n",
      "[CV] random_state=0, penalty=elasticnet, C=8 .........................\n",
      "[CV] .......... random_state=0, penalty=elasticnet, C=8, total=   0.0s\n",
      "[CV] random_state=0, penalty=elasticnet, C=8 .........................\n",
      "[CV] .......... random_state=0, penalty=elasticnet, C=8, total=   0.0s\n",
      "[CV] random_state=0, penalty=elasticnet, C=8 .........................\n",
      "[CV] .......... random_state=0, penalty=elasticnet, C=8, total=   0.0s\n",
      "[CV] random_state=0, penalty=elasticnet, C=8 .........................\n",
      "[CV] .......... random_state=0, penalty=elasticnet, C=8, total=   0.0s\n",
      "Accuracy: 94.93%\n",
      "Precision: 0.99\n",
      "Recall: 0.90\n",
      "F-1: 0.95\n"
     ]
    },
    {
     "name": "stderr",
     "output_type": "stream",
     "text": [
      "C:\\Users\\nherm\\Anaconda3\\lib\\site-packages\\sklearn\\linear_model\\_logistic.py:940: ConvergenceWarning: lbfgs failed to converge (status=1):\n",
      "STOP: TOTAL NO. of ITERATIONS REACHED LIMIT.\n",
      "\n",
      "Increase the number of iterations (max_iter) or scale the data as shown in:\n",
      "    https://scikit-learn.org/stable/modules/preprocessing.html\n",
      "Please also refer to the documentation for alternative solver options:\n",
      "    https://scikit-learn.org/stable/modules/linear_model.html#logistic-regression\n",
      "  extra_warning_msg=_LOGISTIC_SOLVER_CONVERGENCE_MSG)\n",
      "C:\\Users\\nherm\\Anaconda3\\lib\\site-packages\\sklearn\\model_selection\\_validation.py:536: FitFailedWarning: Estimator fit failed. The score on this train-test partition for these parameters will be set to nan. Details: \n",
      "ValueError: Solver lbfgs supports only 'l2' or 'none' penalties, got elasticnet penalty.\n",
      "\n",
      "  FitFailedWarning)\n",
      "[Parallel(n_jobs=1)]: Done  50 out of  50 | elapsed:    7.9s finished\n"
     ]
    }
   ],
   "source": [
    "#from sklearn.model_selection import RandomizedSearchCV\n",
    "#We create a dictinnay containing the parameters we would like to adjust as the keys and then the values \n",
    "#we would like to try as the values of the dict\n",
    "penalties = np.arange(1,21,1)\n",
    "grid={\"C\":penalties,\n",
    "      \"penalty\":[\"l1\", \"l2\", \"elasticnet\", \"none\"],\n",
    "      \"random_state\":[0]}\n",
    "#...\n",
    "clf= LogisticRegression(max_iter=1000)\n",
    "#rsCV\n",
    "rscv_clf = RandomizedSearchCV(estimator=clf,\n",
    "                             param_distributions=grid,\n",
    "                             n_iter=10,#number of model to try\n",
    "                             cv=5,\n",
    "                             verbose=2)\n",
    "#fit the RandomizedSearchCv version of clf\n",
    "rscv_clf.fit(X_train, y_train)\n",
    "#Make prediction with the best hyperparameters\n",
    "rscv_y_pred = rscv_clf.predict(X_test)\n",
    "#We evaluate the prediction\n",
    "rscv_metrics = evaluate_preds(y_test, rscv_y_pred)"
   ]
  },
  {
   "cell_type": "code",
   "execution_count": 14,
   "metadata": {},
   "outputs": [
    {
     "data": {
      "text/plain": [
       "{'random_state': 0, 'penalty': 'l2', 'C': 10}"
      ]
     },
     "execution_count": 14,
     "metadata": {},
     "output_type": "execute_result"
    }
   ],
   "source": [
    "#call the estimator with the best result \n",
    "rscv_clf.best_params_"
   ]
  },
  {
   "cell_type": "markdown",
   "metadata": {},
   "source": [
    "**We used GridSearchCV to tune the optimal parameters obtained from RandomizedSearchCV**"
   ]
  },
  {
   "cell_type": "code",
   "execution_count": 15,
   "metadata": {},
   "outputs": [
    {
     "name": "stdout",
     "output_type": "stream",
     "text": [
      "Fitting 5 folds for each of 20 candidates, totalling 100 fits\n",
      "[CV] C=10.0, penalty=l2, random_state=0 ..............................\n",
      "[CV] ............... C=10.0, penalty=l2, random_state=0, total=   0.0s\n",
      "[CV] C=10.0, penalty=l2, random_state=0 ..............................\n",
      "[CV] ............... C=10.0, penalty=l2, random_state=0, total=   0.0s\n",
      "[CV] C=10.0, penalty=l2, random_state=0 ..............................\n",
      "[CV] ............... C=10.0, penalty=l2, random_state=0, total=   0.0s\n",
      "[CV] C=10.0, penalty=l2, random_state=0 ..............................\n",
      "[CV] ............... C=10.0, penalty=l2, random_state=0, total=   0.0s\n",
      "[CV] C=10.0, penalty=l2, random_state=0 ..............................\n",
      "[CV] ............... C=10.0, penalty=l2, random_state=0, total=   0.0s\n",
      "[CV] C=10.1, penalty=l2, random_state=0 ..............................\n",
      "[CV] ............... C=10.1, penalty=l2, random_state=0, total=   0.0s\n",
      "[CV] C=10.1, penalty=l2, random_state=0 ..............................\n",
      "[CV] ............... C=10.1, penalty=l2, random_state=0, total=   0.0s"
     ]
    },
    {
     "name": "stderr",
     "output_type": "stream",
     "text": [
      "[Parallel(n_jobs=1)]: Using backend SequentialBackend with 1 concurrent workers.\n",
      "[Parallel(n_jobs=1)]: Done   1 out of   1 | elapsed:    0.0s remaining:    0.0s\n"
     ]
    },
    {
     "name": "stdout",
     "output_type": "stream",
     "text": [
      "\n",
      "[CV] C=10.1, penalty=l2, random_state=0 ..............................\n",
      "[CV] ............... C=10.1, penalty=l2, random_state=0, total=   0.1s\n",
      "[CV] C=10.1, penalty=l2, random_state=0 ..............................\n",
      "[CV] ............... C=10.1, penalty=l2, random_state=0, total=   0.0s\n",
      "[CV] C=10.1, penalty=l2, random_state=0 ..............................\n",
      "[CV] ............... C=10.1, penalty=l2, random_state=0, total=   0.0s\n",
      "[CV] C=10.2, penalty=l2, random_state=0 ..............................\n",
      "[CV] ............... C=10.2, penalty=l2, random_state=0, total=   0.0s\n",
      "[CV] C=10.2, penalty=l2, random_state=0 ..............................\n",
      "[CV] ............... C=10.2, penalty=l2, random_state=0, total=   0.0s\n",
      "[CV] C=10.2, penalty=l2, random_state=0 ..............................\n",
      "[CV] ............... C=10.2, penalty=l2, random_state=0, total=   0.0s\n",
      "[CV] C=10.2, penalty=l2, random_state=0 ..............................\n",
      "[CV] ............... C=10.2, penalty=l2, random_state=0, total=   0.0s\n",
      "[CV] C=10.2, penalty=l2, random_state=0 ..............................\n",
      "[CV] ............... C=10.2, penalty=l2, random_state=0, total=   0.0s\n",
      "[CV] C=10.299999999999999, penalty=l2, random_state=0 ................\n",
      "[CV] . C=10.299999999999999, penalty=l2, random_state=0, total=   0.0s\n",
      "[CV] C=10.299999999999999, penalty=l2, random_state=0 ................\n",
      "[CV] . C=10.299999999999999, penalty=l2, random_state=0, total=   0.0s\n",
      "[CV] C=10.299999999999999, penalty=l2, random_state=0 ................\n",
      "[CV] . C=10.299999999999999, penalty=l2, random_state=0, total=   0.0s\n",
      "[CV] C=10.299999999999999, penalty=l2, random_state=0 ................\n",
      "[CV] . C=10.299999999999999, penalty=l2, random_state=0, total=   0.0s\n",
      "[CV] C=10.299999999999999, penalty=l2, random_state=0 ................\n",
      "[CV] . C=10.299999999999999, penalty=l2, random_state=0, total=   0.0s\n",
      "[CV] C=10.399999999999999, penalty=l2, random_state=0 ................\n",
      "[CV] . C=10.399999999999999, penalty=l2, random_state=0, total=   0.0s\n",
      "[CV] C=10.399999999999999, penalty=l2, random_state=0 ................\n",
      "[CV] . C=10.399999999999999, penalty=l2, random_state=0, total=   0.0s\n",
      "[CV] C=10.399999999999999, penalty=l2, random_state=0 ................\n",
      "[CV] . C=10.399999999999999, penalty=l2, random_state=0, total=   0.0s\n",
      "[CV] C=10.399999999999999, penalty=l2, random_state=0 ................\n",
      "[CV] . C=10.399999999999999, penalty=l2, random_state=0, total=   0.0s\n",
      "[CV] C=10.399999999999999, penalty=l2, random_state=0 ................\n",
      "[CV] . C=10.399999999999999, penalty=l2, random_state=0, total=   0.0s\n",
      "[CV] C=10.499999999999998, penalty=l2, random_state=0 ................\n",
      "[CV] . C=10.499999999999998, penalty=l2, random_state=0, total=   0.0s\n",
      "[CV] C=10.499999999999998, penalty=l2, random_state=0 ................\n",
      "[CV] . C=10.499999999999998, penalty=l2, random_state=0, total=   0.0s\n",
      "[CV] C=10.499999999999998, penalty=l2, random_state=0 ................\n",
      "[CV] . C=10.499999999999998, penalty=l2, random_state=0, total=   0.0s\n",
      "[CV] C=10.499999999999998, penalty=l2, random_state=0 ................\n",
      "[CV] . C=10.499999999999998, penalty=l2, random_state=0, total=   0.0s\n",
      "[CV] C=10.499999999999998, penalty=l2, random_state=0 ................\n",
      "[CV] . C=10.499999999999998, penalty=l2, random_state=0, total=   0.0s\n",
      "[CV] C=10.599999999999998, penalty=l2, random_state=0 ................\n",
      "[CV] . C=10.599999999999998, penalty=l2, random_state=0, total=   0.0s\n",
      "[CV] C=10.599999999999998, penalty=l2, random_state=0 ................\n",
      "[CV] . C=10.599999999999998, penalty=l2, random_state=0, total=   0.0s\n",
      "[CV] C=10.599999999999998, penalty=l2, random_state=0 ................\n",
      "[CV] . C=10.599999999999998, penalty=l2, random_state=0, total=   0.0s\n",
      "[CV] C=10.599999999999998, penalty=l2, random_state=0 ................\n",
      "[CV] . C=10.599999999999998, penalty=l2, random_state=0, total=   0.0s\n",
      "[CV] C=10.599999999999998, penalty=l2, random_state=0 ................\n",
      "[CV] . C=10.599999999999998, penalty=l2, random_state=0, total=   0.0s\n",
      "[CV] C=10.699999999999998, penalty=l2, random_state=0 ................\n",
      "[CV] . C=10.699999999999998, penalty=l2, random_state=0, total=   0.0s\n",
      "[CV] C=10.699999999999998, penalty=l2, random_state=0 ................\n",
      "[CV] . C=10.699999999999998, penalty=l2, random_state=0, total=   0.0s\n",
      "[CV] C=10.699999999999998, penalty=l2, random_state=0 ................\n",
      "[CV] . C=10.699999999999998, penalty=l2, random_state=0, total=   0.0s\n",
      "[CV] C=10.699999999999998, penalty=l2, random_state=0 ................\n",
      "[CV] . C=10.699999999999998, penalty=l2, random_state=0, total=   0.0s\n",
      "[CV] C=10.699999999999998, penalty=l2, random_state=0 ................\n",
      "[CV] . C=10.699999999999998, penalty=l2, random_state=0, total=   0.0s\n",
      "[CV] C=10.799999999999997, penalty=l2, random_state=0 ................\n",
      "[CV] . C=10.799999999999997, penalty=l2, random_state=0, total=   0.0s\n",
      "[CV] C=10.799999999999997, penalty=l2, random_state=0 ................\n",
      "[CV] . C=10.799999999999997, penalty=l2, random_state=0, total=   0.0s\n",
      "[CV] C=10.799999999999997, penalty=l2, random_state=0 ................\n",
      "[CV] . C=10.799999999999997, penalty=l2, random_state=0, total=   0.0s\n",
      "[CV] C=10.799999999999997, penalty=l2, random_state=0 ................\n",
      "[CV] . C=10.799999999999997, penalty=l2, random_state=0, total=   0.0s\n",
      "[CV] C=10.799999999999997, penalty=l2, random_state=0 ................\n",
      "[CV] . C=10.799999999999997, penalty=l2, random_state=0, total=   0.0s\n",
      "[CV] C=10.899999999999997, penalty=l2, random_state=0 ................\n",
      "[CV] . C=10.899999999999997, penalty=l2, random_state=0, total=   0.0s\n",
      "[CV] C=10.899999999999997, penalty=l2, random_state=0 ................\n",
      "[CV] . C=10.899999999999997, penalty=l2, random_state=0, total=   0.0s\n",
      "[CV] C=10.899999999999997, penalty=l2, random_state=0 ................\n",
      "[CV] . C=10.899999999999997, penalty=l2, random_state=0, total=   0.0s\n",
      "[CV] C=10.899999999999997, penalty=l2, random_state=0 ................\n",
      "[CV] . C=10.899999999999997, penalty=l2, random_state=0, total=   0.0s\n",
      "[CV] C=10.899999999999997, penalty=l2, random_state=0 ................\n",
      "[CV] . C=10.899999999999997, penalty=l2, random_state=0, total=   0.0s\n",
      "[CV] C=10.999999999999996, penalty=l2, random_state=0 ................\n",
      "[CV] . C=10.999999999999996, penalty=l2, random_state=0, total=   0.0s\n",
      "[CV] C=10.999999999999996, penalty=l2, random_state=0 ................\n",
      "[CV] . C=10.999999999999996, penalty=l2, random_state=0, total=   0.0s\n",
      "[CV] C=10.999999999999996, penalty=l2, random_state=0 ................\n",
      "[CV] . C=10.999999999999996, penalty=l2, random_state=0, total=   0.0s\n",
      "[CV] C=10.999999999999996, penalty=l2, random_state=0 ................\n",
      "[CV] . C=10.999999999999996, penalty=l2, random_state=0, total=   0.0s\n",
      "[CV] C=10.999999999999996, penalty=l2, random_state=0 ................\n",
      "[CV] . C=10.999999999999996, penalty=l2, random_state=0, total=   0.0s\n",
      "[CV] C=11.099999999999996, penalty=l2, random_state=0 ................\n",
      "[CV] . C=11.099999999999996, penalty=l2, random_state=0, total=   0.0s\n",
      "[CV] C=11.099999999999996, penalty=l2, random_state=0 ................\n",
      "[CV] . C=11.099999999999996, penalty=l2, random_state=0, total=   0.0s\n",
      "[CV] C=11.099999999999996, penalty=l2, random_state=0 ................\n",
      "[CV] . C=11.099999999999996, penalty=l2, random_state=0, total=   0.0s\n",
      "[CV] C=11.099999999999996, penalty=l2, random_state=0 ................\n",
      "[CV] . C=11.099999999999996, penalty=l2, random_state=0, total=   0.0s\n",
      "[CV] C=11.099999999999996, penalty=l2, random_state=0 ................\n",
      "[CV] . C=11.099999999999996, penalty=l2, random_state=0, total=   0.0s\n",
      "[CV] C=11.199999999999996, penalty=l2, random_state=0 ................\n",
      "[CV] . C=11.199999999999996, penalty=l2, random_state=0, total=   0.0s\n",
      "[CV] C=11.199999999999996, penalty=l2, random_state=0 ................\n",
      "[CV] . C=11.199999999999996, penalty=l2, random_state=0, total=   0.0s\n",
      "[CV] C=11.199999999999996, penalty=l2, random_state=0 ................\n",
      "[CV] . C=11.199999999999996, penalty=l2, random_state=0, total=   0.0s\n",
      "[CV] C=11.199999999999996, penalty=l2, random_state=0 ................\n",
      "[CV] . C=11.199999999999996, penalty=l2, random_state=0, total=   0.0s\n",
      "[CV] C=11.199999999999996, penalty=l2, random_state=0 ................\n",
      "[CV] . C=11.199999999999996, penalty=l2, random_state=0, total=   0.0s\n",
      "[CV] C=11.299999999999995, penalty=l2, random_state=0 ................\n",
      "[CV] . C=11.299999999999995, penalty=l2, random_state=0, total=   0.0s\n",
      "[CV] C=11.299999999999995, penalty=l2, random_state=0 ................\n",
      "[CV] . C=11.299999999999995, penalty=l2, random_state=0, total=   0.0s\n",
      "[CV] C=11.299999999999995, penalty=l2, random_state=0 ................\n",
      "[CV] . C=11.299999999999995, penalty=l2, random_state=0, total=   0.0s\n",
      "[CV] C=11.299999999999995, penalty=l2, random_state=0 ................\n",
      "[CV] . C=11.299999999999995, penalty=l2, random_state=0, total=   0.0s\n",
      "[CV] C=11.299999999999995, penalty=l2, random_state=0 ................\n",
      "[CV] . C=11.299999999999995, penalty=l2, random_state=0, total=   0.0s\n",
      "[CV] C=11.399999999999995, penalty=l2, random_state=0 ................\n"
     ]
    },
    {
     "name": "stdout",
     "output_type": "stream",
     "text": [
      "[CV] . C=11.399999999999995, penalty=l2, random_state=0, total=   0.0s\n",
      "[CV] C=11.399999999999995, penalty=l2, random_state=0 ................\n",
      "[CV] . C=11.399999999999995, penalty=l2, random_state=0, total=   0.0s\n",
      "[CV] C=11.399999999999995, penalty=l2, random_state=0 ................\n",
      "[CV] . C=11.399999999999995, penalty=l2, random_state=0, total=   0.0s\n",
      "[CV] C=11.399999999999995, penalty=l2, random_state=0 ................\n",
      "[CV] . C=11.399999999999995, penalty=l2, random_state=0, total=   0.0s\n",
      "[CV] C=11.399999999999995, penalty=l2, random_state=0 ................\n",
      "[CV] . C=11.399999999999995, penalty=l2, random_state=0, total=   0.0s\n",
      "[CV] C=11.499999999999995, penalty=l2, random_state=0 ................\n",
      "[CV] . C=11.499999999999995, penalty=l2, random_state=0, total=   0.0s\n",
      "[CV] C=11.499999999999995, penalty=l2, random_state=0 ................\n",
      "[CV] . C=11.499999999999995, penalty=l2, random_state=0, total=   0.0s\n",
      "[CV] C=11.499999999999995, penalty=l2, random_state=0 ................\n",
      "[CV] . C=11.499999999999995, penalty=l2, random_state=0, total=   0.0s\n",
      "[CV] C=11.499999999999995, penalty=l2, random_state=0 ................\n",
      "[CV] . C=11.499999999999995, penalty=l2, random_state=0, total=   0.0s\n",
      "[CV] C=11.499999999999995, penalty=l2, random_state=0 ................\n",
      "[CV] . C=11.499999999999995, penalty=l2, random_state=0, total=   0.0s\n",
      "[CV] C=11.599999999999994, penalty=l2, random_state=0 ................\n",
      "[CV] . C=11.599999999999994, penalty=l2, random_state=0, total=   0.0s\n",
      "[CV] C=11.599999999999994, penalty=l2, random_state=0 ................\n",
      "[CV] . C=11.599999999999994, penalty=l2, random_state=0, total=   0.0s\n",
      "[CV] C=11.599999999999994, penalty=l2, random_state=0 ................\n",
      "[CV] . C=11.599999999999994, penalty=l2, random_state=0, total=   0.0s\n",
      "[CV] C=11.599999999999994, penalty=l2, random_state=0 ................\n",
      "[CV] . C=11.599999999999994, penalty=l2, random_state=0, total=   0.0s\n",
      "[CV] C=11.599999999999994, penalty=l2, random_state=0 ................\n",
      "[CV] . C=11.599999999999994, penalty=l2, random_state=0, total=   0.0s\n",
      "[CV] C=11.699999999999994, penalty=l2, random_state=0 ................\n",
      "[CV] . C=11.699999999999994, penalty=l2, random_state=0, total=   0.0s\n",
      "[CV] C=11.699999999999994, penalty=l2, random_state=0 ................\n",
      "[CV] . C=11.699999999999994, penalty=l2, random_state=0, total=   0.0s\n",
      "[CV] C=11.699999999999994, penalty=l2, random_state=0 ................\n",
      "[CV] . C=11.699999999999994, penalty=l2, random_state=0, total=   0.0s\n",
      "[CV] C=11.699999999999994, penalty=l2, random_state=0 ................\n",
      "[CV] . C=11.699999999999994, penalty=l2, random_state=0, total=   0.0s\n",
      "[CV] C=11.699999999999994, penalty=l2, random_state=0 ................\n",
      "[CV] . C=11.699999999999994, penalty=l2, random_state=0, total=   0.0s\n",
      "[CV] C=11.799999999999994, penalty=l2, random_state=0 ................\n",
      "[CV] . C=11.799999999999994, penalty=l2, random_state=0, total=   0.0s\n",
      "[CV] C=11.799999999999994, penalty=l2, random_state=0 ................\n",
      "[CV] . C=11.799999999999994, penalty=l2, random_state=0, total=   0.0s\n",
      "[CV] C=11.799999999999994, penalty=l2, random_state=0 ................\n",
      "[CV] . C=11.799999999999994, penalty=l2, random_state=0, total=   0.0s\n",
      "[CV] C=11.799999999999994, penalty=l2, random_state=0 ................\n",
      "[CV] . C=11.799999999999994, penalty=l2, random_state=0, total=   0.0s\n",
      "[CV] C=11.799999999999994, penalty=l2, random_state=0 ................\n",
      "[CV] . C=11.799999999999994, penalty=l2, random_state=0, total=   0.0s\n",
      "[CV] C=11.899999999999993, penalty=l2, random_state=0 ................\n",
      "[CV] . C=11.899999999999993, penalty=l2, random_state=0, total=   0.0s\n",
      "[CV] C=11.899999999999993, penalty=l2, random_state=0 ................\n",
      "[CV] . C=11.899999999999993, penalty=l2, random_state=0, total=   0.0s\n",
      "[CV] C=11.899999999999993, penalty=l2, random_state=0 ................\n",
      "[CV] . C=11.899999999999993, penalty=l2, random_state=0, total=   0.0s\n",
      "[CV] C=11.899999999999993, penalty=l2, random_state=0 ................\n",
      "[CV] . C=11.899999999999993, penalty=l2, random_state=0, total=   0.0s\n",
      "[CV] C=11.899999999999993, penalty=l2, random_state=0 ................\n",
      "[CV] . C=11.899999999999993, penalty=l2, random_state=0, total=   0.0s\n",
      "Accuracy: 94.93%\n",
      "Precision: 0.99\n",
      "Recall: 0.90\n",
      "F-1: 0.95\n"
     ]
    },
    {
     "name": "stderr",
     "output_type": "stream",
     "text": [
      "[Parallel(n_jobs=1)]: Done 100 out of 100 | elapsed:    3.0s finished\n"
     ]
    }
   ],
   "source": [
    "#We take the best parameters previously obtained\n",
    "#grid2 = best parameters grid 1\n",
    "penalties = np.arange(10,12,0.1)\n",
    "grid_2={\"C\":penalties,\n",
    "        \"random_state\":[0],\n",
    "        \"penalty\":[\"l2\"]}\n",
    "\n",
    "clf= LogisticRegression(max_iter=1000)\n",
    "#rsCV\n",
    "gscv_clf = GridSearchCV(estimator=clf,\n",
    "                           param_grid=grid_2,\n",
    "                           cv=5,\n",
    "                           verbose=2)\n",
    "\n",
    "#fit the GridSearchCV version of clf\n",
    "gscv_clf.fit(X_train, y_train)\n",
    "#Make prediction with the best hyperparameters\n",
    "gscv_y_pred = gscv_clf.predict(X_test)\n",
    "#We evaluate the prediction\n",
    "gscv_metrics = evaluate_preds(y_test, gscv_y_pred)"
   ]
  },
  {
   "cell_type": "code",
   "execution_count": 16,
   "metadata": {},
   "outputs": [
    {
     "data": {
      "text/plain": [
       "{'C': 10.0, 'penalty': 'l2', 'random_state': 0}"
      ]
     },
     "execution_count": 16,
     "metadata": {},
     "output_type": "execute_result"
    }
   ],
   "source": [
    "gscv_clf.best_params_"
   ]
  },
  {
   "cell_type": "code",
   "execution_count": 22,
   "metadata": {},
   "outputs": [
    {
     "name": "stdout",
     "output_type": "stream",
     "text": [
      "Accuracy: 94.93%\n",
      "Precision: 99.24%\n",
      "Recall: 90.28%\n",
      "F-1: 94.55%\n"
     ]
    }
   ],
   "source": [
    "#To instantiate the model\n",
    "lr_clf = LogisticRegression(C=10, penalty= 'l2', random_state= 0, max_iter=1000)\n",
    "#We fit the model with the traing data\n",
    "lr_clf.fit(X_train, y_train)\n",
    "#baseline prediction\n",
    "y_pred = lr_clf.predict(X_test)\n",
    "#Evaluate the model on validation set \n",
    "gscv_metrics = evaluate_preds(y_test, y_pred)"
   ]
  },
  {
   "cell_type": "markdown",
   "metadata": {},
   "source": [
    "**Confusion Matrix**"
   ]
  },
  {
   "cell_type": "code",
   "execution_count": 19,
   "metadata": {},
   "outputs": [
    {
     "name": "stdout",
     "output_type": "stream",
     "text": [
      "Using Balanced Data\n",
      "\n",
      "\n",
      "[[151   1]\n",
      " [ 14 130]]\n",
      "\n",
      "\n",
      "              precision    recall  f1-score   support\n",
      "\n",
      "           0       0.92      0.99      0.95       152\n",
      "           1       0.99      0.90      0.95       144\n",
      "\n",
      "    accuracy                           0.95       296\n",
      "   macro avg       0.95      0.95      0.95       296\n",
      "weighted avg       0.95      0.95      0.95       296\n",
      "\n"
     ]
    }
   ],
   "source": [
    "print('Using Balanced Data')\n",
    "print('\\n')\n",
    "print(confusion_matrix(y_test,y_pred))\n",
    "print('\\n')\n",
    "print(classification_report(y_test,y_pred))"
   ]
  },
  {
   "cell_type": "code",
   "execution_count": 20,
   "metadata": {},
   "outputs": [
    {
     "data": {
      "image/png": "[encoded data removed]",
      "text/plain": [
       "<Figure size 360x360 with 1 Axes>"
      ]
     },
     "metadata": {},
     "output_type": "display_data"
    }
   ],
   "source": [
    "sns.set(rc={'figure.figsize':(5,5)})\n",
    "#Visualize cm with seaborn\n",
    "sns.set(font_scale=1.1)\n",
    "cm = confusion_matrix(y_test, y_pred)\n",
    "sns.heatmap(cm,\n",
    "           annot=True,\n",
    "           cbar=False,\n",
    "           cmap=\"RdYlGn\",\n",
    "           linewidths=0.30,\n",
    "           fmt=\"\");\n",
    "plt.xlabel(\"True Label\")\n",
    "plt.ylabel(\"Predicted Label\");"
   ]
  },
  {
   "cell_type": "markdown",
   "metadata": {},
   "source": [
    "**ROC_AUC_CURVE**"
   ]
  },
  {
   "cell_type": "code",
   "execution_count": 97,
   "metadata": {},
   "outputs": [
    {
     "name": "stdout",
     "output_type": "stream",
     "text": [
      "\n",
      " ROC_AUC_CURVE\n",
      "\n",
      "\n",
      " ROC AUC SCORE: 0.93\n",
      "\n",
      "\n"
     ]
    },
    {
     "data": {
      "image/png": "[encoded data removed]",
      "text/plain": [
       "<Figure size 360x360 with 1 Axes>"
      ]
     },
     "metadata": {},
     "output_type": "display_data"
    }
   ],
   "source": [
    "print('\\n ROC_AUC_CURVE\\n')\n",
    "logit_roc_auc = roc_auc_score(y_test, y_pred)\n",
    "print('\\n ROC AUC SCORE: %0.2f' % logit_roc_auc)\n",
    "print('\\n')\n",
    "y_prob = lr_clf.predict_proba(X_test)\n",
    "#only positive(correct) predictions\n",
    "y_prob_positive = y_prob[:, 1]\n",
    "\n",
    "fpr, tpr, thresholds = roc_curve(y_test, y_prob_positive)\n",
    "plt.figure(figsize=(5,5))\n",
    "plt.plot(fpr, tpr, label='Log Reg (AUC = %0.2f)' % logit_roc_auc)\n",
    "plt.plot([0, 1], [0, 1],'r--', label=\"Baseline\")\n",
    "plt.xlim([0.0, 1.0])\n",
    "plt.ylim([0.0, 1.05])\n",
    "plt.xlabel('False Positive Rate')\n",
    "plt.ylabel('True Positive Rate')\n",
    "plt.title('Receiver operating characteristic')\n",
    "plt.legend(loc=\"lower right\")\n",
    "plt.savefig('Log_ROC')\n",
    "plt.show()"
   ]
  },
  {
   "cell_type": "code",
   "execution_count": null,
   "metadata": {},
   "outputs": [],
   "source": []
  }
 ],
 "metadata": {
  "kernelspec": {
   "display_name": "Python 3",
   "language": "python",
   "name": "python3"
  },
  "language_info": {
   "codemirror_mode": {
    "name": "ipython",
    "version": 3
   },
   "file_extension": ".py",
   "mimetype": "text/x-python",
   "name": "python",
   "nbconvert_exporter": "python",
   "pygments_lexer": "ipython3",
   "version": "3.7.7"
  }
 },
 "nbformat": 4,
 "nbformat_minor": 4
}
